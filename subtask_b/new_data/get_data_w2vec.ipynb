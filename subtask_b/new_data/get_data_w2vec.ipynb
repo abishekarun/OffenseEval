{
  "nbformat": 4,
  "nbformat_minor": 0,
  "metadata": {
    "colab": {
      "name": "get_data_w2vec.ipynb",
      "version": "0.3.2",
      "provenance": [],
      "collapsed_sections": []
    },
    "kernelspec": {
      "name": "python3",
      "display_name": "Python 3"
    },
    "accelerator": "GPU"
  },
  "cells": [
    {
      "cell_type": "markdown",
      "metadata": {
        "_uuid": "01f361ddc47e0b386595316fe3d7f4dabbd260db",
        "id": "kRmUBTtacdy4",
        "colab_type": "text"
      },
      "source": [
        " # Using Word Embeddings for Data Augmentation"
      ]
    },
    {
      "cell_type": "code",
      "metadata": {
        "id": "F8TKstcZdPqD",
        "colab_type": "code",
        "outputId": "8855ab26-f67c-44ae-f4c9-f0282e0d1a8f",
        "colab": {
          "base_uri": "https://localhost:8080/",
          "height": 306
        }
      },
      "source": [
        "!wget http://nlp.stanford.edu/data/glove.840B.300d.zip -O temp.zip; unzip temp.zip; rm temp.zip"
      ],
      "execution_count": 0,
      "outputs": [
        {
          "output_type": "stream",
          "text": [
            "--2019-01-23 18:08:43--  http://nlp.stanford.edu/data/glove.840B.300d.zip\n",
            "Resolving nlp.stanford.edu (nlp.stanford.edu)... 171.64.67.140\n",
            "Connecting to nlp.stanford.edu (nlp.stanford.edu)|171.64.67.140|:80... connected.\n",
            "HTTP request sent, awaiting response... 302 Found\n",
            "Location: https://nlp.stanford.edu/data/glove.840B.300d.zip [following]\n",
            "--2019-01-23 18:08:43--  https://nlp.stanford.edu/data/glove.840B.300d.zip\n",
            "Connecting to nlp.stanford.edu (nlp.stanford.edu)|171.64.67.140|:443... connected.\n",
            "HTTP request sent, awaiting response... 200 OK\n",
            "Length: 2176768927 (2.0G) [application/zip]\n",
            "Saving to: ‘temp.zip’\n",
            "\n",
            "temp.zip            100%[===================>]   2.03G  36.4MB/s    in 36s     \n",
            "\n",
            "2019-01-23 18:09:20 (57.3 MB/s) - ‘temp.zip’ saved [2176768927/2176768927]\n",
            "\n",
            "Archive:  temp.zip\n",
            "  inflating: glove.840B.300d.txt     \n"
          ],
          "name": "stdout"
        }
      ]
    },
    {
      "cell_type": "code",
      "metadata": {
        "_uuid": "8f2839f25d086af736a60e9eeb907d3b93b6e0e5",
        "_cell_guid": "b1076dfc-b9ad-4769-8c92-a6c4dae69d19",
        "trusted": true,
        "id": "tu-fVZsmcdy5",
        "colab_type": "code",
        "colab": {}
      },
      "source": [
        "%%capture\n",
        "import numpy as np\n",
        "import pandas as pd\n",
        "import seaborn as sns\n",
        "import matplotlib.pyplot as plt\n",
        "from collections import Counter\n",
        "from wordcloud import WordCloud\n",
        "\n",
        "np.random.seed(100)\n",
        "import nltk\n",
        "nltk.download('popular')"
      ],
      "execution_count": 0,
      "outputs": []
    },
    {
      "cell_type": "markdown",
      "metadata": {
        "_uuid": "b1ab2f6912fca0d9ff1f9682da249d30eaf9a12d",
        "id": "v_kHgldUcdy_",
        "colab_type": "text"
      },
      "source": [
        "## Step 1 : Loading Word Embeddings"
      ]
    },
    {
      "cell_type": "code",
      "metadata": {
        "trusted": true,
        "_uuid": "f6af5a1deac4badb38248d0b407a47e549d08404",
        "id": "udVY_C8scdzA",
        "colab_type": "code",
        "colab": {}
      },
      "source": [
        "def get_coefs(word,*arr): \n",
        "    return word, np.asarray(arr, dtype='float32')\n",
        "\n",
        "def load_embedding(file):\n",
        "    if file == '../input/embeddings/wiki-news-300d-1M/wiki-news-300d-1M.vec':\n",
        "        embeddings_index = dict(get_coefs(*o.split(\" \")) for o in open(file) if len(o)>100)\n",
        "    else:\n",
        "        embeddings_index = dict(get_coefs(*o.split(\" \")) for o in open(file, encoding='latin'))\n",
        "    return embeddings_index"
      ],
      "execution_count": 0,
      "outputs": []
    },
    {
      "cell_type": "code",
      "metadata": {
        "trusted": true,
        "_uuid": "6d1c8d2172c5c0d4807b45cb1a8518ee44ee62dd",
        "id": "ck38egFGcdzE",
        "colab_type": "code",
        "colab": {}
      },
      "source": [
        "def make_embedding_matrix(embedding, tokenizer, len_voc):\n",
        "    all_embs = np.stack(embedding.values())\n",
        "    emb_mean,emb_std = all_embs.mean(), all_embs.std()\n",
        "    embed_size = all_embs.shape[1]\n",
        "    word_index = tokenizer.word_index\n",
        "    embedding_matrix = np.random.normal(emb_mean, emb_std, (len_voc, embed_size))\n",
        "    \n",
        "    for word, i in word_index.items():\n",
        "        if i >= len_voc:\n",
        "            continue\n",
        "        embedding_vector = embedding.get(word)\n",
        "        if embedding_vector is not None: \n",
        "            embedding_matrix[i] = embedding_vector\n",
        "    \n",
        "    return embedding_matrix"
      ],
      "execution_count": 0,
      "outputs": []
    },
    {
      "cell_type": "code",
      "metadata": {
        "trusted": true,
        "_uuid": "0a1d10b0b04c85cac8fb1f0d3f85a66eaf016b73",
        "id": "DodFqLBkcdzJ",
        "colab_type": "code",
        "colab": {}
      },
      "source": [
        "glove = load_embedding('glove.840B.300d.txt')"
      ],
      "execution_count": 0,
      "outputs": []
    },
    {
      "cell_type": "markdown",
      "metadata": {
        "_uuid": "63530632439404a85540565eb31c6390bddb33e9",
        "id": "69pZq2jfcdzM",
        "colab_type": "text"
      },
      "source": [
        "I'm using GloVe, because that's the embedding I got the best results with inbefore, but paragram is quite good as well.\n",
        "\n",
        "## Step 2 : Loading Data"
      ]
    },
    {
      "cell_type": "code",
      "metadata": {
        "id": "pe0xNHezfRKA",
        "colab_type": "code",
        "outputId": "c80a6760-bd19-4619-fb13-4b78c4fb16d9",
        "colab": {
          "base_uri": "https://localhost:8080/",
          "height": 34
        }
      },
      "source": [
        "from google_drive_downloader import GoogleDriveDownloader as gdd\n",
        "\n",
        "gdd.download_file_from_google_drive(file_id='1DnWHFdfNYEpvegCNNPzCWpNXUuK9t7FC',     # Id of file to be downloaded\n",
        "                                    dest_path='data/offenseval-training-v1.tsv')     # Destination path"
      ],
      "execution_count": 0,
      "outputs": [
        {
          "output_type": "stream",
          "text": [
            "Downloading 1DnWHFdfNYEpvegCNNPzCWpNXUuK9t7FC into data/offenseval-training-v1.tsv... Done.\n"
          ],
          "name": "stdout"
        }
      ]
    },
    {
      "cell_type": "code",
      "metadata": {
        "id": "ygEIOKddfLgK",
        "colab_type": "code",
        "colab": {}
      },
      "source": [
        "import pandas as pd\n",
        "df = pd.read_table(\"data/offenseval-training-v1.tsv\",sep='\\t',index_col=False, error_bad_lines=False) \n",
        "df = df.loc[df['subtask_a'] == 'OFF']\n",
        "df = df.drop(['subtask_a','subtask_c'],axis=1)"
      ],
      "execution_count": 0,
      "outputs": []
    },
    {
      "cell_type": "code",
      "metadata": {
        "id": "2P057e0PEMWK",
        "colab_type": "code",
        "colab": {}
      },
      "source": [
        "from sklearn.model_selection import train_test_split\n",
        "X_train, X_test = train_test_split(df, test_size=0.2, random_state=0, stratify=df['subtask_b'])\n",
        "df=X_train"
      ],
      "execution_count": 0,
      "outputs": []
    },
    {
      "cell_type": "code",
      "metadata": {
        "id": "ONZiusr54yNb",
        "colab_type": "code",
        "outputId": "84fe3f7e-f368-47e9-bf73-1e52fd77576d",
        "colab": {
          "base_uri": "https://localhost:8080/",
          "height": 34
        }
      },
      "source": [
        "len(list(df['tweet'].str.split(' ', expand=True).stack().unique()))"
      ],
      "execution_count": 0,
      "outputs": [
        {
          "output_type": "execute_result",
          "data": {
            "text/plain": [
              "15945"
            ]
          },
          "metadata": {
            "tags": []
          },
          "execution_count": 11
        }
      ]
    },
    {
      "cell_type": "code",
      "metadata": {
        "trusted": true,
        "_uuid": "96012bbe09075239c432cf48a204ca2a35f85c16",
        "id": "D-1_Jxl8cdzS",
        "colab_type": "code",
        "outputId": "bc4a4b06-833d-41f6-83d9-6d80ef7defdb",
        "colab": {
          "base_uri": "https://localhost:8080/",
          "height": 359
        }
      },
      "source": [
        "df.head(10)"
      ],
      "execution_count": 0,
      "outputs": [
        {
          "output_type": "execute_result",
          "data": {
            "text/html": [
              "<div>\n",
              "<style scoped>\n",
              "    .dataframe tbody tr th:only-of-type {\n",
              "        vertical-align: middle;\n",
              "    }\n",
              "\n",
              "    .dataframe tbody tr th {\n",
              "        vertical-align: top;\n",
              "    }\n",
              "\n",
              "    .dataframe thead th {\n",
              "        text-align: right;\n",
              "    }\n",
              "</style>\n",
              "<table border=\"1\" class=\"dataframe\">\n",
              "  <thead>\n",
              "    <tr style=\"text-align: right;\">\n",
              "      <th></th>\n",
              "      <th>id</th>\n",
              "      <th>tweet</th>\n",
              "      <th>subtask_b</th>\n",
              "    </tr>\n",
              "  </thead>\n",
              "  <tbody>\n",
              "    <tr>\n",
              "      <th>6974</th>\n",
              "      <td>80728</td>\n",
              "      <td>@USER Anyone else think she is a lying opportu...</td>\n",
              "      <td>TIN</td>\n",
              "    </tr>\n",
              "    <tr>\n",
              "      <th>4883</th>\n",
              "      <td>60283</td>\n",
              "      <td>@USER @USER I love women like you. We believe ...</td>\n",
              "      <td>TIN</td>\n",
              "    </tr>\n",
              "    <tr>\n",
              "      <th>5319</th>\n",
              "      <td>42541</td>\n",
              "      <td>@USER It’s a disgrace and @USER are in danger ...</td>\n",
              "      <td>TIN</td>\n",
              "    </tr>\n",
              "    <tr>\n",
              "      <th>3712</th>\n",
              "      <td>40736</td>\n",
              "      <td>@USER But I thought California had gun control</td>\n",
              "      <td>TIN</td>\n",
              "    </tr>\n",
              "    <tr>\n",
              "      <th>10228</th>\n",
              "      <td>31646</td>\n",
              "      <td>@USER Mon « bye bitches » suffisait</td>\n",
              "      <td>TIN</td>\n",
              "    </tr>\n",
              "    <tr>\n",
              "      <th>6372</th>\n",
              "      <td>43865</td>\n",
              "      <td>@USER @USER @USER @USER @USER @USER @USER @USE...</td>\n",
              "      <td>TIN</td>\n",
              "    </tr>\n",
              "    <tr>\n",
              "      <th>2640</th>\n",
              "      <td>53665</td>\n",
              "      <td>@USER @USER And not all idiots grandstands lik...</td>\n",
              "      <td>TIN</td>\n",
              "    </tr>\n",
              "    <tr>\n",
              "      <th>7020</th>\n",
              "      <td>98387</td>\n",
              "      <td>@USER Conservatives; the trailer trash party o...</td>\n",
              "      <td>TIN</td>\n",
              "    </tr>\n",
              "    <tr>\n",
              "      <th>4020</th>\n",
              "      <td>99173</td>\n",
              "      <td>@USER @USER Says the bitch ass boy hiding behi...</td>\n",
              "      <td>TIN</td>\n",
              "    </tr>\n",
              "    <tr>\n",
              "      <th>5588</th>\n",
              "      <td>47922</td>\n",
              "      <td>@USER Bad gun control seems like. Missed his b...</td>\n",
              "      <td>TIN</td>\n",
              "    </tr>\n",
              "  </tbody>\n",
              "</table>\n",
              "</div>"
            ],
            "text/plain": [
              "          id                                              tweet subtask_b\n",
              "6974   80728  @USER Anyone else think she is a lying opportu...       TIN\n",
              "4883   60283  @USER @USER I love women like you. We believe ...       TIN\n",
              "5319   42541  @USER It’s a disgrace and @USER are in danger ...       TIN\n",
              "3712   40736     @USER But I thought California had gun control       TIN\n",
              "10228  31646                @USER Mon « bye bitches » suffisait       TIN\n",
              "6372   43865  @USER @USER @USER @USER @USER @USER @USER @USE...       TIN\n",
              "2640   53665  @USER @USER And not all idiots grandstands lik...       TIN\n",
              "7020   98387  @USER Conservatives; the trailer trash party o...       TIN\n",
              "4020   99173  @USER @USER Says the bitch ass boy hiding behi...       TIN\n",
              "5588   47922  @USER Bad gun control seems like. Missed his b...       TIN"
            ]
          },
          "metadata": {
            "tags": []
          },
          "execution_count": 12
        }
      ]
    },
    {
      "cell_type": "code",
      "metadata": {
        "id": "d8QyVRoAM3Kx",
        "colab_type": "code",
        "colab": {}
      },
      "source": [
        "import pandas as pd\n",
        "import numpy as np\n",
        "import re\n",
        "\n",
        "import nltk\n",
        "from nltk.corpus import stopwords\n",
        "\n",
        "from scipy.stats import itemfreq\n",
        "from sklearn.model_selection import train_test_split\n",
        "from sklearn.naive_bayes import MultinomialNB\n",
        "from sklearn.pipeline import Pipeline\n",
        "from sklearn.preprocessing import LabelEncoder\n",
        "from sklearn.feature_extraction.text import CountVectorizer,TfidfTransformer,HashingVectorizer\n",
        "from sklearn.metrics import confusion_matrix\n",
        "\n",
        "from nltk.stem import WordNetLemmatizer\n",
        "wordnet_lemmatizer = WordNetLemmatizer()\n",
        "from nltk.stem.porter import PorterStemmer\n",
        "porter_stemmer = PorterStemmer()  \n",
        "  \n",
        "pd.options.mode.chained_assignment = None\n",
        "\n",
        "def clean_text(content):\n",
        "  content=content.str.replace('@USER','')                                     # Remove triggerword tags\n",
        "  content=content.str.lower()                                                         # Convert to Lowercase\n",
        "  content=content.str.replace('username','')                                          # Remove username tags\n",
        "  content=content.str.replace('http\\S+|www.\\S+', '')                                  # Remove Links\n",
        "  content=content.str.replace('\\s+', ' ')                                             # Remove multiple spaces\n",
        "  content=content.str.replace('[^A-Za-z\\s]+', '')                                     # Remove irrelevant characters other than alphabets and space\n",
        "  #content=content.apply(lemmatize_sentences)\n",
        "  return content"
      ],
      "execution_count": 0,
      "outputs": []
    },
    {
      "cell_type": "code",
      "metadata": {
        "id": "X8WCYkbRfeQ-",
        "colab_type": "code",
        "colab": {}
      },
      "source": [
        "df['tweet'] = clean_text(df['tweet'])\n",
        "X_test['tweet'] = clean_text(X_test['tweet'])"
      ],
      "execution_count": 0,
      "outputs": []
    },
    {
      "cell_type": "code",
      "metadata": {
        "id": "m-idrEPf_DkQ",
        "colab_type": "code",
        "outputId": "81f778f5-458b-4431-fd8b-d1b1e381cd9d",
        "colab": {
          "base_uri": "https://localhost:8080/",
          "height": 359
        }
      },
      "source": [
        "df.head(10)"
      ],
      "execution_count": 0,
      "outputs": [
        {
          "output_type": "execute_result",
          "data": {
            "text/html": [
              "<div>\n",
              "<style scoped>\n",
              "    .dataframe tbody tr th:only-of-type {\n",
              "        vertical-align: middle;\n",
              "    }\n",
              "\n",
              "    .dataframe tbody tr th {\n",
              "        vertical-align: top;\n",
              "    }\n",
              "\n",
              "    .dataframe thead th {\n",
              "        text-align: right;\n",
              "    }\n",
              "</style>\n",
              "<table border=\"1\" class=\"dataframe\">\n",
              "  <thead>\n",
              "    <tr style=\"text-align: right;\">\n",
              "      <th></th>\n",
              "      <th>id</th>\n",
              "      <th>tweet</th>\n",
              "      <th>subtask_b</th>\n",
              "    </tr>\n",
              "  </thead>\n",
              "  <tbody>\n",
              "    <tr>\n",
              "      <th>6974</th>\n",
              "      <td>80728</td>\n",
              "      <td>anyone else think she is a lying opportunist ...</td>\n",
              "      <td>TIN</td>\n",
              "    </tr>\n",
              "    <tr>\n",
              "      <th>4883</th>\n",
              "      <td>60283</td>\n",
              "      <td>i love women like you we believe all women ex...</td>\n",
              "      <td>TIN</td>\n",
              "    </tr>\n",
              "    <tr>\n",
              "      <th>5319</th>\n",
              "      <td>42541</td>\n",
              "      <td>its a disgrace and are in danger of imploding...</td>\n",
              "      <td>TIN</td>\n",
              "    </tr>\n",
              "    <tr>\n",
              "      <th>3712</th>\n",
              "      <td>40736</td>\n",
              "      <td>but i thought california had gun control</td>\n",
              "      <td>TIN</td>\n",
              "    </tr>\n",
              "    <tr>\n",
              "      <th>10228</th>\n",
              "      <td>31646</td>\n",
              "      <td>mon  bye bitches  suffisait</td>\n",
              "      <td>TIN</td>\n",
              "    </tr>\n",
              "    <tr>\n",
              "      <th>6372</th>\n",
              "      <td>43865</td>\n",
              "      <td>you mean like all the liberals screaming at a...</td>\n",
              "      <td>TIN</td>\n",
              "    </tr>\n",
              "    <tr>\n",
              "      <th>2640</th>\n",
              "      <td>53665</td>\n",
              "      <td>and not all idiots grandstands like he did</td>\n",
              "      <td>TIN</td>\n",
              "    </tr>\n",
              "    <tr>\n",
              "      <th>7020</th>\n",
              "      <td>98387</td>\n",
              "      <td>conservatives the trailer trash party of canada</td>\n",
              "      <td>TIN</td>\n",
              "    </tr>\n",
              "    <tr>\n",
              "      <th>4020</th>\n",
              "      <td>99173</td>\n",
              "      <td>says the bitch ass boy hiding behind a keyboa...</td>\n",
              "      <td>TIN</td>\n",
              "    </tr>\n",
              "    <tr>\n",
              "      <th>5588</th>\n",
              "      <td>47922</td>\n",
              "      <td>bad gun control seems like missed his brains ...</td>\n",
              "      <td>TIN</td>\n",
              "    </tr>\n",
              "  </tbody>\n",
              "</table>\n",
              "</div>"
            ],
            "text/plain": [
              "          id                                              tweet subtask_b\n",
              "6974   80728   anyone else think she is a lying opportunist ...       TIN\n",
              "4883   60283   i love women like you we believe all women ex...       TIN\n",
              "5319   42541   its a disgrace and are in danger of imploding...       TIN\n",
              "3712   40736           but i thought california had gun control       TIN\n",
              "10228  31646                        mon  bye bitches  suffisait       TIN\n",
              "6372   43865   you mean like all the liberals screaming at a...       TIN\n",
              "2640   53665         and not all idiots grandstands like he did       TIN\n",
              "7020   98387    conservatives the trailer trash party of canada       TIN\n",
              "4020   99173   says the bitch ass boy hiding behind a keyboa...       TIN\n",
              "5588   47922   bad gun control seems like missed his brains ...       TIN"
            ]
          },
          "metadata": {
            "tags": []
          },
          "execution_count": 15
        }
      ]
    },
    {
      "cell_type": "markdown",
      "metadata": {
        "_uuid": "a1eccf4f87c29c6216d3d6d4f971bffea1641e44",
        "id": "NkH2icTGcdzX",
        "colab_type": "text"
      },
      "source": [
        "### Class imbalance"
      ]
    },
    {
      "cell_type": "code",
      "metadata": {
        "trusted": true,
        "scrolled": false,
        "_uuid": "d7d54c0edc5228654daa5d1bbb3f7e17b509249c",
        "id": "-vcmcsj-cdzY",
        "colab_type": "code",
        "outputId": "a5715ce5-ce5e-49d3-efa2-ea2d992bdfa6",
        "colab": {
          "base_uri": "https://localhost:8080/",
          "height": 531
        }
      },
      "source": [
        "plt.figure(figsize = (10, 8))\n",
        "sns.countplot(df['subtask_b'])\n",
        "plt.show()"
      ],
      "execution_count": 0,
      "outputs": [
        {
          "output_type": "stream",
          "text": [
            "/usr/local/lib/python3.6/dist-packages/seaborn/categorical.py:1428: FutureWarning: remove_na is deprecated and is a private function. Do not use.\n",
            "  stat_data = remove_na(group_data)\n"
          ],
          "name": "stderr"
        },
        {
          "output_type": "display_data",
          "data": {
            "image/png": "[encoded data removed]",
            "text/plain": [
              "<Figure size 720x576 with 1 Axes>"
            ]
          },
          "metadata": {
            "tags": []
          }
        }
      ]
    },
    {
      "cell_type": "code",
      "metadata": {
        "trusted": true,
        "_uuid": "9dc7a4b01b8118224a6346527007a786fa4d24e4",
        "id": "fI0T9y4Tcdzc",
        "colab_type": "code",
        "outputId": "6d5b567f-6a3a-4335-905a-9bac58c97043",
        "colab": {
          "base_uri": "https://localhost:8080/",
          "height": 34
        }
      },
      "source": [
        "print(\"Class repartition : \", (Counter(df['subtask_b'])))"
      ],
      "execution_count": 0,
      "outputs": [
        {
          "output_type": "stream",
          "text": [
            "Class repartition :  Counter({'TIN': 3101, 'UNT': 419})\n"
          ],
          "name": "stdout"
        }
      ]
    },
    {
      "cell_type": "markdown",
      "metadata": {
        "_uuid": "2e42542a1bb153dd51f845a76d82b7fe29e78ab8",
        "id": "-wpthHCAcdzh",
        "colab_type": "text"
      },
      "source": [
        "There is way more 0s than 1s in our dataset. As mentionned, we could use data augmentation to balance classes. Therefore the prediction task will be easier."
      ]
    },
    {
      "cell_type": "markdown",
      "metadata": {
        "_uuid": "b7c5a37c7151305c44764243c4e097b135b1afc2",
        "id": "I6dgEtkXcdzj",
        "colab_type": "text"
      },
      "source": [
        "## Step 3: Tokenizing\n",
        "\n",
        "I am using Keras' Tokenizer to apply some text processing and to limit the size of the vocabulary"
      ]
    },
    {
      "cell_type": "code",
      "metadata": {
        "id": "pn8N08GA5NNB",
        "colab_type": "code",
        "colab": {}
      },
      "source": [
        "import nltk\n",
        "from nltk.corpus import stopwords \n",
        "from nltk.tokenize import word_tokenize\n",
        "\n",
        "# Get the stop words defined in nltk for english\n",
        "stop_words = set(stopwords.words('english'))                             \n",
        "\n",
        "# Create filtered & tagged sentences as list\n",
        "filtered_sentences=[]                                                                                   \n",
        "\n",
        "for index, row in df.iterrows():\n",
        "        # Tokenize each line\n",
        "        word_tokens = word_tokenize(row['tweet'])   \n",
        "        #word_tokens = [x.lower() for x in word_tokens]\n",
        "        # Filter the tokens without stop words and put them in a list\n",
        "        sentence = [w for w in word_tokens]\n",
        "        # Append the sentence(a list) to filtered sentences\n",
        "        filtered_sentences.append(sentence)                              "
      ],
      "execution_count": 0,
      "outputs": []
    },
    {
      "cell_type": "code",
      "metadata": {
        "id": "U9UOsZz45QNO",
        "colab_type": "code",
        "colab": {}
      },
      "source": [
        "# Train a word2vec model \n",
        "\n",
        "from gensim.models import Word2Vec\n",
        "model=Word2Vec(filtered_sentences,size=100, window=10,min_count=5)              # Define a word2vec model\n",
        "model.train(filtered_sentences,total_examples=len(filtered_sentences),epochs=3) # Train the model for 3 epochs\n",
        "model.save(\"word2vec.model\")                                                    # Save the model"
      ],
      "execution_count": 0,
      "outputs": []
    },
    {
      "cell_type": "code",
      "metadata": {
        "id": "K8pfddrq5Ws1",
        "colab_type": "code",
        "outputId": "e89668d7-211a-48b5-a6ba-8c4e4d020bfa",
        "colab": {
          "base_uri": "https://localhost:8080/",
          "height": 71
        }
      },
      "source": [
        "word_dict = {}\n",
        "for line in filtered_sentences:\n",
        "  for word in line:\n",
        "    if(word in model.wv.vocab):\n",
        "      word_dict[word]= model.wv.most_similar(positive = word,topn=5)"
      ],
      "execution_count": 0,
      "outputs": [
        {
          "output_type": "stream",
          "text": [
            "/usr/local/lib/python3.6/dist-packages/gensim/matutils.py:737: FutureWarning: Conversion of the second argument of issubdtype from `int` to `np.signedinteger` is deprecated. In future, it will be treated as `np.int64 == np.dtype(int).type`.\n",
            "  if np.issubdtype(vec.dtype, np.int):\n"
          ],
          "name": "stderr"
        }
      ]
    },
    {
      "cell_type": "markdown",
      "metadata": {
        "_uuid": "46e8882712c42236e854b6017933ca423381b712",
        "id": "NahqLFSPcd0y",
        "colab_type": "text"
      },
      "source": [
        "## Step 4 - Data Augmentation / Oversampling \n",
        "\n",
        "#### We work on 1 labelled texts. We apply the following algorithm to modify a sentence :\n",
        "\n",
        "For each word in the sentence :\n",
        "* Keep it with probability $p$  (or if we don't have synonyms for it)\n",
        "* Randomly swap it with one of its synonyms with probability $1-p$"
      ]
    },
    {
      "cell_type": "code",
      "metadata": {
        "trusted": true,
        "_uuid": "ba8fd07e8fb6f9d5a773eab51f41f2e4d9e40c58",
        "id": "Hv5wKGI8cd03",
        "colab_type": "code",
        "colab": {}
      },
      "source": [
        "unt_data = df[df['subtask_b'] == 'UNT']"
      ],
      "execution_count": 0,
      "outputs": []
    },
    {
      "cell_type": "code",
      "metadata": {
        "id": "SqLOTjh_v3RO",
        "colab_type": "code",
        "colab": {}
      },
      "source": [
        "X_unt = []\n",
        "for index, row in unt_data.iterrows():\n",
        "        # Tokenize each line\n",
        "        word_tokens = word_tokenize(row['tweet'])   \n",
        "        #word_tokens = [x.lower() for x in word_tokens]\n",
        "        # Filter the tokens without stop words and put them in a list\n",
        "        sentence = [w for w in word_tokens]\n",
        "        # Append the sentence(a list) to filtered sentences\n",
        "        X_unt.append(sentence)                              "
      ],
      "execution_count": 0,
      "outputs": []
    },
    {
      "cell_type": "code",
      "metadata": {
        "id": "vl3oEjmTBQQN",
        "colab_type": "code",
        "outputId": "80fd334c-0f30-45dc-fd35-9bbf605eedbd",
        "colab": {
          "base_uri": "https://localhost:8080/",
          "height": 34
        }
      },
      "source": [
        "len(X_unt)"
      ],
      "execution_count": 0,
      "outputs": [
        {
          "output_type": "execute_result",
          "data": {
            "text/plain": [
              "419"
            ]
          },
          "metadata": {
            "tags": []
          },
          "execution_count": 66
        }
      ]
    },
    {
      "cell_type": "code",
      "metadata": {
        "trusted": true,
        "_uuid": "279f7e40ed61a210028e75bc3ec1efb8b427115e",
        "id": "vSeVpLL6cd07",
        "colab_type": "code",
        "colab": {}
      },
      "source": [
        "def modify_sentence(sentence, word_dict, p=0.9):\n",
        "    for i in range(len(sentence)):\n",
        "        if np.random.random() > p:\n",
        "            try:\n",
        "                syns = word_dict[sentence[i]]\n",
        "                sentence[i] = np.random.choice(syns)\n",
        "            except KeyError:\n",
        "                pass\n",
        "    return sentence"
      ],
      "execution_count": 0,
      "outputs": []
    },
    {
      "cell_type": "markdown",
      "metadata": {
        "_uuid": "687d60db0ee84c897f3ed889e3f7f37ac40cf0e7",
        "id": "bkgaif3-cd1A",
        "colab_type": "text"
      },
      "source": [
        "### Let us preview our function"
      ]
    },
    {
      "cell_type": "code",
      "metadata": {
        "trusted": true,
        "_uuid": "ad41e6e98a2359235d02c43337b51dca3faeedeb",
        "id": "cD-7H_pxcd1D",
        "colab_type": "code",
        "colab": {}
      },
      "source": [
        "indexes = np.random.randint(0, len(X_unt), 10)"
      ],
      "execution_count": 0,
      "outputs": []
    },
    {
      "cell_type": "code",
      "metadata": {
        "trusted": true,
        "_uuid": "c73c2fc1667d96e0a83e8cc1ecfaee4375f4d35e",
        "id": "dme_590xcd1H",
        "colab_type": "code",
        "colab": {}
      },
      "source": [
        "for x in X_unt[indexes]:\n",
        "    print(x)\n",
        "\n",
        "    modified = modify_sentence(x, synonyms)\n",
        "    print(modified)\n",
        "    \n",
        "    print(' ')"
      ],
      "execution_count": 0,
      "outputs": []
    },
    {
      "cell_type": "markdown",
      "metadata": {
        "_uuid": "2bf85a0b0d56c8f1fe0a357862a6646a2edf9c44",
        "id": "y3LkW52icd1M",
        "colab_type": "text"
      },
      "source": [
        "Looks pretty good, we now generate some texts"
      ]
    },
    {
      "cell_type": "code",
      "metadata": {
        "trusted": true,
        "_uuid": "3d7c41a4457c8040209372d8249d6a7604b77b84",
        "id": "gS7jPxofcd1P",
        "colab_type": "code",
        "colab": {}
      },
      "source": [
        "n_texts = 2700"
      ],
      "execution_count": 0,
      "outputs": []
    },
    {
      "cell_type": "code",
      "metadata": {
        "trusted": true,
        "_uuid": "cbcfd4be68aeaddaa6f329f7cc372dc3a8e26f67",
        "id": "ReAZSlO_cd1U",
        "colab_type": "code",
        "colab": {}
      },
      "source": [
        "indexes = np.random.randint(0, X_pos.shape[0], n_texts)"
      ],
      "execution_count": 0,
      "outputs": []
    },
    {
      "cell_type": "code",
      "metadata": {
        "trusted": true,
        "_uuid": "7f78366a4183e704b35d7416e32aa5712afeb2a3",
        "id": "W-HRjnzkcd1Z",
        "colab_type": "code",
        "colab": {}
      },
      "source": [
        "X_gen = np.array([modify_sentence(x, synonyms) for x in X_pos[indexes]])\n",
        "y_gen = np.ones(n_texts)"
      ],
      "execution_count": 0,
      "outputs": []
    },
    {
      "cell_type": "code",
      "metadata": {
        "id": "7_gM1tIEuubE",
        "colab_type": "code",
        "colab": {}
      },
      "source": [
        "def get_sentence(modified):\n",
        "  return ' '.join([index_word[x] for x in modified])"
      ],
      "execution_count": 0,
      "outputs": []
    },
    {
      "cell_type": "code",
      "metadata": {
        "id": "m7Ndbk6kwz1w",
        "colab_type": "code",
        "colab": {}
      },
      "source": [
        "X_new = np.concatenate((X_pos, X_gen), axis=0)\n",
        "X_add = pd.DataFrame({\"tweet\":np.apply_along_axis(get_sentence, 1, X_new)})"
      ],
      "execution_count": 0,
      "outputs": []
    },
    {
      "cell_type": "code",
      "metadata": {
        "id": "m_dEgAK5xz4y",
        "colab_type": "code",
        "colab": {}
      },
      "source": [
        "X_add[\"subtask_b\"] = \"UNT\""
      ],
      "execution_count": 0,
      "outputs": []
    },
    {
      "cell_type": "code",
      "metadata": {
        "id": "ct4F7BbgIDx6",
        "colab_type": "code",
        "colab": {}
      },
      "source": [
        "X_add.tweet = X_add.tweet.str.strip()"
      ],
      "execution_count": 0,
      "outputs": []
    },
    {
      "cell_type": "code",
      "metadata": {
        "id": "ZuSL-Tloxnhk",
        "colab_type": "code",
        "colab": {}
      },
      "source": [
        "X_tin = df[df['subtask_b']=='TIN']\n",
        "X_tin = X_tin.drop(['id'],axis=1)"
      ],
      "execution_count": 0,
      "outputs": []
    },
    {
      "cell_type": "code",
      "metadata": {
        "id": "46OOExCOxvD5",
        "colab_type": "code",
        "colab": {}
      },
      "source": [
        "new_data = pd.concat([X_tin,X_add],axis=0)\n",
        "new_data.to_csv('new_train_data.tsv',sep='\\t',index=False)"
      ],
      "execution_count": 0,
      "outputs": []
    },
    {
      "cell_type": "code",
      "metadata": {
        "id": "u6EC_7OYFtY9",
        "colab_type": "code",
        "outputId": "23218514-1c74-4152-aa90-fde69a16e954",
        "colab": {
          "base_uri": "https://localhost:8080/",
          "height": 359
        }
      },
      "source": [
        "X_test = X_test.drop('id',axis=1)\n",
        "X_test.head(10)"
      ],
      "execution_count": 0,
      "outputs": [
        {
          "output_type": "execute_result",
          "data": {
            "text/html": [
              "<div>\n",
              "<style scoped>\n",
              "    .dataframe tbody tr th:only-of-type {\n",
              "        vertical-align: middle;\n",
              "    }\n",
              "\n",
              "    .dataframe tbody tr th {\n",
              "        vertical-align: top;\n",
              "    }\n",
              "\n",
              "    .dataframe thead th {\n",
              "        text-align: right;\n",
              "    }\n",
              "</style>\n",
              "<table border=\"1\" class=\"dataframe\">\n",
              "  <thead>\n",
              "    <tr style=\"text-align: right;\">\n",
              "      <th></th>\n",
              "      <th>tweet</th>\n",
              "      <th>subtask_b</th>\n",
              "    </tr>\n",
              "  </thead>\n",
              "  <tbody>\n",
              "    <tr>\n",
              "      <th>6570</th>\n",
              "      <td>when the abuser projects look in the mirror m...</td>\n",
              "      <td>TIN</td>\n",
              "    </tr>\n",
              "    <tr>\n",
              "      <th>4699</th>\n",
              "      <td>maga white people</td>\n",
              "      <td>TIN</td>\n",
              "    </tr>\n",
              "    <tr>\n",
              "      <th>7630</th>\n",
              "      <td>when is this low iq piece of human trash goin...</td>\n",
              "      <td>TIN</td>\n",
              "    </tr>\n",
              "    <tr>\n",
              "      <th>3108</th>\n",
              "      <td>holder has a perverted view of the law not su...</td>\n",
              "      <td>TIN</td>\n",
              "    </tr>\n",
              "    <tr>\n",
              "      <th>5654</th>\n",
              "      <td>this soros guy needs to be investigated hes b...</td>\n",
              "      <td>TIN</td>\n",
              "    </tr>\n",
              "    <tr>\n",
              "      <th>7778</th>\n",
              "      <td>w had empathy and regrets he may have been a ...</td>\n",
              "      <td>TIN</td>\n",
              "    </tr>\n",
              "    <tr>\n",
              "      <th>2160</th>\n",
              "      <td>whats wrong with dead antifa i dont understan...</td>\n",
              "      <td>TIN</td>\n",
              "    </tr>\n",
              "    <tr>\n",
              "      <th>3728</th>\n",
              "      <td>i hate so much now they fucked up the whole f...</td>\n",
              "      <td>TIN</td>\n",
              "    </tr>\n",
              "    <tr>\n",
              "      <th>9371</th>\n",
              "      <td>hatred of the man makes people like this fool...</td>\n",
              "      <td>UNT</td>\n",
              "    </tr>\n",
              "    <tr>\n",
              "      <th>9620</th>\n",
              "      <td>i think we should be going after sen feinstei...</td>\n",
              "      <td>TIN</td>\n",
              "    </tr>\n",
              "  </tbody>\n",
              "</table>\n",
              "</div>"
            ],
            "text/plain": [
              "                                                  tweet subtask_b\n",
              "6570   when the abuser projects look in the mirror m...       TIN\n",
              "4699                                  maga white people       TIN\n",
              "7630   when is this low iq piece of human trash goin...       TIN\n",
              "3108   holder has a perverted view of the law not su...       TIN\n",
              "5654   this soros guy needs to be investigated hes b...       TIN\n",
              "7778   w had empathy and regrets he may have been a ...       TIN\n",
              "2160   whats wrong with dead antifa i dont understan...       TIN\n",
              "3728   i hate so much now they fucked up the whole f...       TIN\n",
              "9371   hatred of the man makes people like this fool...       UNT\n",
              "9620   i think we should be going after sen feinstei...       TIN"
            ]
          },
          "metadata": {
            "tags": []
          },
          "execution_count": 50
        }
      ]
    },
    {
      "cell_type": "code",
      "metadata": {
        "id": "cRQBley5Gz--",
        "colab_type": "code",
        "colab": {}
      },
      "source": [
        "X_test.to_csv('new_dev_data.tsv',sep='\\t',index=False)"
      ],
      "execution_count": 0,
      "outputs": []
    },
    {
      "cell_type": "code",
      "metadata": {
        "id": "QZJag4BD7wrf",
        "colab_type": "code",
        "colab": {}
      },
      "source": [
        "from google.colab import files\n",
        "files.download('new_train_data.tsv')\n",
        "files.download('new_dev_data.tsv')"
      ],
      "execution_count": 0,
      "outputs": []
    }
  ]
}