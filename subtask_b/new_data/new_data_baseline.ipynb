{
  "nbformat": 4,
  "nbformat_minor": 0,
  "metadata": {
    "colab": {
      "name": "taskb_newdata_models.ipynb",
      "version": "0.3.2",
      "provenance": [],
      "collapsed_sections": []
    },
    "kernelspec": {
      "name": "python3",
      "display_name": "Python 3"
    },
    "accelerator": "GPU"
  },
  "cells": [
    {
      "cell_type": "code",
      "metadata": {
        "id": "4Riv1NfxbnfP",
        "colab_type": "code",
        "colab": {}
      },
      "source": [
        "import pandas as pd\n",
        "X_train = pd.read_table(\"new_train_data.tsv\",sep='\\t',index_col=False, error_bad_lines=False) \n",
        "X_test = pd.read_table(\"new_dev_data.tsv\",sep='\\t',index_col=False, error_bad_lines=False) "
      ],
      "execution_count": 0,
      "outputs": []
    },
    {
      "cell_type": "code",
      "metadata": {
        "id": "3TD-qjGzMhXG",
        "colab_type": "code",
        "outputId": "3359189b-5057-4887-83ee-3fcca3c276b3",
        "colab": {
          "base_uri": "https://localhost:8080/",
          "height": 359
        }
      },
      "source": [
        "X_train.head(10)"
      ],
      "execution_count": 0,
      "outputs": [
        {
          "output_type": "execute_result",
          "data": {
            "text/html": [
              "<div>\n",
              "<style scoped>\n",
              "    .dataframe tbody tr th:only-of-type {\n",
              "        vertical-align: middle;\n",
              "    }\n",
              "\n",
              "    .dataframe tbody tr th {\n",
              "        vertical-align: top;\n",
              "    }\n",
              "\n",
              "    .dataframe thead th {\n",
              "        text-align: right;\n",
              "    }\n",
              "</style>\n",
              "<table border=\"1\" class=\"dataframe\">\n",
              "  <thead>\n",
              "    <tr style=\"text-align: right;\">\n",
              "      <th></th>\n",
              "      <th>tweet</th>\n",
              "      <th>subtask_b</th>\n",
              "    </tr>\n",
              "  </thead>\n",
              "  <tbody>\n",
              "    <tr>\n",
              "      <th>0</th>\n",
              "      <td>anyone else think she is a lying opportunist ...</td>\n",
              "      <td>TIN</td>\n",
              "    </tr>\n",
              "    <tr>\n",
              "      <th>1</th>\n",
              "      <td>i love women like you we believe all women ex...</td>\n",
              "      <td>TIN</td>\n",
              "    </tr>\n",
              "    <tr>\n",
              "      <th>2</th>\n",
              "      <td>its a disgrace and are in danger of imploding...</td>\n",
              "      <td>TIN</td>\n",
              "    </tr>\n",
              "    <tr>\n",
              "      <th>3</th>\n",
              "      <td>but i thought california had gun control</td>\n",
              "      <td>TIN</td>\n",
              "    </tr>\n",
              "    <tr>\n",
              "      <th>4</th>\n",
              "      <td>mon  bye bitches  suffisait</td>\n",
              "      <td>TIN</td>\n",
              "    </tr>\n",
              "    <tr>\n",
              "      <th>5</th>\n",
              "      <td>you mean like all the liberals screaming at a...</td>\n",
              "      <td>TIN</td>\n",
              "    </tr>\n",
              "    <tr>\n",
              "      <th>6</th>\n",
              "      <td>and not all idiots grandstands like he did</td>\n",
              "      <td>TIN</td>\n",
              "    </tr>\n",
              "    <tr>\n",
              "      <th>7</th>\n",
              "      <td>conservatives the trailer trash party of canada</td>\n",
              "      <td>TIN</td>\n",
              "    </tr>\n",
              "    <tr>\n",
              "      <th>8</th>\n",
              "      <td>says the bitch ass boy hiding behind a keyboa...</td>\n",
              "      <td>TIN</td>\n",
              "    </tr>\n",
              "    <tr>\n",
              "      <th>9</th>\n",
              "      <td>bad gun control seems like missed his brains ...</td>\n",
              "      <td>TIN</td>\n",
              "    </tr>\n",
              "  </tbody>\n",
              "</table>\n",
              "</div>"
            ],
            "text/plain": [
              "                                               tweet subtask_b\n",
              "0   anyone else think she is a lying opportunist ...       TIN\n",
              "1   i love women like you we believe all women ex...       TIN\n",
              "2   its a disgrace and are in danger of imploding...       TIN\n",
              "3           but i thought california had gun control       TIN\n",
              "4                        mon  bye bitches  suffisait       TIN\n",
              "5   you mean like all the liberals screaming at a...       TIN\n",
              "6         and not all idiots grandstands like he did       TIN\n",
              "7    conservatives the trailer trash party of canada       TIN\n",
              "8   says the bitch ass boy hiding behind a keyboa...       TIN\n",
              "9   bad gun control seems like missed his brains ...       TIN"
            ]
          },
          "metadata": {
            "tags": []
          },
          "execution_count": 8
        }
      ]
    },
    {
      "cell_type": "markdown",
      "metadata": {
        "id": "XrLQKMHwMx-2",
        "colab_type": "text"
      },
      "source": [
        "### Machine Learning Models"
      ]
    },
    {
      "cell_type": "code",
      "metadata": {
        "id": "bBmBSkHGM3HG",
        "colab_type": "code",
        "colab": {}
      },
      "source": [
        "import pandas as pd\n",
        "import numpy as np\n",
        "import re\n",
        "\n",
        "import nltk\n",
        "from nltk.corpus import stopwords\n",
        "\n",
        "from scipy.stats import itemfreq\n",
        "from sklearn.model_selection import train_test_split\n",
        "from sklearn.naive_bayes import MultinomialNB\n",
        "from sklearn.pipeline import Pipeline\n",
        "from sklearn.preprocessing import LabelEncoder\n",
        "from sklearn.feature_extraction.text import CountVectorizer,TfidfTransformer,HashingVectorizer\n",
        "from sklearn.metrics import confusion_matrix\n",
        "\n",
        "from nltk.stem import WordNetLemmatizer\n",
        "wordnet_lemmatizer = WordNetLemmatizer()\n",
        "from nltk.stem.porter import PorterStemmer\n",
        "porter_stemmer = PorterStemmer()  \n",
        "  \n",
        "pd.options.mode.chained_assignment = None"
      ],
      "execution_count": 0,
      "outputs": []
    },
    {
      "cell_type": "code",
      "metadata": {
        "id": "cV_G649SM3PL",
        "colab_type": "code",
        "colab": {}
      },
      "source": [
        "def lemmatize_sentences(sentence):\n",
        "    tokens = sentence.split()\n",
        "    lm_tokens = [wordnet_lemmatizer.lemmatize(token) for token in tokens]\n",
        "    return ' '.join(lm_tokens)"
      ],
      "execution_count": 0,
      "outputs": []
    },
    {
      "cell_type": "code",
      "metadata": {
        "id": "r3SJcO5qM3MZ",
        "colab_type": "code",
        "colab": {}
      },
      "source": [
        "def clean_text(content):\n",
        "  content=content.str.lower()                                                         # Convert to Lowercase\n",
        "  content=content.str.replace('@USER','')                                     # Remove triggerword tags\n",
        "  content=content.str.replace('username','')                                          # Remove username tags\n",
        "  content=content.str.replace('http\\S+|www.\\S+', '')                                  # Remove Links\n",
        "  content=content.str.replace('\\s+', ' ')                                             # Remove multiple spaces\n",
        "  content=content.str.replace('[^A-Za-z\\s]+', '')                                     # Remove irrelevant characters other than alphabets and space\n",
        "  #content=content.apply(lemmatize_sentences)\n",
        "  return content"
      ],
      "execution_count": 0,
      "outputs": []
    },
    {
      "cell_type": "code",
      "metadata": {
        "id": "d8QyVRoAM3Kx",
        "colab_type": "code",
        "colab": {}
      },
      "source": [
        "X_train['tweet'] = clean_text(X_train['tweet'])\n",
        "X_test['tweet'] = clean_text(X_test['tweet'])"
      ],
      "execution_count": 0,
      "outputs": []
    },
    {
      "cell_type": "code",
      "metadata": {
        "id": "mNpT3nLHBlxe",
        "colab_type": "code",
        "outputId": "84869563-e718-4309-a549-8c5e3b093cb8",
        "colab": {
          "base_uri": "https://localhost:8080/",
          "height": 68
        }
      },
      "source": [
        "X_train.isna().sum()"
      ],
      "execution_count": 0,
      "outputs": [
        {
          "output_type": "execute_result",
          "data": {
            "text/plain": [
              "tweet        0\n",
              "subtask_b    0\n",
              "dtype: int64"
            ]
          },
          "metadata": {
            "tags": []
          },
          "execution_count": 13
        }
      ]
    },
    {
      "cell_type": "markdown",
      "metadata": {
        "id": "grMRu7f7CS_7",
        "colab_type": "text"
      },
      "source": [
        "## Subtask B"
      ]
    },
    {
      "cell_type": "code",
      "metadata": {
        "id": "ai4C-R-NNOZp",
        "colab_type": "code",
        "colab": {}
      },
      "source": [
        "y_train=X_train.subtask_b\n",
        "y_test=X_test.subtask_b\n",
        "X_train = X_train.drop(['subtask_b'],axis=1)\n",
        "X_test = X_test.drop(['subtask_b'],axis=1)\n",
        "\n",
        "# Label encode the target variable of train & dev data\n",
        "le1=LabelEncoder()\n",
        "y_train=le1.fit_transform(y_train)\n",
        "y_test=le1.transform(y_test)"
      ],
      "execution_count": 0,
      "outputs": []
    },
    {
      "cell_type": "code",
      "metadata": {
        "id": "qjrXAyqUQ0yN",
        "colab_type": "code",
        "outputId": "0d91b359-fb5c-454b-c3f5-9a830c7936ee",
        "colab": {
          "base_uri": "https://localhost:8080/",
          "height": 88
        }
      },
      "source": [
        "from sklearn.metrics import f1_score\n",
        "y_pred=np.zeros(len(y_test))\n",
        "macro_f1= f1_score(y_pred,y_test, average='macro')\n",
        "print(macro_f1)"
      ],
      "execution_count": 0,
      "outputs": [
        {
          "output_type": "stream",
          "text": [
            "0.46827794561933533\n"
          ],
          "name": "stdout"
        }
      ]
    },
    {
      "cell_type": "code",
      "metadata": {
        "id": "7qDMci6NpnUK",
        "colab_type": "code",
        "colab": {}
      },
      "source": [
        "def subtask_b_metrics(model):\n",
        "    y_pred = model.predict(X_test.tweet)\n",
        "    macro_f1= f1_score(y_test, y_pred, average='macro')\n",
        "    print(macro_f1)"
      ],
      "execution_count": 0,
      "outputs": []
    },
    {
      "cell_type": "code",
      "metadata": {
        "id": "zNHjoDjINQjD",
        "colab_type": "code",
        "outputId": "afdec99d-e71a-4758-d2d8-ae85cf741ab9",
        "colab": {
          "base_uri": "https://localhost:8080/",
          "height": 34
        }
      },
      "source": [
        "# Machine Learning\n",
        "# Training Naive Bayes (NB) classifier + BOW model\n",
        "\n",
        "nb_clf = Pipeline([('vect', CountVectorizer(ngram_range=(1,2))),  ('clf', MultinomialNB())])\n",
        "nb_clf = nb_clf.fit(X_train.tweet,y_train)\n",
        "subtask_b_metrics(nb_clf)"
      ],
      "execution_count": 0,
      "outputs": [
        {
          "output_type": "stream",
          "text": [
            "0.6083120748299319\n"
          ],
          "name": "stdout"
        }
      ]
    },
    {
      "cell_type": "code",
      "metadata": {
        "id": "2oWYXd7LNQq6",
        "colab_type": "code",
        "outputId": "e0d08f8f-9350-4873-9b71-f5616a75a555",
        "colab": {
          "base_uri": "https://localhost:8080/",
          "height": 34
        }
      },
      "source": [
        "# Training Linear SVM classifier + BOW model\n",
        "\n",
        "from sklearn.svm import LinearSVC\n",
        "\n",
        "svc_clf = Pipeline([('vect', CountVectorizer(ngram_range=(1,2))),  ('clf', LinearSVC())])\n",
        "svc_clf = svc_clf.fit(X_train.tweet,y_train)\n",
        "subtask_b_metrics(svc_clf)"
      ],
      "execution_count": 0,
      "outputs": [
        {
          "output_type": "stream",
          "text": [
            "0.5671616201646473\n"
          ],
          "name": "stdout"
        }
      ]
    },
    {
      "cell_type": "code",
      "metadata": {
        "id": "BjT1NoYzNQou",
        "colab_type": "code",
        "outputId": "040b69f0-c214-406c-c210-5999ab1133a6",
        "colab": {
          "base_uri": "https://localhost:8080/",
          "height": 68
        }
      },
      "source": [
        "# Training Logisitic Regression(LogReg) classifier + BOW model \n",
        "\n",
        "from sklearn.linear_model import LogisticRegression \n",
        "\n",
        "lg_clf = Pipeline([('vect', CountVectorizer(ngram_range=(1,3))),  ('clf', LogisticRegression(C=1e5, solver='lbfgs', multi_class='multinomial'))])\n",
        "lg_clf = lg_clf.fit(X_train.tweet,y_train)\n",
        "subtask_b_metrics(lg_clf)"
      ],
      "execution_count": 0,
      "outputs": [
        {
          "output_type": "stream",
          "text": [
            "0.5722660706078412\n"
          ],
          "name": "stdout"
        }
      ]
    },
    {
      "cell_type": "code",
      "metadata": {
        "id": "jb60EXnTNQgS",
        "colab_type": "code",
        "outputId": "58042d44-c301-4638-8ec9-f3454f53a127",
        "colab": {
          "base_uri": "https://localhost:8080/",
          "height": 34
        }
      },
      "source": [
        "# Training SVM + BOW + TF-IDF model\n",
        "\n",
        "svm_clf = Pipeline([('vect', CountVectorizer(ngram_range=(1,4))), ('tfidf', TfidfTransformer()), ('clf', LinearSVC())])\n",
        "svm_clf = svm_clf.fit(X_train.tweet,y_train)\n",
        "subtask_b_metrics(svm_clf)"
      ],
      "execution_count": 0,
      "outputs": [
        {
          "output_type": "stream",
          "text": [
            "0.5779781315940917\n"
          ],
          "name": "stdout"
        }
      ]
    },
    {
      "cell_type": "code",
      "metadata": {
        "id": "N5A43rJqNQea",
        "colab_type": "code",
        "outputId": "b15beae8-5baf-4db6-d7d5-22d1d5a2351d",
        "colab": {
          "base_uri": "https://localhost:8080/",
          "height": 34
        }
      },
      "source": [
        "# Training NB + BOW + TF-IDF model\n",
        "\n",
        "nb_clf = Pipeline([('vect', CountVectorizer(ngram_range=(1,4))), ('tfidf', TfidfTransformer()), ('clf', MultinomialNB())])\n",
        "nb_clf = nb_clf.fit(X_train.tweet,y_train)\n",
        "subtask_b_metrics(nb_clf)"
      ],
      "execution_count": 0,
      "outputs": [
        {
          "output_type": "stream",
          "text": [
            "0.38813648755606367\n"
          ],
          "name": "stdout"
        }
      ]
    },
    {
      "cell_type": "code",
      "metadata": {
        "id": "1nXMtijRNQcl",
        "colab_type": "code",
        "outputId": "6825b4ed-ae82-4cea-d57c-cd73593c2871",
        "colab": {
          "base_uri": "https://localhost:8080/",
          "height": 68
        }
      },
      "source": [
        "# Training LogReg + BOW + TF-IDF model\n",
        "\n",
        "lg_clf = Pipeline([('vect', CountVectorizer(ngram_range=(1,3))), ('tfidf', TfidfTransformer()), ('clf', LogisticRegression(C=1e5, solver='lbfgs', multi_class='multinomial'))])\n",
        "lg_clf = lg_clf.fit(X_train.tweet,y_train)\n",
        "subtask_b_metrics(lg_clf)"
      ],
      "execution_count": 0,
      "outputs": [
        {
          "output_type": "stream",
          "text": [
            "0.5648882090267154\n"
          ],
          "name": "stdout"
        }
      ]
    },
    {
      "cell_type": "code",
      "metadata": {
        "id": "-Uu-MYQ1NQWG",
        "colab_type": "code",
        "outputId": "99f7ab0e-3e00-4925-e065-a861747c806e",
        "colab": {
          "base_uri": "https://localhost:8080/",
          "height": 68
        }
      },
      "source": [
        "# Training Ensemble model\n",
        "\n",
        "from sklearn.ensemble import VotingClassifier\n",
        "model1 = LogisticRegression(C=1e5, solver='lbfgs', multi_class='multinomial')\n",
        "model2 = MultinomialNB()\n",
        "model3 = LinearSVC()\n",
        "# create the ensemble model\n",
        "eclf1 = VotingClassifier(estimators=[('lr', model1), ('nb', model2), ('svm', model3)], voting='hard')\n",
        "ensemble = Pipeline([('vect', CountVectorizer(ngram_range=(1,4))), ('tfidf', TfidfTransformer()), ('clf', eclf1)])\n",
        "ensemble = ensemble.fit(X_train.tweet, y_train)\n",
        "subtask_b_metrics(ensemble)"
      ],
      "execution_count": 0,
      "outputs": [
        {
          "output_type": "stream",
          "text": [
            "0.580958715665674\n"
          ],
          "name": "stdout"
        }
      ]
    },
    {
      "cell_type": "code",
      "metadata": {
        "id": "RYEbaLHVR6Y6",
        "colab_type": "code",
        "outputId": "80d3b987-41b2-4c84-9e28-05d46435ba3d",
        "colab": {
          "base_uri": "https://localhost:8080/",
          "height": 34
        }
      },
      "source": [
        "# Training XGBoost + BOW + TF-IDF model\n",
        "from xgboost import XGBClassifier\n",
        "\n",
        "xg_clf = Pipeline([('vect', CountVectorizer(ngram_range=(1,4))), ('tfidf', TfidfTransformer()), ('clf', XGBClassifier())])\n",
        "xg_clf = xg_clf.fit(X_train.tweet,y_train)\n",
        "subtask_b_metrics(xg_clf)"
      ],
      "execution_count": 0,
      "outputs": [
        {
          "output_type": "stream",
          "text": [
            "0.4000860532300695\n"
          ],
          "name": "stdout"
        }
      ]
    },
    {
      "cell_type": "code",
      "metadata": {
        "id": "WVWTe4uTSS_A",
        "colab_type": "code",
        "outputId": "8e712e02-68e3-4859-fefc-3afcbd1836dd",
        "colab": {
          "base_uri": "https://localhost:8080/",
          "height": 88
        }
      },
      "source": [
        "from sklearn.ensemble import RandomForestClassifier\n",
        "\n",
        "rg_clf = Pipeline([('vect', CountVectorizer(ngram_range=(1,2))), ('tfidf', TfidfTransformer()), ('clf', RandomForestClassifier())])\n",
        "rg_clf = rg_clf.fit(X_train.tweet,y_train)\n",
        "subtask_b_metrics(rg_clf)"
      ],
      "execution_count": 0,
      "outputs": [
        {
          "output_type": "stream",
          "text": [
            "0.5623150198836201\n"
          ],
          "name": "stdout"
        }
      ]
    },
    {
      "cell_type": "code",
      "metadata": {
        "id": "1ieoUdJIntQo",
        "colab_type": "code",
        "outputId": "f84cccee-3656-4fc0-b892-ba10908e2884",
        "colab": {
          "base_uri": "https://localhost:8080/",
          "height": 34
        }
      },
      "source": [
        "from sklearn.ensemble import AdaBoostClassifier\n",
        "\n",
        "rg_clf = Pipeline([('vect', CountVectorizer(ngram_range=(1,2))), ('tfidf', TfidfTransformer()), ('clf', AdaBoostClassifier())])\n",
        "rg_clf = rg_clf.fit(X_train.tweet,y_train)\n",
        "subtask_b_metrics(rg_clf)"
      ],
      "execution_count": 0,
      "outputs": [
        {
          "output_type": "stream",
          "text": [
            "0.5013188874122148\n"
          ],
          "name": "stdout"
        }
      ]
    },
    {
      "cell_type": "code",
      "metadata": {
        "id": "e7nuDT3Qn1Ni",
        "colab_type": "code",
        "outputId": "fb26abf3-8e50-45ec-d65b-05569e886b35",
        "colab": {
          "base_uri": "https://localhost:8080/",
          "height": 34
        }
      },
      "source": [
        "from sklearn.ensemble import GradientBoostingClassifier\n",
        "\n",
        "rg_clf = Pipeline([('vect', CountVectorizer(ngram_range=(1,2))), ('tfidf', TfidfTransformer()), ('clf', GradientBoostingClassifier())])\n",
        "rg_clf = rg_clf.fit(X_train.tweet,y_train)\n",
        "subtask_b_metrics(rg_clf)"
      ],
      "execution_count": 0,
      "outputs": [
        {
          "output_type": "stream",
          "text": [
            "0.4952866953925793\n"
          ],
          "name": "stdout"
        }
      ]
    },
    {
      "cell_type": "markdown",
      "metadata": {
        "id": "YeV7DQR_mjRC",
        "colab_type": "text"
      },
      "source": [
        "### Sampling Techniques"
      ]
    },
    {
      "cell_type": "code",
      "metadata": {
        "id": "TuoKWs9fqU1g",
        "colab_type": "code",
        "colab": {}
      },
      "source": [
        "from sklearn.model_selection import StratifiedKFold\n",
        "def lr_cv(pipeline,print_conf = False):\n",
        "    \n",
        "    lr_fit = pipeline.fit(X_train.tweet, y_train)\n",
        "    prediction = lr_fit.predict(X_test.tweet)\n",
        "    scores = lr_fit.score(X_test.tweet,y_test)\n",
        "    f1=f1_score(y_test, prediction, average='macro')\n",
        "    print(\"f1 score: {:.5f} \".format(f1))\n",
        "    if(print_conf):\n",
        "      print(confusion_matrix(y_test,prediction))"
      ],
      "execution_count": 0,
      "outputs": []
    },
    {
      "cell_type": "code",
      "metadata": {
        "id": "_O8X3xXrmPiW",
        "colab_type": "code",
        "colab": {}
      },
      "source": [
        "from sklearn.feature_extraction.text import TfidfVectorizer\n",
        "from imblearn.under_sampling import NearMiss, RandomUnderSampler\n",
        "from imblearn.pipeline import make_pipeline\n",
        "from imblearn.over_sampling import ADASYN, SMOTE, RandomOverSampler"
      ],
      "execution_count": 0,
      "outputs": []
    },
    {
      "cell_type": "markdown",
      "metadata": {
        "id": "Tz4s-l3Ao6to",
        "colab_type": "text"
      },
      "source": [
        "### Logistic Regression"
      ]
    },
    {
      "cell_type": "code",
      "metadata": {
        "id": "9Vz-RHhpyQ52",
        "colab_type": "code",
        "outputId": "446fdd38-e41a-4e4e-88c3-2bb3bcebaa0c",
        "colab": {
          "base_uri": "https://localhost:8080/",
          "height": 119
        }
      },
      "source": [
        "tvec = TfidfVectorizer(stop_words=None, max_features=100000, ngram_range=(1, 2))\n",
        "model = LogisticRegression(solver='lbfgs')\n",
        "ROS_pipeline = make_pipeline(tvec, RandomOverSampler(random_state=777),model)\n",
        "SMOTE_pipeline = make_pipeline(tvec, SMOTE(random_state=777),model)\n",
        "RUS_pipeline = make_pipeline(tvec, RandomUnderSampler(random_state=777),model)\n",
        "NM1_pipeline = make_pipeline(tvec, NearMiss(ratio='not minority',random_state=777, version = 1),model)\n",
        "NM2_pipeline = make_pipeline(tvec, NearMiss(ratio='not minority',random_state=777, version = 2),model)\n",
        "NM3_pipeline = make_pipeline(tvec, NearMiss(ratio='not minority',random_state=777, version = 3, n_neighbors_ver3=4),model)\n",
        "\n",
        "lr_cv( ROS_pipeline)\n",
        "lr_cv( SMOTE_pipeline)\n",
        "lr_cv( RUS_pipeline)\n",
        "lr_cv( NM1_pipeline)\n",
        "lr_cv( NM2_pipeline)\n",
        "lr_cv( NM3_pipeline)"
      ],
      "execution_count": 0,
      "outputs": [
        {
          "output_type": "stream",
          "text": [
            "f1 score: 0.59832 \n",
            "f1 score: 0.59879 \n",
            "f1 score: 0.58909 \n",
            "f1 score: 0.60165 \n",
            "f1 score: 0.59156 \n",
            "f1 score: 0.57817 \n"
          ],
          "name": "stdout"
        }
      ]
    },
    {
      "cell_type": "code",
      "metadata": {
        "id": "1q3vGKfN1nGq",
        "colab_type": "code",
        "outputId": "68da431a-1e28-419b-e7cb-402929cab2d2",
        "colab": {
          "base_uri": "https://localhost:8080/",
          "height": 119
        }
      },
      "source": [
        "tvec = TfidfVectorizer(stop_words=None, max_features=100000, ngram_range=(1, 3))\n",
        "model = LogisticRegression(solver='lbfgs')\n",
        "ROS_pipeline = make_pipeline(tvec, RandomOverSampler(random_state=777),model)\n",
        "SMOTE_pipeline = make_pipeline(tvec, SMOTE(random_state=777),model)\n",
        "RUS_pipeline = make_pipeline(tvec, RandomUnderSampler(random_state=777),model)\n",
        "NM1_pipeline = make_pipeline(tvec, NearMiss(ratio='not minority',random_state=777, version = 1),model)\n",
        "NM2_pipeline = make_pipeline(tvec, NearMiss(ratio='not minority',random_state=777, version = 2),model)\n",
        "NM3_pipeline = make_pipeline(tvec, NearMiss(ratio='not minority',random_state=777, version = 3, n_neighbors_ver3=4),model)\n",
        "\n",
        "lr_cv( ROS_pipeline)\n",
        "lr_cv( SMOTE_pipeline)\n",
        "lr_cv( RUS_pipeline)\n",
        "lr_cv( NM1_pipeline)\n",
        "lr_cv( NM2_pipeline)\n",
        "lr_cv( NM3_pipeline)"
      ],
      "execution_count": 0,
      "outputs": [
        {
          "output_type": "stream",
          "text": [
            "f1 score: 0.59859 \n",
            "f1 score: 0.58979 \n",
            "f1 score: 0.59089 \n",
            "f1 score: 0.57780 \n",
            "f1 score: 0.59201 \n",
            "f1 score: 0.56766 \n"
          ],
          "name": "stdout"
        }
      ]
    },
    {
      "cell_type": "code",
      "metadata": {
        "id": "iJSsoRcZ1nux",
        "colab_type": "code",
        "outputId": "85b60736-18f3-45e8-84d2-d66a2e98dea5",
        "colab": {
          "base_uri": "https://localhost:8080/",
          "height": 173
        }
      },
      "source": [
        "tvec = TfidfVectorizer(stop_words=None, max_features=100000, ngram_range=(1, 4))\n",
        "model = LogisticRegression(solver='lbfgs')\n",
        "ROS_pipeline = make_pipeline(tvec, RandomOverSampler(random_state=777),model)\n",
        "SMOTE_pipeline = make_pipeline(tvec, SMOTE(random_state=777),model)\n",
        "RUS_pipeline = make_pipeline(tvec, RandomUnderSampler(random_state=777),model)\n",
        "NM1_pipeline = make_pipeline(tvec, NearMiss(ratio='not minority',random_state=777, version = 1),model)\n",
        "NM2_pipeline = make_pipeline(tvec, NearMiss(ratio='not minority',random_state=777, version = 2),model)\n",
        "NM3_pipeline = make_pipeline(tvec, NearMiss(ratio='not minority',random_state=777, version = 3, n_neighbors_ver3=4),model)\n",
        "\n",
        "lr_cv( ROS_pipeline)\n",
        "lr_cv( SMOTE_pipeline)\n",
        "lr_cv( RUS_pipeline)\n",
        "lr_cv( NM1_pipeline)\n",
        "lr_cv( NM2_pipeline)\n",
        "lr_cv( NM3_pipeline)"
      ],
      "execution_count": 0,
      "outputs": [
        {
          "output_type": "stream",
          "text": [
            "f1 score: 0.59426 \n",
            "f1 score: 0.58651 \n",
            "f1 score: 0.59975 \n",
            "f1 score: 0.58435 \n",
            "f1 score: 0.58203 \n"
          ],
          "name": "stdout"
        },
        {
          "output_type": "stream",
          "text": [
            "f1 score: 0.59073 \n"
          ],
          "name": "stdout"
        }
      ]
    },
    {
      "cell_type": "markdown",
      "metadata": {
        "id": "OBcU1q4muxXq",
        "colab_type": "text"
      },
      "source": [
        "### SVM"
      ]
    },
    {
      "cell_type": "code",
      "metadata": {
        "id": "k0wDK9vyy3QL",
        "colab_type": "code",
        "outputId": "fc4ed267-8b6e-4e20-ec61-bea66a6cef99",
        "colab": {
          "base_uri": "https://localhost:8080/",
          "height": 119
        }
      },
      "source": [
        "tvec = TfidfVectorizer(stop_words=None, max_features=100000, ngram_range=(1, 2))\n",
        "model = LinearSVC()\n",
        "ROS_pipeline = make_pipeline(tvec, RandomOverSampler(random_state=777),model)\n",
        "SMOTE_pipeline = make_pipeline(tvec, SMOTE(random_state=777),model)\n",
        "RUS_pipeline = make_pipeline(tvec, RandomUnderSampler(random_state=777),model)\n",
        "NM1_pipeline = make_pipeline(tvec, NearMiss(ratio='not minority',random_state=777, version = 1),model)\n",
        "NM2_pipeline = make_pipeline(tvec, NearMiss(ratio='not minority',random_state=777, version = 2),model)\n",
        "NM3_pipeline = make_pipeline(tvec, NearMiss(ratio='not minority',random_state=777, version = 3, n_neighbors_ver3=4),model)\n",
        "\n",
        "lr_cv( ROS_pipeline)\n",
        "lr_cv( SMOTE_pipeline)\n",
        "lr_cv( RUS_pipeline)\n",
        "lr_cv( NM1_pipeline)\n",
        "lr_cv( NM2_pipeline)\n",
        "lr_cv( NM3_pipeline)"
      ],
      "execution_count": 0,
      "outputs": [
        {
          "output_type": "stream",
          "text": [
            "f1 score: 0.58096 \n",
            "f1 score: 0.57534 \n",
            "f1 score: 0.59888 \n",
            "f1 score: 0.59556 \n",
            "f1 score: 0.57691 \n",
            "f1 score: 0.53915 \n"
          ],
          "name": "stdout"
        }
      ]
    },
    {
      "cell_type": "code",
      "metadata": {
        "id": "yu7KpMPU1xdH",
        "colab_type": "code",
        "outputId": "c57ece8a-7352-4816-94db-91e59bcc4d1b",
        "colab": {
          "base_uri": "https://localhost:8080/",
          "height": 119
        }
      },
      "source": [
        "tvec = TfidfVectorizer(stop_words=None, max_features=100000, ngram_range=(1, 3))\n",
        "model = LinearSVC()\n",
        "ROS_pipeline = make_pipeline(tvec, RandomOverSampler(random_state=777),model)\n",
        "SMOTE_pipeline = make_pipeline(tvec, SMOTE(random_state=777),model)\n",
        "RUS_pipeline = make_pipeline(tvec, RandomUnderSampler(random_state=777),model)\n",
        "NM1_pipeline = make_pipeline(tvec, NearMiss(ratio='not minority',random_state=777, version = 1),model)\n",
        "NM2_pipeline = make_pipeline(tvec, NearMiss(ratio='not minority',random_state=777, version = 2),model)\n",
        "NM3_pipeline = make_pipeline(tvec, NearMiss(ratio='not minority',random_state=777, version = 3, n_neighbors_ver3=4),model)\n",
        "\n",
        "lr_cv( ROS_pipeline)\n",
        "lr_cv( SMOTE_pipeline)\n",
        "lr_cv( RUS_pipeline)\n",
        "lr_cv( NM1_pipeline)\n",
        "lr_cv( NM2_pipeline)\n",
        "lr_cv( NM3_pipeline)"
      ],
      "execution_count": 0,
      "outputs": [
        {
          "output_type": "stream",
          "text": [
            "f1 score: 0.57198 \n",
            "f1 score: 0.57198 \n",
            "f1 score: 0.56591 \n",
            "f1 score: 0.58347 \n",
            "f1 score: 0.54907 \n",
            "f1 score: 0.53608 \n"
          ],
          "name": "stdout"
        }
      ]
    },
    {
      "cell_type": "code",
      "metadata": {
        "id": "FxESzBi51xmm",
        "colab_type": "code",
        "outputId": "69e80f84-7723-4995-f5ed-bea896653309",
        "colab": {
          "base_uri": "https://localhost:8080/",
          "height": 173
        }
      },
      "source": [
        "tvec = TfidfVectorizer(stop_words=None, max_features=100000, ngram_range=(1, 4))\n",
        "model = LinearSVC()\n",
        "ROS_pipeline = make_pipeline(tvec, RandomOverSampler(random_state=777),model)\n",
        "SMOTE_pipeline = make_pipeline(tvec, SMOTE(random_state=777),model)\n",
        "RUS_pipeline = make_pipeline(tvec, RandomUnderSampler(random_state=777),model)\n",
        "NM1_pipeline = make_pipeline(tvec, NearMiss(ratio='not minority',random_state=777, version = 1),model)\n",
        "NM2_pipeline = make_pipeline(tvec, NearMiss(ratio='not minority',random_state=777, version = 2),model)\n",
        "NM3_pipeline = make_pipeline(tvec, NearMiss(ratio='not minority',random_state=777, version = 3, n_neighbors_ver3=4),model)\n",
        "\n",
        "lr_cv( ROS_pipeline)\n",
        "lr_cv( SMOTE_pipeline)\n",
        "lr_cv( RUS_pipeline)\n",
        "lr_cv( NM1_pipeline)\n",
        "lr_cv( NM2_pipeline)\n",
        "lr_cv( NM3_pipeline)"
      ],
      "execution_count": 0,
      "outputs": [
        {
          "output_type": "stream",
          "text": [
            "f1 score: 0.58015 \n",
            "f1 score: 0.55168 \n",
            "f1 score: 0.58347 \n",
            "f1 score: 0.58840 \n",
            "f1 score: 0.57427 \n"
          ],
          "name": "stdout"
        },
        {
          "output_type": "stream",
          "text": [
            "f1 score: 0.58280 \n"
          ],
          "name": "stdout"
        }
      ]
    },
    {
      "cell_type": "markdown",
      "metadata": {
        "id": "TinyvV5SyImc",
        "colab_type": "text"
      },
      "source": [
        "### Bagging Classifier"
      ]
    },
    {
      "cell_type": "code",
      "metadata": {
        "id": "hHIwnsDSvGoT",
        "colab_type": "code",
        "outputId": "226ad777-905f-42ba-9c48-be1ff3f0c607",
        "colab": {
          "base_uri": "https://localhost:8080/",
          "height": 119
        }
      },
      "source": [
        "tvec = TfidfVectorizer(stop_words=None, max_features=100000, ngram_range=(1, 2))\n",
        "from sklearn.ensemble import BaggingClassifier\n",
        "model = BaggingClassifier()\n",
        "ROS_pipeline = make_pipeline(tvec, RandomOverSampler(random_state=777),model)\n",
        "SMOTE_pipeline = make_pipeline(tvec, SMOTE(random_state=777),model)\n",
        "RUS_pipeline = make_pipeline(tvec, RandomUnderSampler(random_state=777),model)\n",
        "NM1_pipeline = make_pipeline(tvec, NearMiss(ratio='not minority',random_state=777, version = 1),model)\n",
        "NM2_pipeline = make_pipeline(tvec, NearMiss(ratio='not minority',random_state=777, version = 2),model)\n",
        "NM3_pipeline = make_pipeline(tvec, NearMiss(ratio='not minority',random_state=777, version = 3, n_neighbors_ver3=4),model)\n",
        "\n",
        "lr_cv( ROS_pipeline)\n",
        "lr_cv( SMOTE_pipeline)\n",
        "lr_cv( RUS_pipeline)\n",
        "lr_cv( NM1_pipeline)\n",
        "lr_cv( NM2_pipeline)\n",
        "lr_cv( NM3_pipeline)"
      ],
      "execution_count": 0,
      "outputs": [
        {
          "output_type": "stream",
          "text": [
            "f1 score: 0.56710 \n",
            "f1 score: 0.54953 \n",
            "f1 score: 0.58465 \n",
            "f1 score: 0.54751 \n",
            "f1 score: 0.57063 \n",
            "f1 score: 0.55035 \n"
          ],
          "name": "stdout"
        }
      ]
    },
    {
      "cell_type": "code",
      "metadata": {
        "id": "9icFfTeOznE8",
        "colab_type": "code",
        "outputId": "7627bc33-39ae-4e93-a8db-4aa9d90448da",
        "colab": {
          "base_uri": "https://localhost:8080/",
          "height": 119
        }
      },
      "source": [
        "tvec = TfidfVectorizer(stop_words=None, max_features=100000, ngram_range=(1, 3))\n",
        "from sklearn.ensemble import BaggingClassifier\n",
        "model = BaggingClassifier()\n",
        "ROS_pipeline = make_pipeline(tvec, RandomOverSampler(random_state=777),model)\n",
        "SMOTE_pipeline = make_pipeline(tvec, SMOTE(random_state=777),model)\n",
        "RUS_pipeline = make_pipeline(tvec, RandomUnderSampler(random_state=777),model)\n",
        "NM1_pipeline = make_pipeline(tvec, NearMiss(ratio='not minority',random_state=777, version = 1),model)\n",
        "NM2_pipeline = make_pipeline(tvec, NearMiss(ratio='not minority',random_state=777, version = 2),model)\n",
        "NM3_pipeline = make_pipeline(tvec, NearMiss(ratio='not minority',random_state=777, version = 3, n_neighbors_ver3=4),model)\n",
        "\n",
        "lr_cv( ROS_pipeline)\n",
        "lr_cv( SMOTE_pipeline)\n",
        "lr_cv( RUS_pipeline)\n",
        "lr_cv( NM1_pipeline)\n",
        "lr_cv( NM2_pipeline)\n",
        "lr_cv( NM3_pipeline)"
      ],
      "execution_count": 0,
      "outputs": [
        {
          "output_type": "stream",
          "text": [
            "f1 score: 0.55528 \n",
            "f1 score: 0.54716 \n",
            "f1 score: 0.56831 \n",
            "f1 score: 0.52791 \n",
            "f1 score: 0.57036 \n",
            "f1 score: 0.54110 \n"
          ],
          "name": "stdout"
        }
      ]
    },
    {
      "cell_type": "code",
      "metadata": {
        "id": "F0o2uo6AznP4",
        "colab_type": "code",
        "outputId": "8f62a3de-d414-4918-d55c-4b4e41453fdb",
        "colab": {
          "base_uri": "https://localhost:8080/",
          "height": 173
        }
      },
      "source": [
        "tvec = TfidfVectorizer(stop_words=None, max_features=100000, ngram_range=(1, 4))\n",
        "from sklearn.ensemble import BaggingClassifier\n",
        "model = BaggingClassifier()\n",
        "ROS_pipeline = make_pipeline(tvec, RandomOverSampler(random_state=777),model)\n",
        "SMOTE_pipeline = make_pipeline(tvec, SMOTE(random_state=777),model)\n",
        "RUS_pipeline = make_pipeline(tvec, RandomUnderSampler(random_state=777),model)\n",
        "NM1_pipeline = make_pipeline(tvec, NearMiss(ratio='not minority',random_state=777, version = 1),model)\n",
        "NM2_pipeline = make_pipeline(tvec, NearMiss(ratio='not minority',random_state=777, version = 2),model)\n",
        "NM3_pipeline = make_pipeline(tvec, NearMiss(ratio='not minority',random_state=777, version = 3, n_neighbors_ver3=4),model)\n",
        "\n",
        "lr_cv( ROS_pipeline)\n",
        "lr_cv( SMOTE_pipeline)\n",
        "lr_cv( RUS_pipeline)\n",
        "lr_cv( NM1_pipeline)\n",
        "lr_cv( NM2_pipeline)\n",
        "lr_cv( NM3_pipeline)"
      ],
      "execution_count": 0,
      "outputs": [
        {
          "output_type": "stream",
          "text": [
            "f1 score: 0.58412 \n",
            "f1 score: 0.55662 \n",
            "f1 score: 0.58133 \n",
            "f1 score: 0.57211 \n",
            "f1 score: 0.58200 \n"
          ],
          "name": "stdout"
        },
        {
          "output_type": "stream",
          "text": [
            "f1 score: 0.59481 \n"
          ],
          "name": "stdout"
        }
      ]
    },
    {
      "cell_type": "markdown",
      "metadata": {
        "id": "PdWKS5C8qvC1",
        "colab_type": "text"
      },
      "source": [
        "### XGBoost"
      ]
    },
    {
      "cell_type": "code",
      "metadata": {
        "id": "8zNio206qoNs",
        "colab_type": "code",
        "outputId": "116b2b0b-a433-45a5-e591-4d14c135343c",
        "colab": {
          "base_uri": "https://localhost:8080/",
          "height": 119
        }
      },
      "source": [
        "tvec = TfidfVectorizer(stop_words=None, max_features=100000, ngram_range=(1, 2))\n",
        "model = XGBClassifier()\n",
        "ROS_pipeline = make_pipeline(tvec, RandomOverSampler(random_state=777),model)\n",
        "SMOTE_pipeline = make_pipeline(tvec, SMOTE(random_state=777),model)\n",
        "RUS_pipeline = make_pipeline(tvec, RandomUnderSampler(random_state=777),model)\n",
        "NM1_pipeline = make_pipeline(tvec, NearMiss(ratio='not minority',random_state=777, version = 1),model)\n",
        "NM2_pipeline = make_pipeline(tvec, NearMiss(ratio='not minority',random_state=777, version = 2),model)\n",
        "NM3_pipeline = make_pipeline(tvec, NearMiss(ratio='not minority',random_state=777, version = 3, n_neighbors_ver3=4),model)\n",
        "\n",
        "lr_cv( ROS_pipeline)\n",
        "lr_cv( SMOTE_pipeline)\n",
        "lr_cv( RUS_pipeline)\n",
        "lr_cv( NM1_pipeline)\n",
        "lr_cv( NM2_pipeline)\n",
        "lr_cv( NM3_pipeline)"
      ],
      "execution_count": 0,
      "outputs": [
        {
          "output_type": "stream",
          "text": [
            "f1 score: 0.51661 \n",
            "f1 score: 0.49714 \n",
            "f1 score: 0.51241 \n",
            "f1 score: 0.52304 \n",
            "f1 score: 0.51885 \n",
            "f1 score: 0.52845 \n"
          ],
          "name": "stdout"
        }
      ]
    },
    {
      "cell_type": "code",
      "metadata": {
        "id": "b2u5bOls02KD",
        "colab_type": "code",
        "outputId": "2cd89872-5c14-4ec9-bdbc-5bbba1c07917",
        "colab": {
          "base_uri": "https://localhost:8080/",
          "height": 119
        }
      },
      "source": [
        "tvec = TfidfVectorizer(stop_words=None, max_features=100000, ngram_range=(1, 3))\n",
        "model = XGBClassifier()\n",
        "ROS_pipeline = make_pipeline(tvec, RandomOverSampler(random_state=777),model)\n",
        "SMOTE_pipeline = make_pipeline(tvec, SMOTE(random_state=777),model)\n",
        "RUS_pipeline = make_pipeline(tvec, RandomUnderSampler(random_state=777),model)\n",
        "NM1_pipeline = make_pipeline(tvec, NearMiss(ratio='not minority',random_state=777, version = 1),model)\n",
        "NM2_pipeline = make_pipeline(tvec, NearMiss(ratio='not minority',random_state=777, version = 2),model)\n",
        "NM3_pipeline = make_pipeline(tvec, NearMiss(ratio='not minority',random_state=777, version = 3, n_neighbors_ver3=4),model)\n",
        "\n",
        "lr_cv( ROS_pipeline)\n",
        "lr_cv( SMOTE_pipeline)\n",
        "lr_cv( RUS_pipeline)\n",
        "lr_cv( NM1_pipeline)\n",
        "lr_cv( NM2_pipeline)\n",
        "lr_cv( NM3_pipeline)"
      ],
      "execution_count": 0,
      "outputs": [
        {
          "output_type": "stream",
          "text": [
            "f1 score: 0.49092 \n",
            "f1 score: 0.44136 \n",
            "f1 score: 0.48054 \n",
            "f1 score: 0.50127 \n",
            "f1 score: 0.47749 \n",
            "f1 score: 0.48757 \n"
          ],
          "name": "stdout"
        }
      ]
    },
    {
      "cell_type": "code",
      "metadata": {
        "id": "3S7_4F6K02Ro",
        "colab_type": "code",
        "outputId": "c40444f3-85bf-43bd-9e4b-efe9658a813e",
        "colab": {
          "base_uri": "https://localhost:8080/",
          "height": 173
        }
      },
      "source": [
        "tvec = TfidfVectorizer(stop_words=None, max_features=100000, ngram_range=(1, 4))\n",
        "model = XGBClassifier()\n",
        "ROS_pipeline = make_pipeline(tvec, RandomOverSampler(random_state=777),model)\n",
        "SMOTE_pipeline = make_pipeline(tvec, SMOTE(random_state=777),model)\n",
        "RUS_pipeline = make_pipeline(tvec, RandomUnderSampler(random_state=777),model)\n",
        "NM1_pipeline = make_pipeline(tvec, NearMiss(ratio='not minority',random_state=777, version = 1),model)\n",
        "NM2_pipeline = make_pipeline(tvec, NearMiss(ratio='not minority',random_state=777, version = 2),model)\n",
        "NM3_pipeline = make_pipeline(tvec, NearMiss(ratio='not minority',random_state=777, version = 3, n_neighbors_ver3=4),model)\n",
        "\n",
        "lr_cv( ROS_pipeline)\n",
        "lr_cv( SMOTE_pipeline)\n",
        "lr_cv( RUS_pipeline)\n",
        "lr_cv( NM1_pipeline)\n",
        "lr_cv( NM2_pipeline)\n",
        "lr_cv( NM3_pipeline)"
      ],
      "execution_count": 0,
      "outputs": [
        {
          "output_type": "stream",
          "text": [
            "f1 score: 0.51415 \n",
            "f1 score: 0.45424 \n",
            "f1 score: 0.51144 \n",
            "f1 score: 0.50294 \n",
            "f1 score: 0.47864 \n"
          ],
          "name": "stdout"
        },
        {
          "output_type": "stream",
          "text": [
            "f1 score: 0.51006 \n"
          ],
          "name": "stdout"
        }
      ]
    },
    {
      "cell_type": "markdown",
      "metadata": {
        "id": "ifXQzzlHq0kM",
        "colab_type": "text"
      },
      "source": [
        "### GBM"
      ]
    },
    {
      "cell_type": "code",
      "metadata": {
        "id": "CR1quPnzqobY",
        "colab_type": "code",
        "outputId": "c8b23ad0-658d-419b-81e7-b2e5d1347d57",
        "colab": {
          "base_uri": "https://localhost:8080/",
          "height": 119
        }
      },
      "source": [
        "tvec = TfidfVectorizer(stop_words=None, max_features=100000, ngram_range=(1, 2))\n",
        "model = GradientBoostingClassifier()\n",
        "ROS_pipeline = make_pipeline(tvec, RandomOverSampler(random_state=777),model)\n",
        "SMOTE_pipeline = make_pipeline(tvec, SMOTE(random_state=777),model)\n",
        "RUS_pipeline = make_pipeline(tvec, RandomUnderSampler(random_state=777),model)\n",
        "NM1_pipeline = make_pipeline(tvec, NearMiss(ratio='not minority',random_state=777, version = 1),model)\n",
        "NM2_pipeline = make_pipeline(tvec, NearMiss(ratio='not minority',random_state=777, version = 2),model)\n",
        "NM3_pipeline = make_pipeline(tvec, NearMiss(ratio='not minority',random_state=777, version = 3, n_neighbors_ver3=4),model)\n",
        "\n",
        "lr_cv( ROS_pipeline)\n",
        "lr_cv( SMOTE_pipeline)\n",
        "lr_cv( RUS_pipeline)\n",
        "lr_cv( NM1_pipeline)\n",
        "lr_cv( NM2_pipeline)\n",
        "lr_cv( NM3_pipeline)"
      ],
      "execution_count": 0,
      "outputs": [
        {
          "output_type": "stream",
          "text": [
            "f1 score: 0.54464 \n",
            "f1 score: 0.52457 \n",
            "f1 score: 0.52974 \n",
            "f1 score: 0.52368 \n",
            "f1 score: 0.54863 \n",
            "f1 score: 0.53860 \n"
          ],
          "name": "stdout"
        }
      ]
    },
    {
      "cell_type": "code",
      "metadata": {
        "id": "2Kizx2uL1G3T",
        "colab_type": "code",
        "outputId": "4c03a707-5657-40f1-d5b8-dea817604a52",
        "colab": {
          "base_uri": "https://localhost:8080/",
          "height": 119
        }
      },
      "source": [
        "tvec = TfidfVectorizer(stop_words=None, max_features=100000, ngram_range=(1, 3))\n",
        "model = GradientBoostingClassifier()\n",
        "ROS_pipeline = make_pipeline(tvec, RandomOverSampler(random_state=777),model)\n",
        "SMOTE_pipeline = make_pipeline(tvec, SMOTE(random_state=777),model)\n",
        "RUS_pipeline = make_pipeline(tvec, RandomUnderSampler(random_state=777),model)\n",
        "NM1_pipeline = make_pipeline(tvec, NearMiss(ratio='not minority',random_state=777, version = 1),model)\n",
        "NM2_pipeline = make_pipeline(tvec, NearMiss(ratio='not minority',random_state=777, version = 2),model)\n",
        "NM3_pipeline = make_pipeline(tvec, NearMiss(ratio='not minority',random_state=777, version = 3, n_neighbors_ver3=4),model)\n",
        "\n",
        "lr_cv( ROS_pipeline)\n",
        "lr_cv( SMOTE_pipeline)\n",
        "lr_cv( RUS_pipeline)\n",
        "lr_cv( NM1_pipeline)\n",
        "lr_cv( NM2_pipeline)\n",
        "lr_cv( NM3_pipeline)"
      ],
      "execution_count": 0,
      "outputs": [
        {
          "output_type": "stream",
          "text": [
            "f1 score: 0.52940 \n",
            "f1 score: 0.50184 \n",
            "f1 score: 0.53416 \n",
            "f1 score: 0.53497 \n",
            "f1 score: 0.52148 \n",
            "f1 score: 0.52306 \n"
          ],
          "name": "stdout"
        }
      ]
    },
    {
      "cell_type": "code",
      "metadata": {
        "id": "o9CfAt-p1G9z",
        "colab_type": "code",
        "colab": {}
      },
      "source": [
        "tvec = TfidfVectorizer(stop_words=None, max_features=100000, ngram_range=(1, 4))\n",
        "model = GradientBoostingClassifier()\n",
        "ROS_pipeline = make_pipeline(tvec, RandomOverSampler(random_state=777),model)\n",
        "SMOTE_pipeline = make_pipeline(tvec, SMOTE(random_state=777),model)\n",
        "RUS_pipeline = make_pipeline(tvec, RandomUnderSampler(random_state=777),model)\n",
        "NM1_pipeline = make_pipeline(tvec, NearMiss(ratio='not minority',random_state=777, version = 1),model)\n",
        "NM2_pipeline = make_pipeline(tvec, NearMiss(ratio='not minority',random_state=777, version = 2),model)\n",
        "NM3_pipeline = make_pipeline(tvec, NearMiss(ratio='not minority',random_state=777, version = 3, n_neighbors_ver3=4),model)\n",
        "\n",
        "lr_cv( ROS_pipeline)\n",
        "lr_cv( SMOTE_pipeline)\n",
        "lr_cv( RUS_pipeline)\n",
        "lr_cv( NM1_pipeline)\n",
        "lr_cv( NM2_pipeline)\n",
        "lr_cv( NM3_pipeline)"
      ],
      "execution_count": 0,
      "outputs": []
    },
    {
      "cell_type": "markdown",
      "metadata": {
        "id": "Xau6aDZPq21I",
        "colab_type": "text"
      },
      "source": [
        "### AdaBoost"
      ]
    },
    {
      "cell_type": "code",
      "metadata": {
        "id": "q6GzcCa6q4be",
        "colab_type": "code",
        "colab": {}
      },
      "source": [
        "tvec = TfidfVectorizer(stop_words=None, max_features=100000, ngram_range=(1, 2))\n",
        "model = AdaBoostClassifier()\n",
        "ROS_pipeline = make_pipeline(tvec, RandomOverSampler(random_state=777),model)\n",
        "SMOTE_pipeline = make_pipeline(tvec, SMOTE(random_state=777),model)\n",
        "RUS_pipeline = make_pipeline(tvec, RandomUnderSampler(random_state=777),model)\n",
        "NM1_pipeline = make_pipeline(tvec, NearMiss(ratio='not minority',random_state=777, version = 1),model)\n",
        "NM2_pipeline = make_pipeline(tvec, NearMiss(ratio='not minority',random_state=777, version = 2),model)\n",
        "NM3_pipeline = make_pipeline(tvec, NearMiss(ratio='not minority',random_state=777, version = 3, n_neighbors_ver3=4),model)\n",
        "\n",
        "lr_cv( ROS_pipeline)\n",
        "lr_cv( SMOTE_pipeline)\n",
        "lr_cv( RUS_pipeline)\n",
        "lr_cv( NM1_pipeline)\n",
        "lr_cv( NM2_pipeline)\n",
        "lr_cv( NM3_pipeline)"
      ],
      "execution_count": 0,
      "outputs": []
    },
    {
      "cell_type": "code",
      "metadata": {
        "id": "TMeW43t01Vys",
        "colab_type": "code",
        "colab": {}
      },
      "source": [
        "tvec = TfidfVectorizer(stop_words=None, max_features=100000, ngram_range=(1, 3))\n",
        "model = AdaBoostClassifier()\n",
        "ROS_pipeline = make_pipeline(tvec, RandomOverSampler(random_state=777),model)\n",
        "SMOTE_pipeline = make_pipeline(tvec, SMOTE(random_state=777),model)\n",
        "RUS_pipeline = make_pipeline(tvec, RandomUnderSampler(random_state=777),model)\n",
        "NM1_pipeline = make_pipeline(tvec, NearMiss(ratio='not minority',random_state=777, version = 1),model)\n",
        "NM2_pipeline = make_pipeline(tvec, NearMiss(ratio='not minority',random_state=777, version = 2),model)\n",
        "NM3_pipeline = make_pipeline(tvec, NearMiss(ratio='not minority',random_state=777, version = 3, n_neighbors_ver3=4),model)\n",
        "\n",
        "lr_cv( ROS_pipeline)\n",
        "lr_cv( SMOTE_pipeline)\n",
        "lr_cv( RUS_pipeline)\n",
        "lr_cv( NM1_pipeline)\n",
        "lr_cv( NM2_pipeline)\n",
        "lr_cv( NM3_pipeline)"
      ],
      "execution_count": 0,
      "outputs": []
    },
    {
      "cell_type": "code",
      "metadata": {
        "id": "OuVvm-U-1V5Q",
        "colab_type": "code",
        "colab": {}
      },
      "source": [
        "tvec = TfidfVectorizer(stop_words=None, max_features=100000, ngram_range=(1, 4))\n",
        "model = AdaBoostClassifier()\n",
        "ROS_pipeline = make_pipeline(tvec, RandomOverSampler(random_state=777),model)\n",
        "SMOTE_pipeline = make_pipeline(tvec, SMOTE(random_state=777),model)\n",
        "RUS_pipeline = make_pipeline(tvec, RandomUnderSampler(random_state=777),model)\n",
        "NM1_pipeline = make_pipeline(tvec, NearMiss(ratio='not minority',random_state=777, version = 1),model)\n",
        "NM2_pipeline = make_pipeline(tvec, NearMiss(ratio='not minority',random_state=777, version = 2),model)\n",
        "NM3_pipeline = make_pipeline(tvec, NearMiss(ratio='not minority',random_state=777, version = 3, n_neighbors_ver3=4),model)\n",
        "\n",
        "lr_cv( ROS_pipeline)\n",
        "lr_cv( SMOTE_pipeline)\n",
        "lr_cv( RUS_pipeline)\n",
        "lr_cv( NM1_pipeline)\n",
        "lr_cv( NM2_pipeline)\n",
        "lr_cv( NM3_pipeline)"
      ],
      "execution_count": 0,
      "outputs": []
    },
    {
      "cell_type": "markdown",
      "metadata": {
        "id": "4RRd4d0j1T9I",
        "colab_type": "text"
      },
      "source": [
        "### Ensemble"
      ]
    },
    {
      "cell_type": "code",
      "metadata": {
        "id": "X7bvMwCatui4",
        "colab_type": "code",
        "colab": {}
      },
      "source": [
        "tvec = TfidfVectorizer(stop_words=None, max_features=100000, ngram_range=(1,2))\n",
        "model1 = LogisticRegression(solver='lbfgs')\n",
        "model2 = AdaBoostClassifier()\n",
        "model3 = XGBClassifier()\n",
        "# create the ensemble model\n",
        "eclf1 = VotingClassifier(estimators=[('LogReg', model1), ('adaboost', model2), ('xgboost', model3)], voting='soft')\n",
        "\n",
        "ROS_pipeline = make_pipeline(tvec, RandomOverSampler(random_state=777),eclf1)\n",
        "lr_cv( ROS_pipeline,True)\n",
        "\n",
        "SMOTE_pipeline = make_pipeline(tvec, SMOTE(random_state=777),eclf1)\n",
        "lr_cv( SMOTE_pipeline,True)\n"
      ],
      "execution_count": 0,
      "outputs": []
    },
    {
      "cell_type": "code",
      "metadata": {
        "id": "D1E8vM054_5D",
        "colab_type": "code",
        "colab": {}
      },
      "source": [
        "tvec = TfidfVectorizer(stop_words=None, max_features=100000, ngram_range=(1,2))\n",
        "model1 = LogisticRegression(solver='lbfgs')\n",
        "model2 = AdaBoostClassifier()\n",
        "model3 = XGBClassifier()\n",
        "# create the ensemble model\n",
        "eclf1 = VotingClassifier(estimators=[('LogReg', model1), ('adaboost', model2), ('xgboost', model3)], voting='hard')\n",
        "\n",
        "ROS_pipeline = make_pipeline(tvec, RandomOverSampler(random_state=777),eclf1)\n",
        "lr_cv( ROS_pipeline,True)\n",
        "\n",
        "SMOTE_pipeline = make_pipeline(tvec, SMOTE(random_state=777),eclf1)\n",
        "lr_cv( SMOTE_pipeline,True)\n"
      ],
      "execution_count": 0,
      "outputs": []
    },
    {
      "cell_type": "markdown",
      "metadata": {
        "id": "yrA-kT1nC83b",
        "colab_type": "text"
      },
      "source": [
        "### Get valid predictions from best model"
      ]
    },
    {
      "cell_type": "code",
      "metadata": {
        "id": "iBWkT9leC9Kp",
        "colab_type": "code",
        "outputId": "2232f629-295c-4ea0-f225-b9bfe156c474",
        "colab": {
          "base_uri": "https://localhost:8080/",
          "height": 51
        }
      },
      "source": [
        "# Training NB + BOW + TF-IDF model\n",
        "\n",
        "nb_clf = Pipeline([('vect', CountVectorizer(ngram_range=(1,2))),  ('clf', MultinomialNB())])\n",
        "nb_clf = nb_clf.fit(X_train.tweet,y_train)\n",
        "y_pred = nb_clf.predict(X_test.tweet)\n",
        "print(confusion_matrix(y_pred,y_test))"
      ],
      "execution_count": 0,
      "outputs": [
        {
          "output_type": "stream",
          "text": [
            "[[717  76]\n",
            " [ 58  29]]\n"
          ],
          "name": "stdout"
        }
      ]
    },
    {
      "cell_type": "code",
      "metadata": {
        "id": "HPNdJcgFMfDz",
        "colab_type": "code",
        "outputId": "86039fba-6050-4cf5-b317-a16edabe14a9",
        "colab": {
          "base_uri": "https://localhost:8080/",
          "height": 34
        }
      },
      "source": [
        "f1_score(y_pred,y_test,average=\"macro\")"
      ],
      "execution_count": 0,
      "outputs": [
        {
          "output_type": "execute_result",
          "data": {
            "text/plain": [
              "0.6083120748299319"
            ]
          },
          "metadata": {
            "tags": []
          },
          "execution_count": 157
        }
      ]
    },
    {
      "cell_type": "code",
      "metadata": {
        "id": "emUOuIWCJRoV",
        "colab_type": "code",
        "colab": {}
      },
      "source": [
        "unt_prob = nb_clf.predict_proba(X_test.tweet)"
      ],
      "execution_count": 0,
      "outputs": []
    },
    {
      "cell_type": "markdown",
      "metadata": {
        "id": "eBLgxS-yCILS",
        "colab_type": "text"
      },
      "source": [
        "### Get best model for positive label "
      ]
    },
    {
      "cell_type": "code",
      "metadata": {
        "id": "wkBlfGmPCHF_",
        "colab_type": "code",
        "outputId": "7b7456e8-8117-4d16-f111-7e202e652136",
        "colab": {
          "base_uri": "https://localhost:8080/",
          "height": 51
        }
      },
      "source": [
        "from google_drive_downloader import GoogleDriveDownloader as gdd\n",
        "\n",
        "gdd.download_file_from_google_drive(file_id='1DnWHFdfNYEpvegCNNPzCWpNXUuK9t7FC',     # Id of file to be downloaded\n",
        "                                    dest_path='data/offenseval-training-v1.tsv')     # Destination path\n",
        "df2 = pd.read_table(\"data/offenseval-training-v1.tsv\",sep='\\t',index_col=False, error_bad_lines=False) \n",
        "df2['tweet'] = clean_text(df2['tweet'])\n",
        "df2 = df2.loc[df2['subtask_a'] == 'OFF']\n",
        "df2 = df2.drop(['subtask_a','subtask_c'],axis=1)\n",
        "\n",
        "from sklearn.metrics import f1_score\n",
        "from sklearn.model_selection import train_test_split\n",
        "train, valid = train_test_split(df2, test_size=0.2, random_state=0, stratify=df2['subtask_b'])\n",
        "\n",
        "# Label encode the target variable of train & dev data\n",
        "le1=LabelEncoder()\n",
        "train.subtask_b=le1.fit_transform(train.subtask_b)\n",
        "valid.subtask_b=le1.transform(valid.subtask_b)\n",
        "\n",
        "tvec = TfidfVectorizer(stop_words=None, max_features=100000, ngram_range=(1, 2))\n",
        "model = XGBClassifier()\n",
        "SMOTE_pipeline = make_pipeline(tvec, SMOTE(random_state=777),model)\n",
        "\n",
        "lr_fit = SMOTE_pipeline.fit(train.tweet, train.subtask_b)\n",
        "prediction = lr_fit.predict(valid.tweet)\n",
        "confusion_matrix(prediction,valid.subtask_b)"
      ],
      "execution_count": 0,
      "outputs": [
        {
          "output_type": "execute_result",
          "data": {
            "text/plain": [
              "array([[742,  81],\n",
              "       [ 33,  24]])"
            ]
          },
          "metadata": {
            "tags": []
          },
          "execution_count": 159
        }
      ]
    },
    {
      "cell_type": "code",
      "metadata": {
        "id": "KpRrNhmkGrll",
        "colab_type": "code",
        "outputId": "ad0a893d-960b-47b9-f677-b061cbe8847a",
        "colab": {
          "base_uri": "https://localhost:8080/",
          "height": 34
        }
      },
      "source": [
        "f1_score(prediction,y_test,average=\"macro\")"
      ],
      "execution_count": 0,
      "outputs": [
        {
          "output_type": "execute_result",
          "data": {
            "text/plain": [
              "0.6124785611644185"
            ]
          },
          "metadata": {
            "tags": []
          },
          "execution_count": 160
        }
      ]
    },
    {
      "cell_type": "code",
      "metadata": {
        "id": "6Z_NMaECJGVS",
        "colab_type": "code",
        "colab": {}
      },
      "source": [
        "tin_prob = lr_fit.predict_proba(valid.tweet)"
      ],
      "execution_count": 0,
      "outputs": []
    },
    {
      "cell_type": "markdown",
      "metadata": {
        "id": "CKpwlh1jEGM0",
        "colab_type": "text"
      },
      "source": [
        "### Combine the best models for both labels"
      ]
    },
    {
      "cell_type": "code",
      "metadata": {
        "id": "ulsXpJdECHU9",
        "colab_type": "code",
        "colab": {}
      },
      "source": [
        "final_prob = 0.5*(tin_prob+unt_prob)\n",
        "final_preds = np.argmax(final_prob,axis=1)"
      ],
      "execution_count": 0,
      "outputs": []
    },
    {
      "cell_type": "code",
      "metadata": {
        "id": "mE98jTA1CHbA",
        "colab_type": "code",
        "outputId": "e4233dac-283e-4d5f-8240-668e31982749",
        "colab": {
          "base_uri": "https://localhost:8080/",
          "height": 51
        }
      },
      "source": [
        "confusion_matrix(final_preds,valid.subtask_b)"
      ],
      "execution_count": 0,
      "outputs": [
        {
          "output_type": "execute_result",
          "data": {
            "text/plain": [
              "array([[729,  77],\n",
              "       [ 46,  28]])"
            ]
          },
          "metadata": {
            "tags": []
          },
          "execution_count": 163
        }
      ]
    },
    {
      "cell_type": "code",
      "metadata": {
        "id": "VncAGmXdLKI1",
        "colab_type": "code",
        "outputId": "443d346c-803c-42a7-ff07-600bfe617350",
        "colab": {
          "base_uri": "https://localhost:8080/",
          "height": 34
        }
      },
      "source": [
        "f1_score(final_preds,y_test,average=\"macro\")"
      ],
      "execution_count": 0,
      "outputs": [
        {
          "output_type": "execute_result",
          "data": {
            "text/plain": [
              "0.6175251502655488"
            ]
          },
          "metadata": {
            "tags": []
          },
          "execution_count": 164
        }
      ]
    },
    {
      "cell_type": "code",
      "metadata": {
        "id": "duod-tTaCHZE",
        "colab_type": "code",
        "colab": {}
      },
      "source": [
        "# Combine y_pred and prediction to get best model with F1 score\n",
        "final_preds=[]\n",
        "\n",
        "for i in range(0,len(y_pred)):\n",
        "    if(tin_prob[i,0] > unt_prob[i,1]):\n",
        "      final_preds.append(0)\n",
        "    else:\n",
        "      final_preds.append(1)"
      ],
      "execution_count": 0,
      "outputs": []
    },
    {
      "cell_type": "code",
      "metadata": {
        "id": "j80Sj6qnL7-5",
        "colab_type": "code",
        "outputId": "ce4ed95a-3361-4d22-a995-d3649b197d56",
        "colab": {
          "base_uri": "https://localhost:8080/",
          "height": 34
        }
      },
      "source": [
        "f1_score(final_preds,y_test,average=\"macro\")"
      ],
      "execution_count": 0,
      "outputs": [
        {
          "output_type": "execute_result",
          "data": {
            "text/plain": [
              "0.6175251502655488"
            ]
          },
          "metadata": {
            "tags": []
          },
          "execution_count": 166
        }
      ]
    },
    {
      "cell_type": "code",
      "metadata": {
        "id": "KNK_t1qKMANg",
        "colab_type": "code",
        "outputId": "314cf162-317b-46df-dbc0-c46d220ccec2",
        "colab": {
          "base_uri": "https://localhost:8080/",
          "height": 136
        }
      },
      "source": [
        "tin_prob"
      ],
      "execution_count": 0,
      "outputs": [
        {
          "output_type": "execute_result",
          "data": {
            "text/plain": [
              "array([[0.82634   , 0.17365998],\n",
              "       [0.6176636 , 0.38233638],\n",
              "       [0.88697934, 0.11302069],\n",
              "       ...,\n",
              "       [0.67040837, 0.32959163],\n",
              "       [0.7402159 , 0.25978407],\n",
              "       [0.5558852 , 0.44411483]], dtype=float32)"
            ]
          },
          "metadata": {
            "tags": []
          },
          "execution_count": 123
        }
      ]
    },
    {
      "cell_type": "code",
      "metadata": {
        "id": "BTn-9yJCMBfj",
        "colab_type": "code",
        "outputId": "c65adc1b-1b5e-466d-8743-12d82eb8da73",
        "colab": {
          "base_uri": "https://localhost:8080/",
          "height": 136
        }
      },
      "source": [
        "unt_prob"
      ],
      "execution_count": 0,
      "outputs": [
        {
          "output_type": "execute_result",
          "data": {
            "text/plain": [
              "array([[0.47060146, 0.52939854],\n",
              "       [0.62479884, 0.37520116],\n",
              "       [0.55012653, 0.44987347],\n",
              "       ...,\n",
              "       [0.48304247, 0.51695753],\n",
              "       [0.47390017, 0.52609983],\n",
              "       [0.15655667, 0.84344333]])"
            ]
          },
          "metadata": {
            "tags": []
          },
          "execution_count": 124
        }
      ]
    },
    {
      "cell_type": "markdown",
      "metadata": {
        "id": "4ZErmQbwRpIC",
        "colab_type": "text"
      },
      "source": [
        "### Get prediction"
      ]
    },
    {
      "cell_type": "code",
      "metadata": {
        "id": "UMMx4QI1SlTg",
        "colab_type": "code",
        "outputId": "37a123dd-f95d-4284-c0a2-e150fe87af36",
        "colab": {
          "resources": {
            "http://localhost:8080/nbextensions/google.colab/files.js": {
              "data": "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",
              "ok": true,
              "headers": [
                [
                  "content-type",
                  "application/javascript"
                ]
              ],
              "status": 200,
              "status_text": ""
            }
          },
          "base_uri": "https://localhost:8080/",
          "height": 109
        }
      },
      "source": [
        "from google.colab import files\n",
        "files.upload()"
      ],
      "execution_count": 0,
      "outputs": [
        {
          "output_type": "display_data",
          "data": {
            "text/html": [
              "\n",
              "     <input type=\"file\" id=\"files-45d46e80-a98d-4a9e-bbfb-a6684f9df466\" name=\"files[]\" multiple disabled />\n",
              "     <output id=\"result-45d46e80-a98d-4a9e-bbfb-a6684f9df466\">\n",
              "      Upload widget is only available when the cell has been executed in the\n",
              "      current browser session. Please rerun this cell to enable.\n",
              "      </output>\n",
              "      <script src=\"/nbextensions/google.colab/files.js\"></script> "
            ],
            "text/plain": [
              "<IPython.core.display.HTML object>"
            ]
          },
          "metadata": {
            "tags": []
          }
        },
        {
          "output_type": "stream",
          "text": [
            "Saving testset-taskb.tsv to testset-taskb.tsv\n"
          ],
          "name": "stdout"
        },
        {
          "output_type": "execute_result",
          "data": {
            "text/plain": [
              "{'testset-taskb.tsv': b'id\\ttweet\\r\\n15923\\t#WhoIsQ #WheresTheServer #DumpNike #DECLASFISA Democrats Support Antifa, Muslim Brotherhood, MS13, ISIS, Pedophilia, Child Trafficking, Taxpayer Funded Abortion\\xe2\\x80\\x99s, Election Fraud, Sedition And Treason!!! #LockThemAllUp #WWG1WGA #QAnon \\xe2\\x81\\xa6@USER URL\\r\\n60133\\t#NoPasaran: Unity demo to oppose the far-right in #London \\xe2\\x80\\x93 #antifa #Oct13 \\xe2\\x80\\x94 Enough is Enough! URL\\r\\n83681\\t. . . What the fuck did he do this time?\\r\\n65507\\t@USER Do you get the feeling he is kissing @USER behind so he can humiliate him later?\\r\\n12588\\t@USER Nigga ware da hits at\\r\\n34263\\t#StopKavanaugh he is liar like the rest of the #GOP URL\\r\\n49139\\t\"@USER @USER Put DeLauro in a police lineup identifying the bag lady\"\" - she would be picked everytime! She has to be proof either Conn voters are incompetent to vote or she is part of a vast voter fraud conspiracy! No one votes for a woman that gross!\"\"\"\\r\\n58995\\t@ ALL FAMILY/FRIENDS , do not tell me  bad shit that your bf/gf did to you just to go right back to them!!!\\r\\n88490\\t#ChristineBlaseyFord is your #Kavanaugh accuser... #Liberals try this EVERY time... #ConfirmJudgeKavanaugh URL\\r\\n46444\\t#ArianaAsesina? Is that serious?! Holy shit, please your fucking assholes, don\\'t blame someone for the death of other one. She is sad enough for today, don\\'t you see? It isn\\'t fault of none, he had an overdose and died. End. Stop wanting someone to blame, fuckers.\\r\\n60587\\t@USER How is she hiding her ugly personality. She is the worst.\\r\\n70569\\t......bitch what URL\\r\\n44546\\t@USER @USER @USER @USER @USER @USER @USER @USER @USER I\\xe2\\x80\\x99m shocked to learn human traffickers had guns.  Some probably illegal too.  CA needs more gun control.  But don\\xe2\\x80\\x99t worry about the actual crime.  The pic of black guns is worse.\\r\\n51628\\t#Conservatives @USER - You\\'re  a clown!  URL\\r\\n30899\\t*voice in my head while I transfer money to my credit card* \\xe2\\x80\\x9cbullshit that I bought and have to pay for\\xe2\\x80\\x9d\\r\\n40110\\t#Kids Beating #Paraplegic #Trump #Boy!  #Left Teach Their #Children Hate Violence!  #schools #teachers #Democrats #Liberals #WalkAway #Moms #Mother #NEA #teachthemyoung #Christian #Catholic #Jews #Evangelicals #family #BlackWomen #BlackTwitter #Blacks #News #Media #Disabled #MAGA URL\\r\\n15998\\t*gets all the bitches*\\r\\n96457\\t#Antifa: Take note of how to protest with civility.   This is why socialism (aka communism) will never win. It is inherently evil and unsustainable. URL\\r\\n70841\\t@USER omg is he for real ?!?!!??????) this happened in peru like 40 years ago and the Inti devaluated so fucking much that they had to comoletely change the coin system because our money was worthless i-\\r\\n46139\\t#Conservatism101   It\\'s not about our disagreements with #Conservatives. Its that Conservatives can\\'t debate honestly, and they have no integrity. Whatever gets them thru today, is all that matters to them. They\\'re fundamentally dishonest people. URL\\r\\n80947\\tAnd apparently I\\'m committed to going to a new level since I used the key.  Well FUCK.  Curiosity killed the Cat(hy)\\r\\n40386\\t@USER @USER @USER @USER Then why aren\\xe2\\x80\\x99t there so many shootings in Virginia?  Jacksonville shooter got his guns IN MARYLAND!! Among the poster children for gun control!  What good did that do?!  You\\xe2\\x80\\x99re full of crap.\\r\\n98916\\t#ANTIFA are bedfellows with The Democratic Socialists of America (DSA) who #JamesOKeefe has exposed as being inserted throughout government, attempting to bring down #America  #Trump #MAGA\\xf0\\x9f\\x87\\xba\\xf0\\x9f\\x87\\xb8 #DeepState  URL\\r\\n32190\\t@USER Antifa has TS level influence. It\\'s scary.\\r\\n27550\\t@USER I have three accounts. Two quasi-anonymous, and one completely anon. And if twitter ever bans one of the quasi-anon, I\\'ll make two anon accounts and tweet the most insane shit. I will drown twitter in bullshit. If one of those is banned, I\\'ll make even more.\\r\\n24040\\t#Liberals are so pathetic!  INNOCENT UNTIL PROVEN GUILTY mean much?  #Democrats should look at their own party if they need a rapist to hang!  #KavanaughIsInnocent #WalkAwayFromDemocrats. #LiberalLies are straight from the Pitts of HELL \\xf0\\x9f\\x94\\xa5 URL\\r\\n73516\\t$10 Million reallocated from FEMA to ICE. This guy gives zero shits about anyone not named Trump. If you\\xe2\\x80\\x99re in the mid Atlantic, get out. Now. URL\\r\\n88905\\t#FortniteBattleRoyale #XboxShare @USER   Please ban this cheating scum.  he is literally invisible URL\\r\\n42112\\t#SesameStreet #BertandErnie the conversation about this is so unattractive. The creator says he didn\\'t create a character gay and he is being attacked.\\r\\n37740\\t#SerenaWilliams is so full of herself...she is just as painful to watch as to listen to...\\r\\n72405\\t#ColinKapernaeck has done nothing but sit on his ass and complain. It\\xe2\\x80\\x99s time black people and die hard white liberals, who think they are down with the cause aka @USER to wake the heck up or STFU! Colin is not a Civil Rights hero or martyr. No where near it.\\r\\n47445\\t. JEFF SESSIONS: \\xe2\\x80\\x98LISTEN TO THE ACLU, ANTIFA, BLACK LIVES MATTER\\xe2\\x80\\x99 IF YOU WANT MORE CHICAGO SHOOTINGS  . URL\\r\\n27158\\tAmazon will ship live Christmas trees to your door \\xe2\\x80\\x94 but will they stay and put on the damn lights? URL\\r\\n17183\\t@USER I BET she is a lot safer when she has sex now tho ? Or she wouldn\\xe2\\x80\\x99t have just one but a few kids . Why cant moms get dicked down too ?\\r\\n42325\\t#Conservatives Govt \\' @USER made my life hell\\': whistleblowers say they were threatened by regulator; I thought this Govt promised to protect whistleblowers?  URL\\r\\n15180\\t#FortniteBattleRoyale #XboxShare @USER   Please ban this cheating scum.  he is literally invisible URL\\r\\n58026\\t#MAGA #Qanon #GreatAwakening #inners #WWG1WGA #NowComesThePain #WalkAway #GoodbyeDemocrats   Ellison Accuser Says She\\'s Been Sidelined By Her Own Party URL\\r\\n81352\\t#BoycottNFL .@USER You are dead to me. @USER @USER URL\\r\\n33133\\t@USER #WalkAwayFromAllDemocrats  Michelle was there 8 years and we sure don\\'t need any more bad advice from her now. We have a new Sheriff in Town, who\\'s  #MAGA.  Get out and VOTE - ALL COLORS, ALL GENDERS (AKA) ALL AMERICANS!!! URL\\r\\n91036\\t#BlaseyFord It\\xe2\\x80\\x99s so comical that liberals always want it both ways first women need to be treated as equals but when it comes to Ford testifying they say it\\xe2\\x80\\x99s unfair to have more men asking her questions. Which is it Dems are women equal or should we receive special treatment?\\r\\n22882\\t#Ted always has a feel for the most appropriate public behavior. But, often, he is unable to control himself. #GOPDysfunction URL\\r\\n40842\\t@USER  Stick to Comedy ... You weren\\'t that funny yo start with, but that political commentary of yours is pathetic !!!\\r\\n73612\\t@USER #Holder needed to be impeached\\r\\n15815\\t#BelieveAllWomen just when I think things can\\'t get dumber.. this happens.. liberals probably don\\'t realize this because they are children but this isn\\'t equality. How about we treat women an men the same.. pretty sure that\\'ll have better results for culture\\r\\n24049\\t#SierraBurgessIsALoser  She is me when my phone dings \\xf0\\x9f\\x98\\x82\\r\\n79204\\t@USER #metoo are all racist!\\r\\n46229\\t#GOP still acting like the wimps they are.. What!? they haven\\xe2\\x80\\x99t yet realized that Liberals will hate them regardless of their sentiments.. Either Republicans are just too stupid to get out of their own way or they\\xe2\\x80\\x99re just tilted to far left.. #ConfirmKavanaughNow\\r\\n42196\\t\"#TheArchers I want to be brilliant at Karate so I can kick the shit out of everyone\"\"\"\"\"\\r\\n34669\\t#DregsOfSociety  ??? #Deplorables   Liberals usually dehumanize those they want to exterminate later URL\\r\\n34575\\t#EmmyAwards2018 - Ratings tank as expected.  Who can possibly stand to watch so many liberals in one place at one time.\\r\\n20357\\t@USER #Gutierrez has always been nothing more than a #racebaiter\\r\\n52445\\t#Elitist #Actors #NBC #Liberals of #Dems in #Hollywood at the #Emmy Awards a \\'toothless\\' #NBC self-promotion onslaught peppered with #MeToo cracks but it was planned, staged and okay because they are #Democrats #Socialist #Liberals of the #Left #WALKAWAY ! URL\\r\\n10991\\t#DrFord  #DearProfessorFord  Is a FRAUD Female @USER group paid for and organized by #GeorgeSoros URL\\r\\n57135\\t#BlueWave #DumpTrump \\xe2\\x80\\xa6give my love 2, or cooperate/compromise w/, conservatives/Trump supporters who constantly vilify marginalized groups, who constantly attack women\\xe2\\x80\\x99s rights 2 make choices about their own bodies,\\xe2\\x80\\xa6\\r\\n72369\\t#NightMayor \\'s DT cycle track can easily open Antifa tennis courts inside Crescent Heights until we are able to trash Nenshi\\xe2\\x80\\x99s communist vape shop!\\r\\n42192\\t#ArunJaitleyStepDown He is most shameless #FM in history of India and audacity and shamelessness with which is lies in public is disgrace to post.\\r\\n43587\\t\"#Conservatives \\xc2\\xa32 bn Housing on-trick @USER -  What a crock of sh#te\"\"! @USER #HousingCrisis  URL\"\\r\\n10684\\t2 weeks of resp done and I still don\\'t know shit my ass still on vacation mode \\xf0\\x9f\\x98\\xaa\\r\\n41553\\t#Coupdetat of #Spain in #Catalona. #Spain is a  #fakedemocracy @USER @USER @USER @USER @USER @USER @USER @USER @USER @USER @USER @USER @USER @USER @USER #cddr #shameonSpain #WakeupEurope @USER @USER URL\\r\\n62986\\t#Liberalismisamentaldisorder, but it is also a danger to our country. #Liberals are showing themselves to be utterly hateful. They do not CARE about TRUTH, they only care about POWER.\\r\\n70051\\t@USER These are all  coranated attacks from idiot loons! They will get worse much worse before the election! Can u imagine idiots who want to get rid of the economy and their 401 along with interest rates just because he is not a polished politician? Idiots!\\r\\n73642\\t@USER @USER Awwww she is so stinking cute! How old is she now?\\r\\n10727\\t#Benghazi  #Haiti  #UraniumOne  #SethRich What more does the justice department need? No double standards! Just because you\\'re Rich and Powerful doesn\\'t mean you can rob, seal and murder! #DrainTheSwamp  #HillaryForPrison  #VoteRed #MAGA URL\\r\\n11645\\t#JoinTheFight    Join the fight against American Communists... Democrats  and  Liberals have taken this crap to the edge and there is no coming back. They are  openly promoting the Destruction of  AMERICA.  #JoinTheFightAgainstCommunism URL\\r\\n72274\\t@USER @USER has stated that any talk of Zionist involvement in 9/11 is metaphysical masturbation because he is a disinformation agent taking advantage of people of lesser intellect. He should be ashamed of himself but he\\xe2\\x80\\x99s not because he\\xe2\\x80\\x99s #Zionel\\r\\n21524\\t#Khaleesi kinda watching #HIAC ! Wtf does she think she is, a person? Pffft pathetic URL\\r\\n84579\\tAnd\\xf0\\x9f\\xa4\\xb7\\xf0\\x9f\\x8f\\xbd\\xe2\\x80\\x8d\\xe2\\x99\\x82\\xef\\xb8\\x8f females b on the same shit URL\\r\\n59519\\t#DeclassifyDocuments I love watching liberals like Maria squirm. #Outnumbered\\r\\n51386\\t#PoliticsInFocus Look Donald! You are only a duck, stop patronizing me! URL\\r\\n10918\\t#CarbonTax works and will put tons more money BACK INTO Canadian pockets.  .@USER  .@USER  .@USER .@USER  Part of why Trudeau won in 2015 was campaigning on a national carbon tax. Conservatives died then. They want another death in 2019...we will oblige. URL\\r\\n57541\\tAntonia Evans was either sex trafficked or cremated.\\r\\n25125\\t#TheView stormy was in trapped by a dollar bill in her face poor pornstar but no worries the Democratic Party she is the leader of\\r\\n61295\\tAnd these entertainment agencies just gonna have to be an ass about it. URL\\r\\n53351\\t#Trump Really, everything Trump does is another piece of evidence for obstruction of justice. He is a talking crime machine.\\r\\n25463\\t#DisarmThem? This goes to show how moronic Antifa types are, because this is a good way to encourage some dumbass to rightfully get speedrocked. Open carry users practice weapon retention. Gun grabs will go very badly for you if you try. You will get shot, so don\\'t do it. #2A URL\\r\\n85613\\t#ChristineBFord #LiberalsAreDesperate @USER every time liberals don\\'t get there way they cry racism or sexual assault. Hard to believe\\r\\n85886\\t#CincinnatiEnquirer steps into #Gun Control FINALLY. Took a #MassShhoting on their damn door step for their #editors to wake up, but better late than never. URL\\r\\n54621\\t!!!!bitch i\\xe2\\x80\\x99m fucking coming back URL\\r\\n80397\\t#Liberals Are Reaching Peak Desperation To Call On #PhillipRuddock To Talk With #Turnbull To Convince Him To Help with #WentworthVotes 18 Sept 2018  @USER #Auspol #LNP #NSWpol @USER  @USER @USER #LNPMemes URL\\r\\n68875\\t$uicideboy$ ON HALLOWEEN its aboout to get sooooo FUCKING spooky\\r\\n67926\\t#Democrat controlled city with strict gun control laws and @USER wants to blame the #GOP Um, isn\\xe2\\x80\\x99t it you rich #Democrats trying to keep the blacks in poverty? #WalkAway URL\\r\\n41588\\t@USER Got to love that the people making the laws tend to know nothing about the subject they\\'re making the law for. You should hear some of the gun control laws people try to pass here in the states.\\r\\n51948\\t@USER #WalkAWayFromCatholicism it is a corrupt to the core and become a giant autocratic pedophile ring.\\r\\n28196\\t#CALIFORNIA PATRIOTS... especially those in #CA21  Obama/Soros are attempting to take this House seat to get control of Congress.  Say no to TJ Cox.  He is a shill Candidate fronted by the dastardly duo.  Please get out and vote David Valadao for House, Dist 21! Follow @USER URL\\r\\n50376\\t- When she takes her nigga name out her bio. URL\\r\\n45304\\t#ArrestGeorgeSoros He Funds #DomesticTerrorists #Antifa URL\\r\\n27228\\t#Conservatives Govt have run up debt in spite of austerity cuts while the rich have doubled their wealth. #inequality  URL via @USER\\r\\n57326\\t#CrowderConfronts continues to expose that the SJW bullies are paper tigers when conservatives fight back with truth and facts. #dontbeafraid #confrontwithtruth URL\\r\\n88221\\t#BiggBossTelugu2 how many of you #KaushalArmy cum @USER fans... URL\\r\\n17714\\t#1 son,  knockin it out the fuckin park...... URL\\r\\n97610\\t@USER @USER @USER Okay and? Anybody can go to Eredivise and score 15+ goals. Shit league. Bundesliga teams are competitive in euro competitions. Mexico hasn\\xe2\\x80\\x99t produced any talent like Pulisic in a long time. It\\xe2\\x80\\x99s okay, maybe you guys will one day.\\r\\n63048\\t#Kalyani is a very stupid teenager. I totally despise her for the atrocities she is doing towards Aunty Anupriya. She blames her for her mom\\xe2\\x80\\x99s death. She should stop and listen to Anupriya side of the story before she makes vile accusation   #TujhseHaiRaabta #ZeeTVSerials\\r\\n30075\\t#Kalyani is a very stupid teenager. I totally despise her for the atrocities she is doing towards Aunty Anupriya. She blames her for her mom\\xe2\\x80\\x99s death. She should stop and listen to Anupriya side of the story before she makes vile accusation   #TujhseHaiRaabta #ZeeTVSerials\\r\\n60466\\t#Christian #America \\xe2\\x80\\x93 If we go by #Trump\\xe2\\x80\\x99s example, where liberals support open borders, I guess conservatives support school shootings.   Please explain how this makes America great again.\\r\\n25685\\t@USER @USER @USER She is the most disingenuous person in the Senate. If she was my Senator I would hide in shame after her despicable behavior in the SCOTUS hearings.\\r\\n16333\\t#Democrats #Liberals you are being #threatened by #Armed #Nazis and you talk about #disarmament of yourselves and of #Disconnection from the #Military #Lifestyle ?  You should #broadcast your #Armory and #killSkills #RightFuckingNOW URL\\r\\n78417\\t699. Just wanted to tell you you should Hang Out With Me More. i think it\\xe2\\x80\\x99ll be fun! Also, lmao dick for a tongue? So people can easily suck me off. HAHA kidding aside, i aint want a tongue as my dick that looks hella weird.. but my choice was weird to but WHATEVER\\r\\n51525\\t#AVALANCHE I\\'m sorry! I see you! I love you! I was an asshole! You know how we are #maga\\r\\n84550\\t#FF @USER he is an alien from the future \\xf0\\x9f\\x99\\x8c\\xf0\\x9f\\x8f\\xbb\\xf0\\x9f\\x91\\xbd\\xf0\\x9f\\x8c\\x83 URL\\r\\n23530\\t\"#FamiliarWife JH-OMG, she is crazy WJ-Wait!....yes, I am interested in assistant manager Cha BH-You guys look like a good pair VO-Are you having some\"\"? Just sit over here JH-Don\\'t do it! WJ-Lets live our own life. Lets do it News-Collision on hwy, there is congestion JH-Woo-jin~ URL\"\\r\\n57284\\t#ThingsDarthVaderWouldNeverSay yup , white mask privilege at it\\'s finest. Always trying to keep a black mask down #BlackLivesMatter #Qanon #Antifa #AlexJones #Infowars #StarWars #maytheforcebewithyou #thirdshiftzombies #Podcast #radio #WhiteSupremacy URL\\r\\n59700\\tAll I\\xe2\\x80\\x99m saying if we cool and you feel any type of way about me.. speak the fuck up.\\r\\n13433\\t#Cuckservative Traitors Are Worse Than Fortnite Players URL #Conservatives #TriggerWarningRadio\\r\\n80197\\t#Barbara Boxer If LIBERALS Want to Use RAPE as a Political Tactic! THEY Had Better Have Some HARD EVIDENCE! Her Word Isn\\'t Evidence!!! Its Called HEARSAY . On that note, I Could Say \\' YOU  \\' Cornered Me In A Bathroom, And put YOUR Hands All Over Me\\' 35 Years Ago. PROVE ME WRONG URL\\r\\n79309\\t#ConstitutionDay It\\'s very odd for the alt right conservatives to say that we are ruining the constitution just because we want #GunControlNow but they are the ones ruining the constitution getting upset because foreigners are coming to this land who are not White wanting to live\\r\\n47696\\t#LiberalLogic  #Kavanaugh looks predatory. Therefore he\\'s guilty.  #Liberals are DANGEROUS people who should not govern anyone or anything. URL\\r\\n71294\\t#BREAKING. #Greece: Molotov cocktails fly after protest honouring killed antifa arti... URL via @USER URL\\r\\n55633\\t#OrrinHatch I can\\xe2\\x80\\x99t believe this sexist , clueless, old fart gets to weigh in on another woman\\xe2\\x80\\x99s charges against a Supreme Court nominee. And he is spouting the same old nasty shit he spewed 20+ years ago against Anita Hill. His time\\xe2\\x80\\x99s up! Good riddance Neanderthal!\\r\\n87934\\t4. (Part 2) Didn\\'t have to think too hard to come up with Gabriel. They\\'re a lizard themed, glitter bombing, antifa mech pilot using their superhero powers to take down corrupt logging companies. They\\'re a buff lesbian with hearts on their uniform. Literally what\\'s not to love?\\r\\n57732\\t#Repost theleadersmindset \\xe2\\x80\\xa2 \\xe2\\x80\\xa2 \\xe2\\x80\\xa2 \\xf0\\x9f\\x93\\x8dHola Leaders!\\xf0\\x9f\\x94\\xa5 \\xe2\\x9c\\x94\\xef\\xb8\\x8fType \\xe2\\x80\\x9cREADY\\xe2\\x80\\x9d if you are ready to follow this steps. - \\xe2\\x80\\x9c Set goals, stay quiet about them, smash the shit out of them, clap for your damn\\xe2\\x80\\xa6 URL\\r\\n27455\\t#Liberals / #Democrats THIS is what you stand for. If not, then #WalkAway URL\\r\\n83466\\t#Beeto Just Demonstrated How To Lose An Election In #Texas   URL #MAGA @USER #rkba @USER #DVC\\r\\n48657\\tAnd have a bitch thinking you niggas have money and you tf don\\xe2\\x80\\x99t.\\r\\n89635\\t*Extremely* back on my bullshit. URL\\r\\n89603\\t7 fucking years. #MyTwitterAnniversary URL\\r\\n86611\\t#Dems are disgusting. They only believe women who accuse conservatives of abuse crimes. When liberals are accused, they ignore the accusations. URL\\r\\n12193\\t#ChristineBlaseyFord is only being harassed by members of the Antifa the radical arm of the Democratic Party funded by George Soros.  #VoteRedToSaveAmerica\\r\\n63985\\t\"50 Cent Calls Out Joe Budden\\'s Bullshit\"\" On Instagram URL URL\"\\r\\n20522\\t#bb20 actually question why do people want Jc to win more than Angela? He has been way meaner, says the n word repeatly, makes fun of eating disorders, and sexually harasses houseguests.She is just as much as an underdog to win so dont use that excuse. #bb20  #tangela\\r\\n94260\\t2018 not surprised it starts from the top!!!  Karma a bitch watch!!!! URL\\r\\n70324\\tAlright let me get right with God bc Mother Nature is like fuck humans URL\\r\\n89329\\t#Hillary and @ least 16 other #AngryDemocrats #WorldWarQ #WWG1WGA #MAGA #RedTsunami #AmericaFirst #WalkAway #Truth URL\\r\\n11100\\t#Antifa is recruiting for a designated #terrorist organization URL\\r\\n83240\\t#Hypocrites #DemocratsHateAmerica #LiberalismIsAMentalDisorder EVERYTHING LIBERALS TOUCH TURNS TO ABSOLUTE SHIT... URL\\r\\n81890\\t@USER @USER As I have said the media and money Soros with dip shit Waters is creating a civil war.\\r\\n72037\\t#Texas Ted Cruz campaign is sending people solicitations disguised as official looking county summons. Elderly residents have been confused by the notice to appear. He is so skeezy.    URL\\r\\n78301\\t1 tf. He saw that shit. URL\\r\\n94607\\tAnyone who finds M*neta\\'s behavior funny can fuck off and die\\r\\n72531\\t#GoodMorningAmerica  #TuesdayMotivation #Thankyou #FatherGod the #Americanpeople will begin to see the #truth about our #governmentcorruption @USER @USER @USER #mediaCorruption #NoRedaction #DeclassifyFISA #Declassification completely #Obama #HillaryClinton #Lies #Leakers #liberals URL\\r\\n98575\\t@USER The difference between you and I as I stated before, and this inane asinine comment have solidified is I bring facts and truth, while all you have is lies and bullshit. Present a single shred of credible evidence to support a single thing you\\'ve just said. Lies is all you\\'ve got.\\r\\n58342\\t@USER Damn I felt this shit. Why you so loud lol\\r\\n39429\\t#MSNBC #Hardball @USER Bingo you are absolutely correct he cannot bring President Obama down. He can\\xe2\\x80\\x99t get over how President Obama humiliated him at the White House correspondents dinner and I can guarantee you that is a definite driver of his hate for President Obama\\r\\n18786\\t#CnnIsFakeNews @USER @USER you wonder why your ratings suck... #cnnisajoke #FakeNews #MAGA URL\\r\\n35785\\t$b album definitely worth the fucking wait\\r\\n67049\\t\"#JoeScarborough is a vile excuse for a journalist\"\". Here he is criticizing #Trump yet refuses to come clean about the death of an intern in his office. Stop talking about everyone else and start talking about YOUR INVOLVEMENT WITH #LORIKLAUSUTIS. @USER\"\\r\\n82273\\tAin\\xe2\\x80\\x99t nobody shit if you ask me... including myself.\\r\\n98216\\t\"The Dregs of Society\"\"... more LABELINGand DEHUMANIZING Conservatives.I suggest,WE, Conservatives keep OUR ammo dry and OUR guns loaded..If the Fascist Liberal Left THINK Conservatives WILL go quietly into internment camps or slaughtered in the streets they NEED a REALITY check. URL\"\\r\\n37649\\t#Feinstein you cant say anything truthful.  You are a loers and liar. URL\\r\\n14582\\t#LifeIsButepu when you have sex anytime you want but you are single\\r\\n59751\\t#Nigeria #Naija #9ja \\'You are the most incompetent leader in Nigeria\\xe2\\x80\\x99s history\\' \\xe2\\x80\\x93 Atiku blasts Buhari URL By championnewsng Via URL\\r\\n92215\\t#Emmys  Well, most of those ex-crackheads are liberals and Democrats; so ...\\r\\n22311\\t@USER #Diversity only works when those joining the new group want to be a part of the team.   #Islam hates every non-Muslim   #Fail  #Unicorns\\r\\n75125\\t// SO WANT TO KICK TWITTERFUCK ASS.\\r\\n21354\\t#FailedDemFeinstein should have quit decades ago. She is a disgrace.  Feinstein blames GOP after Kavanaugh accuser stays mum, admits \\'I can\\'t say everything\\'s truthful\\'  URL\\r\\n22594\\t@USER @USER @USER Fascism was also against liberals as is Antifa according to your meme.\\r\\n19410\\t@USER fuck\\r\\n33394\\t. a grown ass woman, probably 10 years older than me is currently spreading rumors rather than talking to me about it, nice work you got there satan \\xe2\\x9d\\xa4\\xef\\xb8\\x8f\\r\\n56513\\t#Conservatives don\\xe2\\x80\\x99t care what you post..it\\xe2\\x80\\x99s @USER propaganda.. URL\\r\\n59691\\t#IDIOTS Is there nothing beneath them? Lol. What fools Liberals are! #MAGA #KAG \\xf0\\x9f\\x87\\xba\\xf0\\x9f\\x87\\xb8\\xf0\\x9f\\x87\\xba\\xf0\\x9f\\x87\\xb8\\xf0\\x9f\\x87\\xba\\xf0\\x9f\\x87\\xb8\\xf0\\x9f\\x87\\xba\\xf0\\x9f\\x87\\xb8\\xf0\\x9f\\x87\\xba\\xf0\\x9f\\x87\\xb8 URL\\r\\n41997\\t@USER The kindest explanation is that he is tone-deaf.  It\\'s hard to feel kind when he and his ilk do this repeatedly.\\r\\n56637\\t#AmazonPets Etta can be tricky to photograph because of her colouring, but she is BEAUTIFUL and she knows it. She is in charge, has first dibs on treats, and will shout for our attention whenever she comes in the house. She kills wild rabbits but hangs out in the hutch with ours. URL\\r\\n19815\\t#SugarDaddy Retweet if you are under 30 and would like share memes with each other and we can talk about dumb shit. Cuz baby I\\xe2\\x80\\x99m broke as shit but this love rich URL\\r\\n97410\\t#GeoffreyOwens niggas don\\xe2\\x80\\x99t really understand...levels to career pursuits\\r\\n77746\\t...what about death _metal_? I want more death METAL... Tell me, you hateful Keebler Elf, WHERE CAN I HAVE MORE DEATH METAL???? URL\\r\\n17704\\t#Kavanaugh is a disciple of Anthony Kennedy, who \\xf0\\x9f\\x8e\\x81ed liberals w/3 unconstitutional opinions! He\\'s Trump\\'s con to con conservatives to \\xf0\\x9f\\xa4\\x94ing #SCOTUS is moving right! Were @USER smart, they\\'d do everything to get BK the \\xf0\\x9f\\x8f\\x81. But they won\\'t! Idiots! #TuesdayThoughts URL\\r\\n61674\\t#America  ... tear down that #Wall! URL #tcot #partisanship #Trump #thewall #Borderwall #liberty #civilsociety #think #Conservatives #Democrats #Progressives #liberals #Independent #libertarians #GOP #DNC #CriticalThinking\\r\\n39860\\tAm I a dickhead ???? Probably yes\\r\\n21826\\t(cr1tikal voice) smef my ass cheeks\\r\\n79934\\t@USER \\'cause everyone knows a real leader falls into a van like a sack of potatoes.....\\r\\n55048\\t\"#BoycottNike campaign must continue and grow  Paying overseas staff $0.20 an hour is not okay because your staff is over there\"\".   You are exploiting poor women/men in the world.  This is more than Americans can stand. URL\"\\r\\n76833\\t\"#NEWS Jeff Sessions: If you want more death, \\'listen to the ACLU, Antifa, Black Lives Matter\\'\"\" URL #CNBC\"\"\"\\r\\n55832\\t#David #Miliband #DavidMiliband flew away  in #NewYork to be with the #US #Liberals #Democrats - had to flee #Corbynists hatred of Jews\\r\\n32056\\tAnyway this game sucks :)\\r\\n67841\\t#ibelieveblaseyford is liar she is fat ugly libreal #snowflake she sold her  herself to get some cash !! From dems and Iran  ! Why she spoke after  #JohnKerryIranMeeting ?\\r\\n94427\\t#Conservatives do NOT represent all Canadians.   They are Authoritarian scum.   #cdnpoli #onpoli URL\\r\\n96594\\t\"#Ford\\'s attorney says she\\'s receiving death threats and has had to move her family to safety\"\". Where\\'s the proof that #Democrats #Antifa are not doing this to promote this circus?\"\"\"\\r\\n62689\\t#scottgimple ruined #TheWalkingDead and now he is doing the same to #FearTWD . Hope the checks cash forever because he should never get another job. #AMC\\r\\n35968\\tAnother season for Tom Brady to give it to these niggas\\r\\n14516\\t\"#LifeIsButepu when you are black and can say the word nigga\"\". Feel me my niggas??? URL\"\\r\\n15866\\t#Austerity Low pay #TuitionFees  Lack of housing Wages falling #UniversalCredit Unaffordable rents #NHS crisis Crap railways Empty shops #Brexit No deal exit from EU #Windrush #Grenfell   In just 8 short years the @USER have completely fucked the UK\\r\\n57185\\t@USER #ThoseThatAreTheLoudest are afraid, JUSTICE is coming #Bono is a scam just like the #ClintonFoundation #PedoWood #Haiti URL\\r\\n91430\\t3 days before BBC Radio 2\\xe2\\x80\\x99s Festival in a Day, they decide to tell us that their headline act isn\\xe2\\x80\\x99t coming anymore. Thanks a lot, now I\\xe2\\x80\\x99ve paid a fortune to see a tonne of acts who are shit and who are of no interest to me \\xf0\\x9f\\x98\\x91\\xf0\\x9f\\x91\\x8d\\xf0\\x9f\\x8f\\xbb\\r\\n29203\\t#tytlive Trump needs to go because he is a danger to the country and the world.  Any way we can get rid of him is good\\r\\n27913\\t@USER #DavidHogg, you\\'re nobody.\\r\\n53325\\t28, 27, 25 and 21 but like,, it\\xe2\\x80\\x99s still really miserable and unpleasant for us?? And like they even told me how they weren\\xe2\\x80\\x99t happy and would have got divorced before I was even born so I\\xe2\\x80\\x99m like cool cool I was literally born into hatred that\\xe2\\x80\\x99s awesome no wonder I\\xe2\\x80\\x99m such a fuckup\\r\\n46410\\t#DeSantis=DeRacist, as bad a choice as he is, he \\xe2\\x80\\x9cdistanced\\xe2\\x80\\x9d himself from the Prez\\xe2\\x80\\x99s comments today questioning any deaths in Puerto Rico from Hurricane Maria @USER @USER #whataputz\\r\\n26072\\t0-1 lost my acca on the first fucking fight cba\\r\\n16856\\t@USER @USER I\\'ll use that one the next time im in a gun control debate or in a debate about free speech or taxes. Yes you can choose to be irresponsible or choose not to be. I argue responsible. Whats wrong with that? Don\\'t justify murder by saying it was never alive or its my right.\\r\\n89200\\t@USER @USER Who the hell does he think he is?\\r\\n45269\\t#LiberalismIsAMentalDisorder #Hypocrites #DemocratsHateAmerica #DemocratsAreDangerous EVERYTHING LIBERALS TOUCH TURNS TO ABSOLUTE SHIT. URL\\r\\n15437\\t88% of these niggas have podcasts and YouTube channels dedicated to this and shit ain\\xe2\\x80\\x99t getting solved so URL\\r\\n91472\\tAnytime I randomly bust out laughing it\\xe2\\x80\\x99s because I remembered some dumb shit Albria said \\xf0\\x9f\\x98\\xad\\xf0\\x9f\\x98\\xad\\r\\n98531\\t@USER @USER \\xf0\\x9f\\x98\\x82 You do not like the Jewish people because you ALL claims they are holding all the money. Sound familiar? Your left wing libtard  family is the family of the KKK. You do not hate Jews? That\\xe2\\x80\\x99s funny. Gun control; even funnier. Good luck\\r\\n43753\\t5k Bitches \\xf0\\x9f\\x8e\\x89\\xf0\\x9f\\x92\\x99\\r\\n98685\\t#Liberals always up to dirty tricks to get their way. \\xf0\\x9f\\x91\\x87\\xf0\\x9f\\x91\\x87 URL\\r\\n31665\\t#Conservatives are more upset about #bertenernie being #gay than having a #sexualpredator in the @USER a hooker as @USER and a #rapist as #supremecourtjustice\\r\\n38732\\t#Antifa protest in #Athens for the 5 years after the murder of Pavlos Fyssas by Golden Dawn.  Their voters are complicit to their crimes. #KillahP URL\\r\\n46983\\t#Conservatives just like old #Garbage bags blowing in the wind, here\\'s an old garbage bag now... URL\\r\\n22067\\t#Bakersfield is why we need gun control! Sorry for the victims other than the gunman himself I hope he rots in hell!\\r\\n79756\\t#HonourSacrificeBoycottMatch I hope d human rights rats r happy!hope Sidhu is happy!  I hope d liberals r happy! Let\\xe2\\x80\\x99s play cricket wth thm let\\xe2\\x80\\x99s thank thm 4 wht they r doing 2our soldiers Let\\xe2\\x80\\x99s celebrate our impotence funny a piddly little nation like pak is taking us 4 a ride\\r\\n99563\\t#ConfirmKavanaugh \\xe2\\x9c\\x85 #Kavanaugh #SCOTUS #POTUS45 #PresidentTrump #AmericaFirst #MAGA#KAG \\xf0\\x9f\\x9a\\xabAnti #Trump liberal activist Accuser  #Ford makes accusation but  not willing to be subject 2 B question? Suffer the consequence of filing a false charge #LockHerUp  URL\\r\\n23542\\t#Resist traitors caught on video breaking our laws to further their #Communist #Socialism ways and slow down the #Trump agenda. They are the DC Chapter of Democrat Socialists of America. Forget anTifa, that is a distraction from the real Resistance. #MAGA  URL\\r\\n83416\\t#ChristineBlaseyFord was grinding #Kavanaugh at a party almost 40yrs ago.....You gotta love the age, of this ridiculous #MeToo movement   Just swear #Kavanaugh in already and get this over with, before #liberals have an anxiety attack like 11/8/16 URL\\r\\n67418\\t#CoryBooker is not a hero, he is an American traitor and should be treated as such. Arrest, prosecute, and  carry out sentence. #KavanaughConfirmation URL via @USER\\r\\n58632\\t100 Round Goon Bitch Is You Kiddin Me\\xf0\\x9f\\xa4\\xa3\\r\\n35612\\t@USER #MoreBS = MORE #BARRYSOETOROBULLSHIT\\r\\n96905\\t#tytlive OMG how can a Latino faith based woman think that Trump is Christian.  Wow, he is the poster child for immorality and hating Latinos\\r\\n79778\\t@USER #Carrey is a #pervert himself!\\r\\n90328\\t@USER nigga are you stupid your trash dont play with him play with your bitch \\xf0\\x9f\\x98\\x82\\r\\n71350\\t#NoOneAskMe But here\\'s my opinion #offset keeping this beef up between #cardiB and @USER he know Cardi slow and believe everything he says.. She is his meal ticket. I just think #offset need to sit his ugly ass down.\\r\\n43782\\t#ICYMI - Liberals\\' Favorite Myth That Obama Was a Law Professor Is Now Destroyed?! URL\\r\\n58287\\t@USER To demonstrate how wholly incapable of carrying a thought to its logical conclusion she is?\\r\\n32061\\tAnd she has a pet??? Fucking disgusting URL\\r\\n63129\\t\"#LiberalHypocrisy #TacoBell When Liberals ask why your against illegal immigration? Taco Bell Employee: No Habla Ingles!\"\" URL\"\\r\\n74797\\t#BlackInkCrewCHI lily they don\\xe2\\x80\\x99t hate you....you Hate you. You are your own worst enemy cause you let your anger get in the way I legit feel like Shes one of the kids I Work with at my job\\r\\n25177\\t#JusticeForSoniasFather  Mr Usman buzdar sb! please respond to Sonia Iqbal daughter of PTI counsellor from okara whose father was killed during elections by nawaz league killers. She is saying she will commit suicide in front of media. Where is justice?\\r\\n87428\\t@USER - WORST POTUS.  EVER!\\r\\n39400\\t#Conservatives have no genetic ability to understand #hypocrisy or #irony. Right wing ideology gets ya all twisted in knots. #onpoli  #Ontario  #PartyOfYesteryear  @USER  #FraudNation URL\\r\\n62788\\t#OITNB. She is the worst public defender. Trailing her pen uner the words.\\r\\n88745\\t#TheView #BothamJean I don\\'t believe #AmyGuyger she is a lying pos! I live near a police station..I hope and pray a cop doesn\\'t bust up in my house thinking it\\'s his/hers and kills me..my God..we/people of color are police prey..we\\'re always in police cross-hairs..no matter what\\r\\n70443\\t#Antifa, September 22: Stop the fascist NVU in #Amsterdam! URL\\r\\n90327\\tAnd that\\xe2\\x80\\x99s why you were at NYFW cause your such a class act.. getcho wack ass outta here URL\\r\\n65545\\t#GreatestThingsAboutThe90s liberals weren\\xe2\\x80\\x99t unhinged\\r\\n58543\\t#Conservatives We mus pray for liberals. They trooly kno knot watt they do. I was brot up socialist democrat, by my wonderful, but, ignorant parents. I served inda military. I learnd I can serve Christ, too. Eye reel -eyesed CONSERVATIVISM was more closely aligned w God.\\r\\n79222\\t#disarmthem #antifa Please NO ONE be stupid enough to do this. Most of us DO NOT open carry, most of us carry concealed. Anyone stupid enough to do this, that is considered an act of aggression and you will be shot We also carry more than one weapon. We shoot to kill, not maim.\\r\\n72401\\t@USER * Puerto Rico is destroyed; more than 3,000 die * Trump visits, and throws paper rolls at people * 11 months later, Puerto Rico is still waiting for help * Trump says everything is fine, and his visit was a great success  \\xf0\\x9f\\xa4\\x94\\r\\n31354\\tAll these sick ass ppl from school gave me something and now I have to chug down this nasty drink so it can go away\\xf0\\x9f\\x99\\x83\\r\\n29008\\t#Conservatives are #dumberthandogshit is the central point of my tweet\\r\\n41590\\t@USER #Rosie makes me nauseous!\\xf0\\x9f\\xa4\\xae URL\\r\\n72523\\t#FemiNazis are Liberals so #MeToo only counts when they blame a non-Liberal man. #Bizarro  #KAG2018 \\xe2\\x9d\\xa4\\xef\\xb8\\x8f\\xf0\\x9f\\x87\\xba\\xf0\\x9f\\x87\\xb8 URL\\r\\n14640\\t#BREXIT deal HAS been reached - and will be unveiled at special summit in NOVEMBER, Has @USER sold out the #UK to the eu??? She better have not or the @USER are finished!! @USER URL\\r\\n74909\\t#crazyredhead in very #angry at the #orange #cheeto  Who claims to be our #president .  She will never accept it.  Denying all the lives lost in Puerto Rico? He is a #monster #\\xe2\\x80\\xa6 URL\\r\\n96397\\t#EuropaLeague Song the EU, cash your remaining chips in and p*ss off \\xf0\\x9f\\x91\\x8d You\\'ve played all your cards and liberals in the U.S too.  Brexiteers and Trump takes it all so be nice eh and life\\'ll be better for everyone.  URL\\r\\n34030\\t$1500 for a phone. You all are fucking dumb.\\r\\n69073\\t#HowToGetPeopleOutOfYourHome  Tell them that you\\'re a vampire...then threaten to eat them if they don\\'t get their asses out.  *shrugs*  What?  Problem?\\r\\n29113\\t#Kavanaugh The moment #BlaseyFord is exposed as a fraud, expect a new accuser to surface. Liberals are a one trick pony. #LiberalismIsAMentalDisorder\\r\\n11286\\t#BCOG @USER she is cool, confident, cocky, and she kicks ass!!! @USER @USER @USER URL\\r\\n41821\\t@USER oh fuck off \\xf0\\x9f\\x98\\x82\\xf0\\x9f\\x98\\x82\\r\\n76379\\t#LiberalHypocrisy #criminal #democrat #evidence #ellison #liberals #Hypocrites Keith Ellison domestic violence accuser says Democratic party doesn\\'t believe her story  URL\\r\\n52080\\t#DemocratPartyOfDomesticTerrorists #Fascist #Antifa #FemiNazi   Don\\'t Just #WalkAway RUN! URL\\r\\n51762\\t#auspol  I don\\'t know why he is still in his job. Seriously. URL\\r\\n71592\\t#MAGA Tell me ONE good thing #trump has done as #president. I dare you! He is the worst president in history.\\r\\n78688\\t#ConfirmKavanugh now, stall tactics are DC cronies only recourse. No more delays.  #VoteRed to end this madness and to #MAGA\\r\\n76135\\t@USER @USER @USER @USER Beats the hell NJ out of me lol. Dude already made the assumption that I\\'m antifa. He even ignored all the evidence to make that assumption.\\r\\n30778\\t#StopEtchecopar? Fuck you all \\xf0\\x9f\\x96\\x95\\xf0\\x9f\\x96\\x95\\xf0\\x9f\\x96\\x95\\xf0\\x9f\\x96\\x95\\xf0\\x9f\\x96\\x95 Que florezcan mil Baby Etchecopar \\xf0\\x9f\\x8c\\xbb\\xf0\\x9f\\x8c\\xbb\\xf0\\x9f\\x8c\\xbb\\r\\n22569\\t#Antifa are mentally unstable cowards, pretending to be relevant. URL\\r\\n48938\\t@USER @USER And Browning looked like dog shit against the same FCS school. What\\xe2\\x80\\x99s your point?\\r\\n41438\\tAll two of them taste like ass. URL\\r\\n73439\\t#DespicableDems lie again about rifles. Dem Distorted the Law to Push Gun-Control at Kavanaugh Confirmation URL via @USER\\r\\n67018\\t3 people just unfollowed me for talking about merlin sorry y\\'all im still up covinsky\\'s ass im just waiting for a psisly sequel announcement ive run out of witty and funny tweets about tatbilb i am drained\\r\\n'}"
            ]
          },
          "metadata": {
            "tags": []
          },
          "execution_count": 167
        }
      ]
    },
    {
      "cell_type": "code",
      "metadata": {
        "id": "2sY01WloSinn",
        "colab_type": "code",
        "colab": {}
      },
      "source": [
        "test = pd.read_table(\"testset-taskb.tsv\",sep='\\t',index_col=False, error_bad_lines=False)\n",
        "test['tweet'] = clean_text(test['tweet'])"
      ],
      "execution_count": 0,
      "outputs": []
    },
    {
      "cell_type": "code",
      "metadata": {
        "id": "9gyp8v2cRoQT",
        "colab_type": "code",
        "colab": {}
      },
      "source": [
        "le1=LabelEncoder()\n",
        "df2.subtask_b=le1.fit_transform(df2.subtask_b)\n",
        "\n",
        "tvec = TfidfVectorizer(stop_words=None, max_features=100000, ngram_range=(1, 2))\n",
        "model = XGBClassifier()\n",
        "SMOTE_pipeline = make_pipeline(tvec, SMOTE(random_state=777),model)\n",
        "\n",
        "lr_fit = SMOTE_pipeline.fit(df2.tweet, df2.subtask_b)\n",
        "prediction1 = lr_fit.predict_proba(test.tweet)"
      ],
      "execution_count": 0,
      "outputs": []
    },
    {
      "cell_type": "code",
      "metadata": {
        "id": "3V_T33N2UVl4",
        "colab_type": "code",
        "colab": {}
      },
      "source": [
        "X_train = pd.read_table(\"new_train_data.tsv\",sep='\\t',index_col=False, error_bad_lines=False) \n",
        "X_test = pd.read_table(\"new_dev_data.tsv\",sep='\\t',index_col=False, error_bad_lines=False) \n",
        "X_train['tweet'] = clean_text(X_train['tweet'])\n",
        "X_test['tweet'] = clean_text(X_test['tweet'])\n",
        "le1=LabelEncoder()\n",
        "X_train.subtask_b=le1.fit_transform(X_train.subtask_b)\n",
        "X_test.subtask_b=le1.transform(X_test.subtask_b)\n",
        "\n",
        "new_train = pd.concat([X_train,X_test])\n",
        "\n",
        "nb_clf = Pipeline([('vect', CountVectorizer(ngram_range=(1,2))),  ('clf', MultinomialNB())])\n",
        "nb_clf = nb_clf.fit(new_train.tweet,new_train.subtask_b)\n",
        "prediction2 = nb_clf.predict_proba(test.tweet)"
      ],
      "execution_count": 0,
      "outputs": []
    },
    {
      "cell_type": "code",
      "metadata": {
        "id": "dUALOkihSwwX",
        "colab_type": "code",
        "colab": {}
      },
      "source": [
        "final_prob = 0.5*(prediction1+prediction2)\n",
        "final_preds = np.argmax(final_prob,axis=1)"
      ],
      "execution_count": 0,
      "outputs": []
    },
    {
      "cell_type": "code",
      "metadata": {
        "id": "bYfQe19CSw02",
        "colab_type": "code",
        "outputId": "0290773e-26ba-4595-b53e-7e2039dc39a4",
        "colab": {
          "base_uri": "https://localhost:8080/",
          "height": 51
        }
      },
      "source": [
        "unique, counts = np.unique(final_preds, return_counts=True)\n",
        "\n",
        "print(np.asarray((unique, counts)).T)"
      ],
      "execution_count": 0,
      "outputs": [
        {
          "output_type": "stream",
          "text": [
            "[[  0 228]\n",
            " [  1  12]]\n"
          ],
          "name": "stdout"
        }
      ]
    },
    {
      "cell_type": "code",
      "metadata": {
        "id": "VQ7q2rpVSyLS",
        "colab_type": "code",
        "colab": {}
      },
      "source": [
        "results = pd.DataFrame({'id':test.id, 'subtask_b':final_preds})\n",
        "results.to_csv('submission3.csv',sep=',',header=False,index=False)\n",
        "files.download('submission3.csv')"
      ],
      "execution_count": 0,
      "outputs": []
    }
  ]
}