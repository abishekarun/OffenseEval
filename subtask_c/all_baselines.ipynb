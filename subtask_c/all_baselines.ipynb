{
  "nbformat": 4,
  "nbformat_minor": 0,
  "metadata": {
    "colab": {
      "name": "all_baselines.ipynb",
      "version": "0.3.2",
      "provenance": [],
      "collapsed_sections": []
    },
    "kernelspec": {
      "name": "python3",
      "display_name": "Python 3"
    },
    "accelerator": "GPU"
  },
  "cells": [
    {
      "cell_type": "code",
      "metadata": {
        "id": "kRl5EJsqhnkW",
        "colab_type": "code",
        "colab": {}
      },
      "source": [
        "import pandas as pd\n",
        "X_train = pd.read_csv('all_train_data.tsv',sep='\\t') \n",
        "X_test = pd.read_csv('all_dev_data.tsv',sep='\\t') "
      ],
      "execution_count": 0,
      "outputs": []
    },
    {
      "cell_type": "markdown",
      "metadata": {
        "id": "grMRu7f7CS_7",
        "colab_type": "text"
      },
      "source": [
        "## Subtask C"
      ]
    },
    {
      "cell_type": "code",
      "metadata": {
        "id": "YgYhPev2iz8Y",
        "colab_type": "code",
        "colab": {}
      },
      "source": [
        "import pandas as pd\n",
        "import numpy as np\n",
        "import re\n",
        "\n",
        "import nltk\n",
        "from nltk.corpus import stopwords\n",
        "\n",
        "from scipy.stats import itemfreq\n",
        "from sklearn.model_selection import train_test_split\n",
        "from sklearn.naive_bayes import MultinomialNB\n",
        "from sklearn.pipeline import Pipeline\n",
        "from sklearn.preprocessing import LabelEncoder\n",
        "from sklearn.feature_extraction.text import CountVectorizer,TfidfTransformer,HashingVectorizer\n",
        "from sklearn.metrics import confusion_matrix\n",
        "\n",
        "from nltk.stem import WordNetLemmatizer\n",
        "wordnet_lemmatizer = WordNetLemmatizer()\n",
        "from nltk.stem.porter import PorterStemmer\n",
        "porter_stemmer = PorterStemmer()  \n",
        "  \n",
        "pd.options.mode.chained_assignment = None\n",
        "from sklearn.metrics import f1_score\n",
        "from sklearn.model_selection import train_test_split"
      ],
      "execution_count": 0,
      "outputs": []
    },
    {
      "cell_type": "code",
      "metadata": {
        "id": "ai4C-R-NNOZp",
        "colab_type": "code",
        "colab": {}
      },
      "source": [
        "y_train=X_train.subtask_c\n",
        "y_test=X_test.subtask_c\n",
        "X_train = X_train.drop(['subtask_c'],axis=1)\n",
        "X_test = X_test.drop(['subtask_c'],axis=1)\n",
        "\n",
        "# Label encode the target variable of train & dev data\n",
        "le1=LabelEncoder()\n",
        "y_train=le1.fit_transform(y_train)\n",
        "y_test=le1.transform(y_test)"
      ],
      "execution_count": 0,
      "outputs": []
    },
    {
      "cell_type": "code",
      "metadata": {
        "id": "kU5Jk_5imAjo",
        "colab_type": "code",
        "outputId": "68d9ab21-1919-4cec-9cf4-afc3579f4ba2",
        "colab": {
          "base_uri": "https://localhost:8080/",
          "height": 34
        }
      },
      "source": [
        "X_test.shape"
      ],
      "execution_count": 0,
      "outputs": [
        {
          "output_type": "execute_result",
          "data": {
            "text/plain": [
              "(776, 1)"
            ]
          },
          "metadata": {
            "tags": []
          },
          "execution_count": 6
        }
      ]
    },
    {
      "cell_type": "code",
      "metadata": {
        "id": "qjrXAyqUQ0yN",
        "colab_type": "code",
        "outputId": "95dee0bb-ae48-47f8-ee46-8f726b86ca42",
        "colab": {
          "base_uri": "https://localhost:8080/",
          "height": 88
        }
      },
      "source": [
        "y_pred=np.ones(len(y_test))\n",
        "macro_f1= f1_score(y_pred,y_test, average='macro')\n",
        "print(macro_f1)"
      ],
      "execution_count": 0,
      "outputs": [
        {
          "output_type": "stream",
          "text": [
            "0.25543190249072606\n"
          ],
          "name": "stdout"
        },
        {
          "output_type": "stream",
          "text": [
            "/usr/local/lib/python3.6/dist-packages/sklearn/metrics/classification.py:1145: UndefinedMetricWarning: F-score is ill-defined and being set to 0.0 in labels with no true samples.\n",
            "  'recall', 'true', average, warn_for)\n"
          ],
          "name": "stderr"
        }
      ]
    },
    {
      "cell_type": "code",
      "metadata": {
        "id": "7qDMci6NpnUK",
        "colab_type": "code",
        "colab": {}
      },
      "source": [
        "def subtask_c_metrics(model):\n",
        "    y_pred = model.predict(X_test.tweet)\n",
        "    macro_f1= f1_score(y_test, y_pred, average='macro')\n",
        "    print(macro_f1)"
      ],
      "execution_count": 0,
      "outputs": []
    },
    {
      "cell_type": "code",
      "metadata": {
        "id": "zNHjoDjINQjD",
        "colab_type": "code",
        "outputId": "d409643a-77e0-4452-93c7-c3ac89238bdb",
        "colab": {
          "base_uri": "https://localhost:8080/",
          "height": 34
        }
      },
      "source": [
        "# Machine Learning\n",
        "# Training Naive Bayes (NB) classifier + BOW model\n",
        "\n",
        "nb_clf = Pipeline([('vect', CountVectorizer(ngram_range=(1,2))),  ('clf', MultinomialNB())])\n",
        "nb_clf = nb_clf.fit(X_train.tweet,y_train)\n",
        "subtask_c_metrics(nb_clf)"
      ],
      "execution_count": 0,
      "outputs": [
        {
          "output_type": "stream",
          "text": [
            "0.5008277440117469\n"
          ],
          "name": "stdout"
        }
      ]
    },
    {
      "cell_type": "code",
      "metadata": {
        "id": "2oWYXd7LNQq6",
        "colab_type": "code",
        "outputId": "c0bd67f1-977d-4abc-8b90-8c1ac12a3708",
        "colab": {
          "base_uri": "https://localhost:8080/",
          "height": 34
        }
      },
      "source": [
        "# Training Linear SVM classifier + BOW model\n",
        "\n",
        "from sklearn.svm import LinearSVC\n",
        "\n",
        "svc_clf = Pipeline([('vect', CountVectorizer(ngram_range=(1,2))),  ('clf', LinearSVC())])\n",
        "svc_clf = svc_clf.fit(X_train.tweet,y_train)\n",
        "subtask_c_metrics(svc_clf)"
      ],
      "execution_count": 0,
      "outputs": [
        {
          "output_type": "stream",
          "text": [
            "0.5087083296094379\n"
          ],
          "name": "stdout"
        }
      ]
    },
    {
      "cell_type": "code",
      "metadata": {
        "id": "BjT1NoYzNQou",
        "colab_type": "code",
        "outputId": "7c9418ed-e21c-4d3f-a982-7c8a353c008c",
        "colab": {
          "base_uri": "https://localhost:8080/",
          "height": 34
        }
      },
      "source": [
        "# Training Logisitic Regression(LogReg) classifier + BOW model \n",
        "\n",
        "from sklearn.linear_model import LogisticRegression \n",
        "\n",
        "lg_clf = Pipeline([('vect', CountVectorizer(ngram_range=(1,3))),  ('clf', LogisticRegression(C=1e5, solver='lbfgs', multi_class='multinomial'))])\n",
        "lg_clf = lg_clf.fit(X_train.tweet,y_train)\n",
        "subtask_c_metrics(lg_clf)"
      ],
      "execution_count": 0,
      "outputs": [
        {
          "output_type": "stream",
          "text": [
            "0.508220225884794\n"
          ],
          "name": "stdout"
        }
      ]
    },
    {
      "cell_type": "code",
      "metadata": {
        "id": "jb60EXnTNQgS",
        "colab_type": "code",
        "outputId": "8bf71c8c-3dfd-4aed-819d-35bc9b087a43",
        "colab": {
          "base_uri": "https://localhost:8080/",
          "height": 34
        }
      },
      "source": [
        "# Training SVM + BOW + TF-IDF model\n",
        "\n",
        "svm_clf = Pipeline([('vect', CountVectorizer(ngram_range=(1,4))), ('tfidf', TfidfTransformer()), ('clf', LinearSVC())])\n",
        "svm_clf = svm_clf.fit(X_train.tweet,y_train)\n",
        "subtask_c_metrics(svm_clf)"
      ],
      "execution_count": 0,
      "outputs": [
        {
          "output_type": "stream",
          "text": [
            "0.538569860382148\n"
          ],
          "name": "stdout"
        }
      ]
    },
    {
      "cell_type": "code",
      "metadata": {
        "id": "N5A43rJqNQea",
        "colab_type": "code",
        "outputId": "235b97bc-d117-4704-e46f-a86db89eb5cd",
        "colab": {
          "base_uri": "https://localhost:8080/",
          "height": 34
        }
      },
      "source": [
        "# Training NB + BOW + TF-IDF model\n",
        "\n",
        "nb_clf = Pipeline([('vect', CountVectorizer(ngram_range=(1,4))), ('tfidf', TfidfTransformer()), ('clf', MultinomialNB())])\n",
        "nb_clf = nb_clf.fit(X_train.tweet,y_train)\n",
        "subtask_c_metrics(nb_clf)"
      ],
      "execution_count": 0,
      "outputs": [
        {
          "output_type": "stream",
          "text": [
            "0.23906426740009948\n"
          ],
          "name": "stdout"
        }
      ]
    },
    {
      "cell_type": "code",
      "metadata": {
        "id": "1nXMtijRNQcl",
        "colab_type": "code",
        "outputId": "5a026c3e-c475-48b4-a0ad-2307a8a0de21",
        "colab": {
          "base_uri": "https://localhost:8080/",
          "height": 68
        }
      },
      "source": [
        "# Training LogReg + BOW + TF-IDF model\n",
        "\n",
        "lg_clf = Pipeline([('vect', CountVectorizer(ngram_range=(1,3))), ('tfidf', TfidfTransformer()), ('clf', LogisticRegression(C=1e5, solver='lbfgs', multi_class='multinomial'))])\n",
        "lg_clf = lg_clf.fit(X_train.tweet,y_train)\n",
        "subtask_c_metrics(lg_clf)"
      ],
      "execution_count": 0,
      "outputs": [
        {
          "output_type": "stream",
          "text": [
            "0.5339274979086942\n"
          ],
          "name": "stdout"
        },
        {
          "output_type": "stream",
          "text": [
            "/usr/local/lib/python3.6/dist-packages/sklearn/linear_model/logistic.py:758: ConvergenceWarning: lbfgs failed to converge. Increase the number of iterations.\n",
            "  \"of iterations.\", ConvergenceWarning)\n"
          ],
          "name": "stderr"
        }
      ]
    },
    {
      "cell_type": "code",
      "metadata": {
        "id": "-Uu-MYQ1NQWG",
        "colab_type": "code",
        "outputId": "2c5c0333-0c0e-4a59-e2e5-98cbc2f6b997",
        "colab": {
          "base_uri": "https://localhost:8080/",
          "height": 68
        }
      },
      "source": [
        "# Training Ensemble model\n",
        "\n",
        "from sklearn.ensemble import VotingClassifier\n",
        "model1 = LogisticRegression(C=1e5, solver='lbfgs', multi_class='multinomial')\n",
        "model2 = MultinomialNB()\n",
        "model3 = LinearSVC()\n",
        "# create the ensemble model\n",
        "eclf1 = VotingClassifier(estimators=[('lr', model1), ('nb', model2), ('svm', model3)], voting='hard')\n",
        "ensemble = Pipeline([('vect', CountVectorizer(ngram_range=(1,4))), ('tfidf', TfidfTransformer()), ('clf', eclf1)])\n",
        "ensemble = ensemble.fit(X_train.tweet, y_train)\n",
        "subtask_c_metrics(ensemble)"
      ],
      "execution_count": 0,
      "outputs": [
        {
          "output_type": "stream",
          "text": [
            "/usr/local/lib/python3.6/dist-packages/sklearn/linear_model/logistic.py:758: ConvergenceWarning: lbfgs failed to converge. Increase the number of iterations.\n",
            "  \"of iterations.\", ConvergenceWarning)\n"
          ],
          "name": "stderr"
        },
        {
          "output_type": "stream",
          "text": [
            "0.5334608911869623\n"
          ],
          "name": "stdout"
        }
      ]
    },
    {
      "cell_type": "code",
      "metadata": {
        "id": "RYEbaLHVR6Y6",
        "colab_type": "code",
        "outputId": "a0a8d345-d7db-49d2-f755-d5f4f96d7ebe",
        "colab": {
          "base_uri": "https://localhost:8080/",
          "height": 34
        }
      },
      "source": [
        "# Training XGBoost + BOW + TF-IDF model\n",
        "from xgboost import XGBClassifier\n",
        "\n",
        "xg_clf = Pipeline([('vect', CountVectorizer(ngram_range=(1,4))), ('tfidf', TfidfTransformer()), ('clf', XGBClassifier())])\n",
        "xg_clf = xg_clf.fit(X_train.tweet,y_train)\n",
        "subtask_c_metrics(xg_clf)"
      ],
      "execution_count": 0,
      "outputs": [
        {
          "output_type": "stream",
          "text": [
            "0.4442300976033608\n"
          ],
          "name": "stdout"
        }
      ]
    },
    {
      "cell_type": "code",
      "metadata": {
        "id": "WVWTe4uTSS_A",
        "colab_type": "code",
        "outputId": "2058aa74-fb50-42d9-c43d-cc8e34298601",
        "colab": {
          "base_uri": "https://localhost:8080/",
          "height": 88
        }
      },
      "source": [
        "from sklearn.ensemble import RandomForestClassifier\n",
        "\n",
        "rg_clf = Pipeline([('vect', CountVectorizer(ngram_range=(1,2))), ('tfidf', TfidfTransformer()), ('clf', RandomForestClassifier())])\n",
        "rg_clf = rg_clf.fit(X_train.tweet,y_train)\n",
        "subtask_c_metrics(rg_clf)"
      ],
      "execution_count": 0,
      "outputs": [
        {
          "output_type": "stream",
          "text": [
            "0.4621590154226834\n"
          ],
          "name": "stdout"
        }
      ]
    },
    {
      "cell_type": "code",
      "metadata": {
        "id": "1ieoUdJIntQo",
        "colab_type": "code",
        "outputId": "1c80ace0-301a-46fb-fe19-ef0a5433994f",
        "colab": {
          "base_uri": "https://localhost:8080/",
          "height": 34
        }
      },
      "source": [
        "from sklearn.ensemble import AdaBoostClassifier\n",
        "\n",
        "rg_clf = Pipeline([('vect', CountVectorizer(ngram_range=(1,2))), ('tfidf', TfidfTransformer()), ('clf', AdaBoostClassifier())])\n",
        "rg_clf = rg_clf.fit(X_train.tweet,y_train)\n",
        "subtask_c_metrics(rg_clf)"
      ],
      "execution_count": 0,
      "outputs": [
        {
          "output_type": "stream",
          "text": [
            "0.4315198748596998\n"
          ],
          "name": "stdout"
        }
      ]
    },
    {
      "cell_type": "code",
      "metadata": {
        "id": "e7nuDT3Qn1Ni",
        "colab_type": "code",
        "outputId": "fc85ec6d-152e-41d6-b31c-750d5dcd9274",
        "colab": {
          "base_uri": "https://localhost:8080/",
          "height": 34
        }
      },
      "source": [
        "from sklearn.ensemble import GradientBoostingClassifier\n",
        "\n",
        "rg_clf = Pipeline([('vect', CountVectorizer(ngram_range=(1,2))), ('tfidf', TfidfTransformer()), ('clf', GradientBoostingClassifier())])\n",
        "rg_clf = rg_clf.fit(X_train.tweet,y_train)\n",
        "subtask_c_metrics(rg_clf)"
      ],
      "execution_count": 0,
      "outputs": [
        {
          "output_type": "stream",
          "text": [
            "0.4738127271426258\n"
          ],
          "name": "stdout"
        }
      ]
    },
    {
      "cell_type": "markdown",
      "metadata": {
        "id": "YeV7DQR_mjRC",
        "colab_type": "text"
      },
      "source": [
        "### Sampling Techniques"
      ]
    },
    {
      "cell_type": "code",
      "metadata": {
        "id": "TuoKWs9fqU1g",
        "colab_type": "code",
        "colab": {}
      },
      "source": [
        "from sklearn.model_selection import StratifiedKFold\n",
        "def lr_cv(pipeline,print_conf = False):\n",
        "    \n",
        "    #X_train,X_test,y_train,y_test = train_test_split(X,Y, test_size=0.2, random_state=0, stratify=Y)\n",
        "    lr_fit = pipeline.fit(X_train.tweet, y_train)\n",
        "    prediction = lr_fit.predict(X_test.tweet)\n",
        "    f1=f1_score(y_test, prediction, average='macro')\n",
        "    print(\"f1 score: {:.5f} \".format(f1))\n",
        "    if(print_conf):\n",
        "      print(confusion_matrix(y_test,prediction))"
      ],
      "execution_count": 0,
      "outputs": []
    },
    {
      "cell_type": "code",
      "metadata": {
        "id": "_O8X3xXrmPiW",
        "colab_type": "code",
        "colab": {}
      },
      "source": [
        "from sklearn.feature_extraction.text import TfidfVectorizer\n",
        "from imblearn.under_sampling import NearMiss, RandomUnderSampler\n",
        "from imblearn.pipeline import make_pipeline\n",
        "from imblearn.over_sampling import ADASYN, SMOTE, RandomOverSampler"
      ],
      "execution_count": 0,
      "outputs": []
    },
    {
      "cell_type": "markdown",
      "metadata": {
        "id": "Tz4s-l3Ao6to",
        "colab_type": "text"
      },
      "source": [
        "### Logistic Regression"
      ]
    },
    {
      "cell_type": "code",
      "metadata": {
        "id": "9Vz-RHhpyQ52",
        "colab_type": "code",
        "outputId": "8fea47f3-eeb4-40a5-ceb2-4261ca8832c6",
        "colab": {
          "base_uri": "https://localhost:8080/",
          "height": 377
        }
      },
      "source": [
        "tvec = TfidfVectorizer(stop_words=None, max_features=100000, ngram_range=(1, 2))\n",
        "model = LogisticRegression(solver='lbfgs')\n",
        "ROS_pipeline = make_pipeline(tvec, RandomOverSampler(random_state=777),model)\n",
        "SMOTE_pipeline = make_pipeline(tvec, SMOTE(random_state=777),model)\n",
        "RUS_pipeline = make_pipeline(tvec, RandomUnderSampler(random_state=777),model)\n",
        "NM1_pipeline = make_pipeline(tvec, NearMiss(ratio='not minority',random_state=777, version = 1),model)\n",
        "NM2_pipeline = make_pipeline(tvec, NearMiss(ratio='not minority',random_state=777, version = 2),model)\n",
        "NM3_pipeline = make_pipeline(tvec, NearMiss(ratio='not minority',random_state=777, version = 3, n_neighbors_ver3=4),model)\n",
        "\n",
        "lr_cv(ROS_pipeline)\n",
        "lr_cv(SMOTE_pipeline)\n",
        "lr_cv(RUS_pipeline)\n",
        "lr_cv(NM1_pipeline)\n",
        "lr_cv(NM2_pipeline)\n",
        "lr_cv(NM3_pipeline)"
      ],
      "execution_count": 0,
      "outputs": [
        {
          "output_type": "stream",
          "text": [
            "f1 score: 0.53361 \n"
          ],
          "name": "stdout"
        },
        {
          "output_type": "stream",
          "text": [
            "f1 score: 0.53386 \n"
          ],
          "name": "stdout"
        },
        {
          "output_type": "stream",
          "text": [
            "f1 score: 0.53872 \n"
          ],
          "name": "stdout"
        },
        {
          "output_type": "stream",
          "text": [
            "f1 score: 0.52361 \n"
          ],
          "name": "stdout"
        },
        {
          "output_type": "stream",
          "text": [
            "f1 score: 0.54319 \n"
          ],
          "name": "stdout"
        },
        {
          "output_type": "stream",
          "text": [
            "/usr/local/lib/python3.6/dist-packages/imblearn/under_sampling/_prototype_selection/_nearmiss.py:194: UserWarning: The number of the samples to be selected is larger than the number of samples available. The balancing ratio cannot be ensure and all samples will be returned.\n",
            "  warnings.warn('The number of the samples to be selected is larger'\n"
          ],
          "name": "stderr"
        },
        {
          "output_type": "stream",
          "text": [
            "f1 score: 0.54126 \n"
          ],
          "name": "stdout"
        }
      ]
    },
    {
      "cell_type": "code",
      "metadata": {
        "id": "1q3vGKfN1nGq",
        "colab_type": "code",
        "outputId": "7f5bc272-5218-4411-f87d-b0edb8b82022",
        "colab": {
          "base_uri": "https://localhost:8080/",
          "height": 377
        }
      },
      "source": [
        "tvec = TfidfVectorizer(stop_words=None, max_features=100000, ngram_range=(1, 3))\n",
        "model = LogisticRegression(solver='lbfgs')\n",
        "ROS_pipeline = make_pipeline(tvec, RandomOverSampler(random_state=777),model)\n",
        "SMOTE_pipeline = make_pipeline(tvec, SMOTE(random_state=777),model)\n",
        "RUS_pipeline = make_pipeline(tvec, RandomUnderSampler(random_state=777),model)\n",
        "NM1_pipeline = make_pipeline(tvec, NearMiss(ratio='not minority',random_state=777, version = 1),model)\n",
        "NM2_pipeline = make_pipeline(tvec, NearMiss(ratio='not minority',random_state=777, version = 2),model)\n",
        "NM3_pipeline = make_pipeline(tvec, NearMiss(ratio='not minority',random_state=777, version = 3, n_neighbors_ver3=4),model)\n",
        "\n",
        "lr_cv(ROS_pipeline)\n",
        "lr_cv(SMOTE_pipeline)\n",
        "lr_cv(RUS_pipeline)\n",
        "lr_cv(NM1_pipeline)\n",
        "lr_cv(NM2_pipeline)\n",
        "lr_cv(NM3_pipeline)"
      ],
      "execution_count": 0,
      "outputs": [
        {
          "output_type": "stream",
          "text": [
            "f1 score: 0.52379 \n"
          ],
          "name": "stdout"
        },
        {
          "output_type": "stream",
          "text": [
            "f1 score: 0.52520 \n"
          ],
          "name": "stdout"
        },
        {
          "output_type": "stream",
          "text": [
            "f1 score: 0.52661 \n"
          ],
          "name": "stdout"
        },
        {
          "output_type": "stream",
          "text": [
            "f1 score: 0.49473 \n"
          ],
          "name": "stdout"
        },
        {
          "output_type": "stream",
          "text": [
            "f1 score: 0.52204 \n"
          ],
          "name": "stdout"
        },
        {
          "output_type": "stream",
          "text": [
            "/usr/local/lib/python3.6/dist-packages/imblearn/under_sampling/_prototype_selection/_nearmiss.py:194: UserWarning: The number of the samples to be selected is larger than the number of samples available. The balancing ratio cannot be ensure and all samples will be returned.\n",
            "  warnings.warn('The number of the samples to be selected is larger'\n"
          ],
          "name": "stderr"
        },
        {
          "output_type": "stream",
          "text": [
            "f1 score: 0.52844 \n"
          ],
          "name": "stdout"
        }
      ]
    },
    {
      "cell_type": "code",
      "metadata": {
        "id": "iJSsoRcZ1nux",
        "colab_type": "code",
        "outputId": "2031fbce-807b-4f46-b188-a41d5daef420",
        "colab": {
          "base_uri": "https://localhost:8080/",
          "height": 377
        }
      },
      "source": [
        "tvec = TfidfVectorizer(stop_words=None, max_features=100000, ngram_range=(1, 4))\n",
        "model = LogisticRegression(solver='lbfgs')\n",
        "ROS_pipeline = make_pipeline(tvec, RandomOverSampler(random_state=777),model)\n",
        "SMOTE_pipeline = make_pipeline(tvec, SMOTE(random_state=777),model)\n",
        "RUS_pipeline = make_pipeline(tvec, RandomUnderSampler(random_state=777),model)\n",
        "NM1_pipeline = make_pipeline(tvec, NearMiss(ratio='not minority',random_state=777, version = 1),model)\n",
        "NM2_pipeline = make_pipeline(tvec, NearMiss(ratio='not minority',random_state=777, version = 2),model)\n",
        "NM3_pipeline = make_pipeline(tvec, NearMiss(ratio='not minority',random_state=777, version = 3, n_neighbors_ver3=4),model)\n",
        "\n",
        "lr_cv(ROS_pipeline)\n",
        "lr_cv(SMOTE_pipeline)\n",
        "lr_cv(RUS_pipeline)\n",
        "lr_cv(NM1_pipeline)\n",
        "lr_cv(NM2_pipeline)\n",
        "lr_cv(NM3_pipeline)"
      ],
      "execution_count": 0,
      "outputs": [
        {
          "output_type": "stream",
          "text": [
            "f1 score: 0.48803 \n"
          ],
          "name": "stdout"
        },
        {
          "output_type": "stream",
          "text": [
            "f1 score: 0.50012 \n"
          ],
          "name": "stdout"
        },
        {
          "output_type": "stream",
          "text": [
            "f1 score: 0.49483 \n"
          ],
          "name": "stdout"
        },
        {
          "output_type": "stream",
          "text": [
            "f1 score: 0.48456 \n"
          ],
          "name": "stdout"
        },
        {
          "output_type": "stream",
          "text": [
            "f1 score: 0.46920 \n"
          ],
          "name": "stdout"
        },
        {
          "output_type": "stream",
          "text": [
            "/usr/local/lib/python3.6/dist-packages/imblearn/under_sampling/_prototype_selection/_nearmiss.py:194: UserWarning: The number of the samples to be selected is larger than the number of samples available. The balancing ratio cannot be ensure and all samples will be returned.\n",
            "  warnings.warn('The number of the samples to be selected is larger'\n"
          ],
          "name": "stderr"
        },
        {
          "output_type": "stream",
          "text": [
            "f1 score: 0.48785 \n"
          ],
          "name": "stdout"
        }
      ]
    },
    {
      "cell_type": "markdown",
      "metadata": {
        "id": "OBcU1q4muxXq",
        "colab_type": "text"
      },
      "source": [
        "### SVM"
      ]
    },
    {
      "cell_type": "code",
      "metadata": {
        "id": "k0wDK9vyy3QL",
        "colab_type": "code",
        "outputId": "1fc0acf9-13ad-405e-93ef-5817948c9436",
        "colab": {
          "base_uri": "https://localhost:8080/",
          "height": 173
        }
      },
      "source": [
        "tvec = TfidfVectorizer(stop_words=None, max_features=100000, ngram_range=(1, 2))\n",
        "model = LinearSVC()\n",
        "ROS_pipeline = make_pipeline(tvec, RandomOverSampler(random_state=777),model)\n",
        "SMOTE_pipeline = make_pipeline(tvec, SMOTE(random_state=777),model)\n",
        "RUS_pipeline = make_pipeline(tvec, RandomUnderSampler(random_state=777),model)\n",
        "NM1_pipeline = make_pipeline(tvec, NearMiss(ratio='not minority',random_state=777, version = 1),model)\n",
        "NM2_pipeline = make_pipeline(tvec, NearMiss(ratio='not minority',random_state=777, version = 2),model)\n",
        "NM3_pipeline = make_pipeline(tvec, NearMiss(ratio='not minority',random_state=777, version = 3, n_neighbors_ver3=4),model)\n",
        "\n",
        "lr_cv(ROS_pipeline)\n",
        "lr_cv(SMOTE_pipeline)\n",
        "lr_cv(RUS_pipeline)\n",
        "lr_cv(NM1_pipeline)\n",
        "lr_cv(NM2_pipeline)\n",
        "lr_cv(NM3_pipeline)"
      ],
      "execution_count": 0,
      "outputs": [
        {
          "output_type": "stream",
          "text": [
            "f1 score: 0.51210 \n",
            "f1 score: 0.51341 \n",
            "f1 score: 0.52141 \n",
            "f1 score: 0.51887 \n",
            "f1 score: 0.52129 \n"
          ],
          "name": "stdout"
        },
        {
          "output_type": "stream",
          "text": [
            "/usr/local/lib/python3.6/dist-packages/imblearn/under_sampling/_prototype_selection/_nearmiss.py:194: UserWarning: The number of the samples to be selected is larger than the number of samples available. The balancing ratio cannot be ensure and all samples will be returned.\n",
            "  warnings.warn('The number of the samples to be selected is larger'\n"
          ],
          "name": "stderr"
        },
        {
          "output_type": "stream",
          "text": [
            "f1 score: 0.51958 \n"
          ],
          "name": "stdout"
        }
      ]
    },
    {
      "cell_type": "code",
      "metadata": {
        "id": "yu7KpMPU1xdH",
        "colab_type": "code",
        "outputId": "d3db8f2d-f14e-4444-b418-953cec2d1abe",
        "colab": {
          "base_uri": "https://localhost:8080/",
          "height": 173
        }
      },
      "source": [
        "tvec = TfidfVectorizer(stop_words=None, max_features=100000, ngram_range=(1, 3))\n",
        "model = LinearSVC()\n",
        "ROS_pipeline = make_pipeline(tvec, RandomOverSampler(random_state=777),model)\n",
        "SMOTE_pipeline = make_pipeline(tvec, SMOTE(random_state=777),model)\n",
        "RUS_pipeline = make_pipeline(tvec, RandomUnderSampler(random_state=777),model)\n",
        "NM1_pipeline = make_pipeline(tvec, NearMiss(ratio='not minority',random_state=777, version = 1),model)\n",
        "NM2_pipeline = make_pipeline(tvec, NearMiss(ratio='not minority',random_state=777, version = 2),model)\n",
        "NM3_pipeline = make_pipeline(tvec, NearMiss(ratio='not minority',random_state=777, version = 3, n_neighbors_ver3=4),model)\n",
        "\n",
        "lr_cv(ROS_pipeline)\n",
        "lr_cv(SMOTE_pipeline)\n",
        "lr_cv(RUS_pipeline)\n",
        "lr_cv(NM1_pipeline)\n",
        "lr_cv(NM2_pipeline)\n",
        "lr_cv(NM3_pipeline)"
      ],
      "execution_count": 0,
      "outputs": [
        {
          "output_type": "stream",
          "text": [
            "f1 score: 0.49052 \n",
            "f1 score: 0.51718 \n",
            "f1 score: 0.50587 \n",
            "f1 score: 0.49314 \n",
            "f1 score: 0.48695 \n"
          ],
          "name": "stdout"
        },
        {
          "output_type": "stream",
          "text": [
            "/usr/local/lib/python3.6/dist-packages/imblearn/under_sampling/_prototype_selection/_nearmiss.py:194: UserWarning: The number of the samples to be selected is larger than the number of samples available. The balancing ratio cannot be ensure and all samples will be returned.\n",
            "  warnings.warn('The number of the samples to be selected is larger'\n"
          ],
          "name": "stderr"
        },
        {
          "output_type": "stream",
          "text": [
            "f1 score: 0.48541 \n"
          ],
          "name": "stdout"
        }
      ]
    },
    {
      "cell_type": "code",
      "metadata": {
        "id": "FxESzBi51xmm",
        "colab_type": "code",
        "outputId": "dbdcfd19-bfdf-4224-f452-f382266e6ae7",
        "colab": {
          "base_uri": "https://localhost:8080/",
          "height": 173
        }
      },
      "source": [
        "tvec = TfidfVectorizer(stop_words=None, max_features=100000, ngram_range=(1, 4))\n",
        "model = LinearSVC()\n",
        "ROS_pipeline = make_pipeline(tvec, RandomOverSampler(random_state=777),model)\n",
        "SMOTE_pipeline = make_pipeline(tvec, SMOTE(random_state=777),model)\n",
        "RUS_pipeline = make_pipeline(tvec, RandomUnderSampler(random_state=777),model)\n",
        "NM1_pipeline = make_pipeline(tvec, NearMiss(ratio='not minority',random_state=777, version = 1),model)\n",
        "NM2_pipeline = make_pipeline(tvec, NearMiss(ratio='not minority',random_state=777, version = 2),model)\n",
        "NM3_pipeline = make_pipeline(tvec, NearMiss(ratio='not minority',random_state=777, version = 3, n_neighbors_ver3=4),model)\n",
        "\n",
        "lr_cv(ROS_pipeline)\n",
        "lr_cv(SMOTE_pipeline)\n",
        "lr_cv(RUS_pipeline)\n",
        "lr_cv(NM1_pipeline)\n",
        "lr_cv(NM2_pipeline)\n",
        "lr_cv(NM3_pipeline)"
      ],
      "execution_count": 0,
      "outputs": [
        {
          "output_type": "stream",
          "text": [
            "f1 score: 0.44682 \n",
            "f1 score: 0.47394 \n",
            "f1 score: 0.46861 \n",
            "f1 score: 0.44161 \n",
            "f1 score: 0.43493 \n"
          ],
          "name": "stdout"
        },
        {
          "output_type": "stream",
          "text": [
            "/usr/local/lib/python3.6/dist-packages/imblearn/under_sampling/_prototype_selection/_nearmiss.py:194: UserWarning: The number of the samples to be selected is larger than the number of samples available. The balancing ratio cannot be ensure and all samples will be returned.\n",
            "  warnings.warn('The number of the samples to be selected is larger'\n"
          ],
          "name": "stderr"
        },
        {
          "output_type": "stream",
          "text": [
            "f1 score: 0.44884 \n"
          ],
          "name": "stdout"
        }
      ]
    },
    {
      "cell_type": "markdown",
      "metadata": {
        "id": "TinyvV5SyImc",
        "colab_type": "text"
      },
      "source": [
        "### Bagging Classifier"
      ]
    },
    {
      "cell_type": "code",
      "metadata": {
        "id": "hHIwnsDSvGoT",
        "colab_type": "code",
        "outputId": "ed8c2833-e4c2-48cc-bb61-bfec8969e422",
        "colab": {
          "base_uri": "https://localhost:8080/",
          "height": 173
        }
      },
      "source": [
        "tvec = TfidfVectorizer(stop_words=None, max_features=100000, ngram_range=(1, 2))\n",
        "from sklearn.ensemble import BaggingClassifier\n",
        "model = BaggingClassifier()\n",
        "ROS_pipeline = make_pipeline(tvec, RandomOverSampler(random_state=777),model)\n",
        "SMOTE_pipeline = make_pipeline(tvec, SMOTE(random_state=777),model)\n",
        "RUS_pipeline = make_pipeline(tvec, RandomUnderSampler(random_state=777),model)\n",
        "NM1_pipeline = make_pipeline(tvec, NearMiss(ratio='not minority',random_state=777, version = 1),model)\n",
        "NM2_pipeline = make_pipeline(tvec, NearMiss(ratio='not minority',random_state=777, version = 2),model)\n",
        "NM3_pipeline = make_pipeline(tvec, NearMiss(ratio='not minority',random_state=777, version = 3, n_neighbors_ver3=4),model)\n",
        "\n",
        "lr_cv(ROS_pipeline)\n",
        "lr_cv(SMOTE_pipeline)\n",
        "lr_cv(RUS_pipeline)\n",
        "lr_cv(NM1_pipeline)\n",
        "lr_cv(NM2_pipeline)\n",
        "lr_cv(NM3_pipeline)"
      ],
      "execution_count": 0,
      "outputs": [
        {
          "output_type": "stream",
          "text": [
            "f1 score: 0.46273 \n",
            "f1 score: 0.45828 \n",
            "f1 score: 0.48728 \n",
            "f1 score: 0.44990 \n",
            "f1 score: 0.45810 \n"
          ],
          "name": "stdout"
        },
        {
          "output_type": "stream",
          "text": [
            "/usr/local/lib/python3.6/dist-packages/imblearn/under_sampling/_prototype_selection/_nearmiss.py:194: UserWarning: The number of the samples to be selected is larger than the number of samples available. The balancing ratio cannot be ensure and all samples will be returned.\n",
            "  warnings.warn('The number of the samples to be selected is larger'\n"
          ],
          "name": "stderr"
        },
        {
          "output_type": "stream",
          "text": [
            "f1 score: 0.47354 \n"
          ],
          "name": "stdout"
        }
      ]
    },
    {
      "cell_type": "code",
      "metadata": {
        "id": "9icFfTeOznE8",
        "colab_type": "code",
        "outputId": "9c62db85-632b-447a-cb39-bc5417899002",
        "colab": {
          "base_uri": "https://localhost:8080/",
          "height": 173
        }
      },
      "source": [
        "tvec = TfidfVectorizer(stop_words=None, max_features=100000, ngram_range=(1, 3))\n",
        "from sklearn.ensemble import BaggingClassifier\n",
        "model = BaggingClassifier()\n",
        "ROS_pipeline = make_pipeline(tvec, RandomOverSampler(random_state=777),model)\n",
        "SMOTE_pipeline = make_pipeline(tvec, SMOTE(random_state=777),model)\n",
        "RUS_pipeline = make_pipeline(tvec, RandomUnderSampler(random_state=777),model)\n",
        "NM1_pipeline = make_pipeline(tvec, NearMiss(ratio='not minority',random_state=777, version = 1),model)\n",
        "NM2_pipeline = make_pipeline(tvec, NearMiss(ratio='not minority',random_state=777, version = 2),model)\n",
        "NM3_pipeline = make_pipeline(tvec, NearMiss(ratio='not minority',random_state=777, version = 3, n_neighbors_ver3=4),model)\n",
        "\n",
        "lr_cv(ROS_pipeline)\n",
        "lr_cv(SMOTE_pipeline)\n",
        "lr_cv(RUS_pipeline)\n",
        "lr_cv(NM1_pipeline)\n",
        "lr_cv(NM2_pipeline)\n",
        "lr_cv(NM3_pipeline)"
      ],
      "execution_count": 0,
      "outputs": [
        {
          "output_type": "stream",
          "text": [
            "f1 score: 0.44491 \n",
            "f1 score: 0.47695 \n",
            "f1 score: 0.46545 \n",
            "f1 score: 0.49250 \n",
            "f1 score: 0.50584 \n"
          ],
          "name": "stdout"
        },
        {
          "output_type": "stream",
          "text": [
            "/usr/local/lib/python3.6/dist-packages/imblearn/under_sampling/_prototype_selection/_nearmiss.py:194: UserWarning: The number of the samples to be selected is larger than the number of samples available. The balancing ratio cannot be ensure and all samples will be returned.\n",
            "  warnings.warn('The number of the samples to be selected is larger'\n"
          ],
          "name": "stderr"
        },
        {
          "output_type": "stream",
          "text": [
            "f1 score: 0.47463 \n"
          ],
          "name": "stdout"
        }
      ]
    },
    {
      "cell_type": "code",
      "metadata": {
        "id": "F0o2uo6AznP4",
        "colab_type": "code",
        "outputId": "2cfc1bb7-c943-4941-c223-3dcf7b6f2640",
        "colab": {
          "base_uri": "https://localhost:8080/",
          "height": 173
        }
      },
      "source": [
        "tvec = TfidfVectorizer(stop_words=None, max_features=100000, ngram_range=(1, 4))\n",
        "from sklearn.ensemble import BaggingClassifier\n",
        "model = BaggingClassifier()\n",
        "ROS_pipeline = make_pipeline(tvec, RandomOverSampler(random_state=777),model)\n",
        "SMOTE_pipeline = make_pipeline(tvec, SMOTE(random_state=777),model)\n",
        "RUS_pipeline = make_pipeline(tvec, RandomUnderSampler(random_state=777),model)\n",
        "NM1_pipeline = make_pipeline(tvec, NearMiss(ratio='not minority',random_state=777, version = 1),model)\n",
        "NM2_pipeline = make_pipeline(tvec, NearMiss(ratio='not minority',random_state=777, version = 2),model)\n",
        "NM3_pipeline = make_pipeline(tvec, NearMiss(ratio='not minority',random_state=777, version = 3, n_neighbors_ver3=4),model)\n",
        "\n",
        "lr_cv(ROS_pipeline)\n",
        "lr_cv(SMOTE_pipeline)\n",
        "lr_cv(RUS_pipeline)\n",
        "lr_cv(NM1_pipeline)\n",
        "lr_cv(NM2_pipeline)\n",
        "lr_cv(NM3_pipeline)"
      ],
      "execution_count": 0,
      "outputs": [
        {
          "output_type": "stream",
          "text": [
            "f1 score: 0.42307 \n",
            "f1 score: 0.40289 \n",
            "f1 score: 0.42068 \n",
            "f1 score: 0.42844 \n",
            "f1 score: 0.43269 \n"
          ],
          "name": "stdout"
        },
        {
          "output_type": "stream",
          "text": [
            "/usr/local/lib/python3.6/dist-packages/imblearn/under_sampling/_prototype_selection/_nearmiss.py:194: UserWarning: The number of the samples to be selected is larger than the number of samples available. The balancing ratio cannot be ensure and all samples will be returned.\n",
            "  warnings.warn('The number of the samples to be selected is larger'\n"
          ],
          "name": "stderr"
        },
        {
          "output_type": "stream",
          "text": [
            "f1 score: 0.43063 \n"
          ],
          "name": "stdout"
        }
      ]
    },
    {
      "cell_type": "markdown",
      "metadata": {
        "id": "PdWKS5C8qvC1",
        "colab_type": "text"
      },
      "source": [
        "### XGBoost"
      ]
    },
    {
      "cell_type": "code",
      "metadata": {
        "id": "8zNio206qoNs",
        "colab_type": "code",
        "outputId": "cdcb2793-0dcb-4cc3-dea6-232334c55475",
        "colab": {
          "base_uri": "https://localhost:8080/",
          "height": 224
        }
      },
      "source": [
        "tvec = TfidfVectorizer(stop_words=None, max_features=100000, ngram_range=(1, 2))\n",
        "model = XGBClassifier()\n",
        "ROS_pipeline = make_pipeline(tvec, RandomOverSampler(random_state=777),model)\n",
        "SMOTE_pipeline = make_pipeline(tvec, SMOTE(random_state=777),model)\n",
        "RUS_pipeline = make_pipeline(tvec, RandomUnderSampler(random_state=777),model)\n",
        "NM1_pipeline = make_pipeline(tvec, NearMiss(ratio='not minority',random_state=777, version = 1),model)\n",
        "NM2_pipeline = make_pipeline(tvec, NearMiss(ratio='not minority',random_state=777, version = 2),model)\n",
        "NM3_pipeline = make_pipeline(tvec, NearMiss(ratio='not minority',random_state=777, version = 3, n_neighbors_ver3=4),model)\n",
        "\n",
        "lr_cv(ROS_pipeline)\n",
        "lr_cv(SMOTE_pipeline,True)\n",
        "lr_cv(RUS_pipeline)\n",
        "lr_cv(NM1_pipeline)\n",
        "lr_cv(NM2_pipeline)\n",
        "lr_cv(NM3_pipeline)"
      ],
      "execution_count": 0,
      "outputs": [
        {
          "output_type": "stream",
          "text": [
            "f1 score: 0.49070 \n",
            "f1 score: 0.47176 \n",
            "[[ 96  20  99]\n",
            " [ 53 269 160]\n",
            " [ 19  16  44]]\n",
            "f1 score: 0.49370 \n",
            "f1 score: 0.50027 \n",
            "f1 score: 0.49700 \n"
          ],
          "name": "stdout"
        },
        {
          "output_type": "stream",
          "text": [
            "/usr/local/lib/python3.6/dist-packages/imblearn/under_sampling/_prototype_selection/_nearmiss.py:194: UserWarning: The number of the samples to be selected is larger than the number of samples available. The balancing ratio cannot be ensure and all samples will be returned.\n",
            "  warnings.warn('The number of the samples to be selected is larger'\n"
          ],
          "name": "stderr"
        },
        {
          "output_type": "stream",
          "text": [
            "f1 score: 0.47904 \n"
          ],
          "name": "stdout"
        }
      ]
    },
    {
      "cell_type": "code",
      "metadata": {
        "id": "b2u5bOls02KD",
        "colab_type": "code",
        "outputId": "d5b7322f-7c5a-409d-d4eb-e7b7b82b8065",
        "colab": {
          "base_uri": "https://localhost:8080/",
          "height": 173
        }
      },
      "source": [
        "tvec = TfidfVectorizer(stop_words=None, max_features=100000, ngram_range=(1, 3))\n",
        "model = XGBClassifier()\n",
        "ROS_pipeline = make_pipeline(tvec, RandomOverSampler(random_state=777),model)\n",
        "SMOTE_pipeline = make_pipeline(tvec, SMOTE(random_state=777),model)\n",
        "RUS_pipeline = make_pipeline(tvec, RandomUnderSampler(random_state=777),model)\n",
        "NM1_pipeline = make_pipeline(tvec, NearMiss(ratio='not minority',random_state=777, version = 1),model)\n",
        "NM2_pipeline = make_pipeline(tvec, NearMiss(ratio='not minority',random_state=777, version = 2),model)\n",
        "NM3_pipeline = make_pipeline(tvec, NearMiss(ratio='not minority',random_state=777, version = 3, n_neighbors_ver3=4),model)\n",
        "\n",
        "lr_cv(ROS_pipeline)\n",
        "lr_cv(SMOTE_pipeline)\n",
        "lr_cv(RUS_pipeline)\n",
        "lr_cv(NM1_pipeline)\n",
        "lr_cv(NM2_pipeline)\n",
        "lr_cv(NM3_pipeline)"
      ],
      "execution_count": 0,
      "outputs": [
        {
          "output_type": "stream",
          "text": [
            "f1 score: 0.52654 \n",
            "f1 score: 0.48877 \n",
            "f1 score: 0.50428 \n",
            "f1 score: 0.49592 \n",
            "f1 score: 0.52342 \n"
          ],
          "name": "stdout"
        },
        {
          "output_type": "stream",
          "text": [
            "/usr/local/lib/python3.6/dist-packages/imblearn/under_sampling/_prototype_selection/_nearmiss.py:194: UserWarning: The number of the samples to be selected is larger than the number of samples available. The balancing ratio cannot be ensure and all samples will be returned.\n",
            "  warnings.warn('The number of the samples to be selected is larger'\n"
          ],
          "name": "stderr"
        },
        {
          "output_type": "stream",
          "text": [
            "f1 score: 0.50102 \n"
          ],
          "name": "stdout"
        }
      ]
    },
    {
      "cell_type": "code",
      "metadata": {
        "id": "3S7_4F6K02Ro",
        "colab_type": "code",
        "outputId": "3cf7dda6-226c-47fc-8a86-a533ae5b4ba3",
        "colab": {
          "base_uri": "https://localhost:8080/",
          "height": 173
        }
      },
      "source": [
        "tvec = TfidfVectorizer(stop_words=None, max_features=100000, ngram_range=(1, 4))\n",
        "model = XGBClassifier()\n",
        "ROS_pipeline = make_pipeline(tvec, RandomOverSampler(random_state=777),model)\n",
        "SMOTE_pipeline = make_pipeline(tvec, SMOTE(random_state=777),model)\n",
        "RUS_pipeline = make_pipeline(tvec, RandomUnderSampler(random_state=777),model)\n",
        "NM1_pipeline = make_pipeline(tvec, NearMiss(ratio='not minority',random_state=777, version = 1),model)\n",
        "NM2_pipeline = make_pipeline(tvec, NearMiss(ratio='not minority',random_state=777, version = 2),model)\n",
        "NM3_pipeline = make_pipeline(tvec, NearMiss(ratio='not minority',random_state=777, version = 3, n_neighbors_ver3=4),model)\n",
        "\n",
        "lr_cv(ROS_pipeline)\n",
        "lr_cv(SMOTE_pipeline)\n",
        "lr_cv(RUS_pipeline)\n",
        "lr_cv(NM1_pipeline)\n",
        "lr_cv(NM2_pipeline)\n",
        "lr_cv(NM3_pipeline)"
      ],
      "execution_count": 0,
      "outputs": [
        {
          "output_type": "stream",
          "text": [
            "f1 score: 0.44042 \n",
            "f1 score: 0.47280 \n",
            "f1 score: 0.42065 \n",
            "f1 score: 0.45872 \n",
            "f1 score: 0.46481 \n"
          ],
          "name": "stdout"
        },
        {
          "output_type": "stream",
          "text": [
            "/usr/local/lib/python3.6/dist-packages/imblearn/under_sampling/_prototype_selection/_nearmiss.py:194: UserWarning: The number of the samples to be selected is larger than the number of samples available. The balancing ratio cannot be ensure and all samples will be returned.\n",
            "  warnings.warn('The number of the samples to be selected is larger'\n"
          ],
          "name": "stderr"
        },
        {
          "output_type": "stream",
          "text": [
            "f1 score: 0.46208 \n"
          ],
          "name": "stdout"
        }
      ]
    },
    {
      "cell_type": "markdown",
      "metadata": {
        "id": "ifXQzzlHq0kM",
        "colab_type": "text"
      },
      "source": [
        "### GBM"
      ]
    },
    {
      "cell_type": "code",
      "metadata": {
        "id": "CR1quPnzqobY",
        "colab_type": "code",
        "outputId": "8ccba9d0-9f1a-440e-add1-c744f30875ab",
        "colab": {
          "base_uri": "https://localhost:8080/",
          "height": 173
        }
      },
      "source": [
        "tvec = TfidfVectorizer(stop_words=None, max_features=100000, ngram_range=(1, 2))\n",
        "model = GradientBoostingClassifier()\n",
        "ROS_pipeline = make_pipeline(tvec, RandomOverSampler(random_state=777),model)\n",
        "SMOTE_pipeline = make_pipeline(tvec, SMOTE(random_state=777),model)\n",
        "RUS_pipeline = make_pipeline(tvec, RandomUnderSampler(random_state=777),model)\n",
        "NM1_pipeline = make_pipeline(tvec, NearMiss(ratio='not minority',random_state=777, version = 1),model)\n",
        "NM2_pipeline = make_pipeline(tvec, NearMiss(ratio='not minority',random_state=777, version = 2),model)\n",
        "NM3_pipeline = make_pipeline(tvec, NearMiss(ratio='not minority',random_state=777, version = 3, n_neighbors_ver3=4),model)\n",
        "\n",
        "lr_cv(ROS_pipeline)\n",
        "lr_cv(SMOTE_pipeline)\n",
        "lr_cv(RUS_pipeline)\n",
        "lr_cv(NM1_pipeline)\n",
        "lr_cv(NM2_pipeline)\n",
        "lr_cv(NM3_pipeline)"
      ],
      "execution_count": 0,
      "outputs": [
        {
          "output_type": "stream",
          "text": [
            "f1 score: 0.48990 \n",
            "f1 score: 0.49562 \n",
            "f1 score: 0.51358 \n",
            "f1 score: 0.52018 \n",
            "f1 score: 0.49275 \n"
          ],
          "name": "stdout"
        },
        {
          "output_type": "stream",
          "text": [
            "/usr/local/lib/python3.6/dist-packages/imblearn/under_sampling/_prototype_selection/_nearmiss.py:194: UserWarning: The number of the samples to be selected is larger than the number of samples available. The balancing ratio cannot be ensure and all samples will be returned.\n",
            "  warnings.warn('The number of the samples to be selected is larger'\n"
          ],
          "name": "stderr"
        },
        {
          "output_type": "stream",
          "text": [
            "f1 score: 0.50242 \n"
          ],
          "name": "stdout"
        }
      ]
    },
    {
      "cell_type": "code",
      "metadata": {
        "id": "2Kizx2uL1G3T",
        "colab_type": "code",
        "outputId": "2dd5a5fb-8190-4230-edd4-e77a0cd2bde5",
        "colab": {
          "base_uri": "https://localhost:8080/",
          "height": 173
        }
      },
      "source": [
        "tvec = TfidfVectorizer(stop_words=None, max_features=100000, ngram_range=(1, 3))\n",
        "model = GradientBoostingClassifier()\n",
        "ROS_pipeline = make_pipeline(tvec, RandomOverSampler(random_state=777),model)\n",
        "SMOTE_pipeline = make_pipeline(tvec, SMOTE(random_state=777),model)\n",
        "RUS_pipeline = make_pipeline(tvec, RandomUnderSampler(random_state=777),model)\n",
        "NM1_pipeline = make_pipeline(tvec, NearMiss(ratio='not minority',random_state=777, version = 1),model)\n",
        "NM2_pipeline = make_pipeline(tvec, NearMiss(ratio='not minority',random_state=777, version = 2),model)\n",
        "NM3_pipeline = make_pipeline(tvec, NearMiss(ratio='not minority',random_state=777, version = 3, n_neighbors_ver3=4),model)\n",
        "\n",
        "lr_cv(ROS_pipeline)\n",
        "lr_cv(SMOTE_pipeline)\n",
        "lr_cv(RUS_pipeline)\n",
        "lr_cv(NM1_pipeline)\n",
        "lr_cv(NM2_pipeline)\n",
        "lr_cv(NM3_pipeline)"
      ],
      "execution_count": 0,
      "outputs": [
        {
          "output_type": "stream",
          "text": [
            "f1 score: 0.51707 \n",
            "f1 score: 0.51612 \n",
            "f1 score: 0.51057 \n",
            "f1 score: 0.51733 \n",
            "f1 score: 0.52909 \n"
          ],
          "name": "stdout"
        },
        {
          "output_type": "stream",
          "text": [
            "/usr/local/lib/python3.6/dist-packages/imblearn/under_sampling/_prototype_selection/_nearmiss.py:194: UserWarning: The number of the samples to be selected is larger than the number of samples available. The balancing ratio cannot be ensure and all samples will be returned.\n",
            "  warnings.warn('The number of the samples to be selected is larger'\n"
          ],
          "name": "stderr"
        },
        {
          "output_type": "stream",
          "text": [
            "f1 score: 0.52595 \n"
          ],
          "name": "stdout"
        }
      ]
    },
    {
      "cell_type": "code",
      "metadata": {
        "id": "o9CfAt-p1G9z",
        "colab_type": "code",
        "outputId": "58a6c108-313d-4e9d-fc54-9328a4abbc5f",
        "colab": {
          "base_uri": "https://localhost:8080/",
          "height": 173
        }
      },
      "source": [
        "tvec = TfidfVectorizer(stop_words=None, max_features=100000, ngram_range=(1, 4))\n",
        "model = GradientBoostingClassifier()\n",
        "ROS_pipeline = make_pipeline(tvec, RandomOverSampler(random_state=777),model)\n",
        "SMOTE_pipeline = make_pipeline(tvec, SMOTE(random_state=777),model)\n",
        "RUS_pipeline = make_pipeline(tvec, RandomUnderSampler(random_state=777),model)\n",
        "NM1_pipeline = make_pipeline(tvec, NearMiss(ratio='not minority',random_state=777, version = 1),model)\n",
        "NM2_pipeline = make_pipeline(tvec, NearMiss(ratio='not minority',random_state=777, version = 2),model)\n",
        "NM3_pipeline = make_pipeline(tvec, NearMiss(ratio='not minority',random_state=777, version = 3, n_neighbors_ver3=4),model)\n",
        "\n",
        "lr_cv(ROS_pipeline)\n",
        "lr_cv(SMOTE_pipeline)\n",
        "lr_cv(RUS_pipeline)\n",
        "lr_cv(NM1_pipeline)\n",
        "lr_cv(NM2_pipeline)\n",
        "lr_cv(NM3_pipeline)"
      ],
      "execution_count": 0,
      "outputs": [
        {
          "output_type": "stream",
          "text": [
            "f1 score: 0.45789 \n",
            "f1 score: 0.47589 \n",
            "f1 score: 0.44706 \n",
            "f1 score: 0.47161 \n",
            "f1 score: 0.45866 \n"
          ],
          "name": "stdout"
        },
        {
          "output_type": "stream",
          "text": [
            "/usr/local/lib/python3.6/dist-packages/imblearn/under_sampling/_prototype_selection/_nearmiss.py:194: UserWarning: The number of the samples to be selected is larger than the number of samples available. The balancing ratio cannot be ensure and all samples will be returned.\n",
            "  warnings.warn('The number of the samples to be selected is larger'\n"
          ],
          "name": "stderr"
        },
        {
          "output_type": "stream",
          "text": [
            "f1 score: 0.47472 \n"
          ],
          "name": "stdout"
        }
      ]
    },
    {
      "cell_type": "markdown",
      "metadata": {
        "id": "Xau6aDZPq21I",
        "colab_type": "text"
      },
      "source": [
        "### AdaBoost"
      ]
    },
    {
      "cell_type": "code",
      "metadata": {
        "id": "q6GzcCa6q4be",
        "colab_type": "code",
        "outputId": "e47c8a6c-a5c2-4925-e48d-2682a75afbb3",
        "colab": {
          "base_uri": "https://localhost:8080/",
          "height": 173
        }
      },
      "source": [
        "tvec = TfidfVectorizer(stop_words=None, max_features=100000, ngram_range=(1, 2))\n",
        "model = AdaBoostClassifier()\n",
        "ROS_pipeline = make_pipeline(tvec, RandomOverSampler(random_state=777),model)\n",
        "SMOTE_pipeline = make_pipeline(tvec, SMOTE(random_state=777),model)\n",
        "RUS_pipeline = make_pipeline(tvec, RandomUnderSampler(random_state=777),model)\n",
        "NM1_pipeline = make_pipeline(tvec, NearMiss(ratio='not minority',random_state=777, version = 1),model)\n",
        "NM2_pipeline = make_pipeline(tvec, NearMiss(ratio='not minority',random_state=777, version = 2),model)\n",
        "NM3_pipeline = make_pipeline(tvec, NearMiss(ratio='not minority',random_state=777, version = 3, n_neighbors_ver3=4),model)\n",
        "\n",
        "lr_cv(ROS_pipeline)\n",
        "lr_cv(SMOTE_pipeline)\n",
        "lr_cv(RUS_pipeline)\n",
        "lr_cv(NM1_pipeline)\n",
        "lr_cv(NM2_pipeline)\n",
        "lr_cv(NM3_pipeline)"
      ],
      "execution_count": 0,
      "outputs": [
        {
          "output_type": "stream",
          "text": [
            "f1 score: 0.47743 \n",
            "f1 score: 0.46684 \n",
            "f1 score: 0.50378 \n",
            "f1 score: 0.47275 \n",
            "f1 score: 0.46772 \n"
          ],
          "name": "stdout"
        },
        {
          "output_type": "stream",
          "text": [
            "/usr/local/lib/python3.6/dist-packages/imblearn/under_sampling/_prototype_selection/_nearmiss.py:194: UserWarning: The number of the samples to be selected is larger than the number of samples available. The balancing ratio cannot be ensure and all samples will be returned.\n",
            "  warnings.warn('The number of the samples to be selected is larger'\n"
          ],
          "name": "stderr"
        },
        {
          "output_type": "stream",
          "text": [
            "f1 score: 0.47035 \n"
          ],
          "name": "stdout"
        }
      ]
    },
    {
      "cell_type": "code",
      "metadata": {
        "id": "TMeW43t01Vys",
        "colab_type": "code",
        "outputId": "aa032a91-1aef-4c79-979c-a2bcd537fd20",
        "colab": {
          "base_uri": "https://localhost:8080/",
          "height": 173
        }
      },
      "source": [
        "tvec = TfidfVectorizer(stop_words=None, max_features=100000, ngram_range=(1, 3))\n",
        "model = AdaBoostClassifier()\n",
        "ROS_pipeline = make_pipeline(tvec, RandomOverSampler(random_state=777),model)\n",
        "SMOTE_pipeline = make_pipeline(tvec, SMOTE(random_state=777),model)\n",
        "RUS_pipeline = make_pipeline(tvec, RandomUnderSampler(random_state=777),model)\n",
        "NM1_pipeline = make_pipeline(tvec, NearMiss(ratio='not minority',random_state=777, version = 1),model)\n",
        "NM2_pipeline = make_pipeline(tvec, NearMiss(ratio='not minority',random_state=777, version = 2),model)\n",
        "NM3_pipeline = make_pipeline(tvec, NearMiss(ratio='not minority',random_state=777, version = 3, n_neighbors_ver3=4),model)\n",
        "\n",
        "lr_cv(ROS_pipeline)\n",
        "lr_cv(SMOTE_pipeline)\n",
        "lr_cv(RUS_pipeline)\n",
        "lr_cv(NM1_pipeline)\n",
        "lr_cv(NM2_pipeline)\n",
        "lr_cv(NM3_pipeline)"
      ],
      "execution_count": 0,
      "outputs": [
        {
          "output_type": "stream",
          "text": [
            "f1 score: 0.47887 \n",
            "f1 score: 0.46667 \n",
            "f1 score: 0.50002 \n",
            "f1 score: 0.49682 \n",
            "f1 score: 0.51055 \n"
          ],
          "name": "stdout"
        },
        {
          "output_type": "stream",
          "text": [
            "/usr/local/lib/python3.6/dist-packages/imblearn/under_sampling/_prototype_selection/_nearmiss.py:194: UserWarning: The number of the samples to be selected is larger than the number of samples available. The balancing ratio cannot be ensure and all samples will be returned.\n",
            "  warnings.warn('The number of the samples to be selected is larger'\n"
          ],
          "name": "stderr"
        },
        {
          "output_type": "stream",
          "text": [
            "f1 score: 0.48201 \n"
          ],
          "name": "stdout"
        }
      ]
    },
    {
      "cell_type": "code",
      "metadata": {
        "id": "OuVvm-U-1V5Q",
        "colab_type": "code",
        "outputId": "c9c3f05f-a053-4d88-88d3-8f4ce6ecbbec",
        "colab": {
          "base_uri": "https://localhost:8080/",
          "height": 173
        }
      },
      "source": [
        "tvec = TfidfVectorizer(stop_words=None, max_features=100000, ngram_range=(1, 4))\n",
        "model = AdaBoostClassifier()\n",
        "ROS_pipeline = make_pipeline(tvec, RandomOverSampler(random_state=777),model)\n",
        "SMOTE_pipeline = make_pipeline(tvec, SMOTE(random_state=777),model)\n",
        "RUS_pipeline = make_pipeline(tvec, RandomUnderSampler(random_state=777),model)\n",
        "NM1_pipeline = make_pipeline(tvec, NearMiss(ratio='not minority',random_state=777, version = 1),model)\n",
        "NM2_pipeline = make_pipeline(tvec, NearMiss(ratio='not minority',random_state=777, version = 2),model)\n",
        "NM3_pipeline = make_pipeline(tvec, NearMiss(ratio='not minority',random_state=777, version = 3, n_neighbors_ver3=4),model)\n",
        "\n",
        "lr_cv(ROS_pipeline)\n",
        "lr_cv(SMOTE_pipeline)\n",
        "lr_cv(RUS_pipeline)\n",
        "lr_cv(NM1_pipeline)\n",
        "lr_cv(NM2_pipeline)\n",
        "lr_cv(NM3_pipeline)"
      ],
      "execution_count": 0,
      "outputs": [
        {
          "output_type": "stream",
          "text": [
            "f1 score: 0.43808 \n",
            "f1 score: 0.47743 \n",
            "f1 score: 0.41880 \n",
            "f1 score: 0.46084 \n",
            "f1 score: 0.46232 \n"
          ],
          "name": "stdout"
        },
        {
          "output_type": "stream",
          "text": [
            "/usr/local/lib/python3.6/dist-packages/imblearn/under_sampling/_prototype_selection/_nearmiss.py:194: UserWarning: The number of the samples to be selected is larger than the number of samples available. The balancing ratio cannot be ensure and all samples will be returned.\n",
            "  warnings.warn('The number of the samples to be selected is larger'\n"
          ],
          "name": "stderr"
        },
        {
          "output_type": "stream",
          "text": [
            "f1 score: 0.43772 \n"
          ],
          "name": "stdout"
        }
      ]
    },
    {
      "cell_type": "markdown",
      "metadata": {
        "id": "4RRd4d0j1T9I",
        "colab_type": "text"
      },
      "source": [
        "### Ensemble"
      ]
    },
    {
      "cell_type": "code",
      "metadata": {
        "id": "X7bvMwCatui4",
        "colab_type": "code",
        "outputId": "cf4ad84d-144e-4218-de59-662b3bba1193",
        "colab": {
          "base_uri": "https://localhost:8080/",
          "height": 241
        }
      },
      "source": [
        "tvec = TfidfVectorizer(stop_words=None, max_features=100000, ngram_range=(1,2))\n",
        "model1 = LogisticRegression(solver='lbfgs')\n",
        "model2 = GradientBoostingClassifier()\n",
        "model3 = XGBClassifier()\n",
        "# create the ensemble model\n",
        "eclf1 = VotingClassifier(estimators=[('LogReg', model1), ('adaboost', model2), ('xgboost', model3)], voting='soft')\n",
        "\n",
        "ROS_pipeline = make_pipeline(tvec, RandomOverSampler(random_state=777),eclf1)\n",
        "lr_cv(ROS_pipeline,True)\n",
        "\n",
        "SMOTE_pipeline = make_pipeline(tvec, SMOTE(random_state=777),eclf1)\n",
        "lr_cv(SMOTE_pipeline,True)\n"
      ],
      "execution_count": 0,
      "outputs": [
        {
          "output_type": "stream",
          "text": [
            "f1 score: 0.52582 \n",
            "[[116  38  61]\n",
            " [ 74 357  51]\n",
            " [ 24  28  27]]\n"
          ],
          "name": "stdout"
        },
        {
          "output_type": "stream",
          "text": [
            "f1 score: 0.52303 \n",
            "[[117  34  64]\n",
            " [ 75 332  75]\n",
            " [ 24  22  33]]\n"
          ],
          "name": "stdout"
        }
      ]
    },
    {
      "cell_type": "code",
      "metadata": {
        "id": "e-kddPkcJpbc",
        "colab_type": "code",
        "outputId": "65832ac5-07f3-476f-82c7-8c64cf2738bb",
        "colab": {
          "base_uri": "https://localhost:8080/",
          "height": 241
        }
      },
      "source": [
        "tvec = TfidfVectorizer(stop_words=None, max_features=100000, ngram_range=(1,2))\n",
        "model1 = LogisticRegression(solver='lbfgs')\n",
        "model2 = GradientBoostingClassifier()\n",
        "model3 = XGBClassifier()\n",
        "# create the ensemble model\n",
        "eclf1 = VotingClassifier(estimators=[('LogReg', model1), ('adaboost', model2), ('xgboost', model3)], voting='hard')\n",
        "\n",
        "ROS_pipeline = make_pipeline(tvec, RandomOverSampler(random_state=777),eclf1)\n",
        "lr_cv(ROS_pipeline,True)\n",
        "\n",
        "SMOTE_pipeline = make_pipeline(tvec, SMOTE(random_state=777),eclf1)\n",
        "lr_cv(SMOTE_pipeline,True)\n"
      ],
      "execution_count": 0,
      "outputs": [
        {
          "output_type": "stream",
          "text": [
            "f1 score: 0.50315 \n",
            "[[108  37  70]\n",
            " [ 69 336  77]\n",
            " [ 24  26  29]]\n"
          ],
          "name": "stdout"
        },
        {
          "output_type": "stream",
          "text": [
            "f1 score: 0.50092 \n",
            "[[116  25  74]\n",
            " [ 79 295 108]\n",
            " [ 23  19  37]]\n"
          ],
          "name": "stdout"
        }
      ]
    },
    {
      "cell_type": "code",
      "metadata": {
        "id": "8UdV1nb3Jpj_",
        "colab_type": "code",
        "outputId": "f5de28ca-32db-4f25-f635-ec6ed34dd496",
        "colab": {
          "base_uri": "https://localhost:8080/",
          "height": 241
        }
      },
      "source": [
        "tvec = TfidfVectorizer(stop_words=None, max_features=100000, ngram_range=(1,2))\n",
        "model1 = LogisticRegression(solver='lbfgs')\n",
        "model2 = AdaBoostClassifier()\n",
        "model3 = XGBClassifier()\n",
        "# create the ensemble model\n",
        "eclf1 = VotingClassifier(estimators=[('LogReg', model1), ('adaboost', model2), ('xgboost', model3)], voting='soft')\n",
        "\n",
        "ROS_pipeline = make_pipeline(tvec, RandomOverSampler(random_state=777),eclf1)\n",
        "lr_cv(ROS_pipeline,True)\n",
        "\n",
        "SMOTE_pipeline = make_pipeline(tvec, SMOTE(random_state=777),eclf1)\n",
        "lr_cv(SMOTE_pipeline,True)\n"
      ],
      "execution_count": 0,
      "outputs": [
        {
          "output_type": "stream",
          "text": [
            "f1 score: 0.53913 \n",
            "[[124  42  49]\n",
            " [ 75 365  42]\n",
            " [ 23  31  25]]\n"
          ],
          "name": "stdout"
        },
        {
          "output_type": "stream",
          "text": [
            "f1 score: 0.53327 \n",
            "[[120  37  58]\n",
            " [ 73 348  61]\n",
            " [ 22  27  30]]\n"
          ],
          "name": "stdout"
        }
      ]
    },
    {
      "cell_type": "code",
      "metadata": {
        "id": "8JYukUyoJpts",
        "colab_type": "code",
        "outputId": "d7b6fab1-9306-46e4-b935-7564aeebaac0",
        "colab": {
          "base_uri": "https://localhost:8080/",
          "height": 241
        }
      },
      "source": [
        "tvec = TfidfVectorizer(stop_words=None, max_features=100000, ngram_range=(1,2))\n",
        "model1 = LogisticRegression(solver='lbfgs')\n",
        "model2 = AdaBoostClassifier()\n",
        "model3 = XGBClassifier()\n",
        "# create the ensemble model\n",
        "eclf1 = VotingClassifier(estimators=[('LogReg', model1), ('adaboost', model2), ('xgboost', model3)], voting='hard')\n",
        "\n",
        "ROS_pipeline = make_pipeline(tvec, RandomOverSampler(random_state=777),eclf1)\n",
        "lr_cv(ROS_pipeline,True)\n",
        "\n",
        "SMOTE_pipeline = make_pipeline(tvec, SMOTE(random_state=777),eclf1)\n",
        "lr_cv(SMOTE_pipeline,True)\n"
      ],
      "execution_count": 0,
      "outputs": [
        {
          "output_type": "stream",
          "text": [
            "f1 score: 0.51975 \n",
            "[[119  40  56]\n",
            " [ 85 341  56]\n",
            " [ 24  27  28]]\n"
          ],
          "name": "stdout"
        },
        {
          "output_type": "stream",
          "text": [
            "f1 score: 0.51188 \n",
            "[[118  28  69]\n",
            " [ 82 324  76]\n",
            " [ 25  23  31]]\n"
          ],
          "name": "stdout"
        }
      ]
    }
  ]
}