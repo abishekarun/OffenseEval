{
  "nbformat": 4,
  "nbformat_minor": 0,
  "metadata": {
    "colab": {
      "name": "grp_baselines.ipynb",
      "version": "0.3.2",
      "provenance": [],
      "collapsed_sections": []
    },
    "kernelspec": {
      "name": "python3",
      "display_name": "Python 3"
    },
    "accelerator": "GPU"
  },
  "cells": [
    {
      "cell_type": "code",
      "metadata": {
        "id": "kRl5EJsqhnkW",
        "colab_type": "code",
        "colab": {}
      },
      "source": [
        "import pandas as pd\n",
        "X_train = pd.read_csv('grp_train_data.tsv',sep='\\t') \n",
        "X_test = pd.read_csv('grp_dev_data.tsv',sep='\\t') "
      ],
      "execution_count": 0,
      "outputs": []
    },
    {
      "cell_type": "markdown",
      "metadata": {
        "id": "grMRu7f7CS_7",
        "colab_type": "text"
      },
      "source": [
        "## Subtask C"
      ]
    },
    {
      "cell_type": "code",
      "metadata": {
        "id": "YgYhPev2iz8Y",
        "colab_type": "code",
        "colab": {}
      },
      "source": [
        "import pandas as pd\n",
        "import numpy as np\n",
        "import re\n",
        "\n",
        "import nltk\n",
        "from nltk.corpus import stopwords\n",
        "\n",
        "from scipy.stats import itemfreq\n",
        "from sklearn.model_selection import train_test_split\n",
        "from sklearn.naive_bayes import MultinomialNB\n",
        "from sklearn.pipeline import Pipeline\n",
        "from sklearn.preprocessing import LabelEncoder\n",
        "from sklearn.feature_extraction.text import CountVectorizer,TfidfTransformer,HashingVectorizer\n",
        "from sklearn.metrics import confusion_matrix\n",
        "\n",
        "from nltk.stem import WordNetLemmatizer\n",
        "wordnet_lemmatizer = WordNetLemmatizer()\n",
        "from nltk.stem.porter import PorterStemmer\n",
        "porter_stemmer = PorterStemmer()  \n",
        "  \n",
        "pd.options.mode.chained_assignment = None\n",
        "from sklearn.metrics import f1_score\n",
        "from sklearn.model_selection import train_test_split"
      ],
      "execution_count": 0,
      "outputs": []
    },
    {
      "cell_type": "code",
      "metadata": {
        "id": "ai4C-R-NNOZp",
        "colab_type": "code",
        "colab": {}
      },
      "source": [
        "y_train=X_train.subtask_c\n",
        "y_test=X_test.subtask_c\n",
        "X_train = X_train.drop(['subtask_c'],axis=1)\n",
        "X_test = X_test.drop(['subtask_c'],axis=1)\n",
        "\n",
        "# Label encode the target variable of train & dev data\n",
        "le1=LabelEncoder()\n",
        "y_train=le1.fit_transform(y_train)\n",
        "y_test=le1.transform(y_test)"
      ],
      "execution_count": 0,
      "outputs": []
    },
    {
      "cell_type": "code",
      "metadata": {
        "id": "kU5Jk_5imAjo",
        "colab_type": "code",
        "outputId": "481f7ce6-126e-45a9-e4cb-cd89ed0ae887",
        "colab": {
          "base_uri": "https://localhost:8080/",
          "height": 34
        }
      },
      "source": [
        "X_test.shape"
      ],
      "execution_count": 0,
      "outputs": [
        {
          "output_type": "execute_result",
          "data": {
            "text/plain": [
              "(776, 1)"
            ]
          },
          "metadata": {
            "tags": []
          },
          "execution_count": 6
        }
      ]
    },
    {
      "cell_type": "code",
      "metadata": {
        "id": "qjrXAyqUQ0yN",
        "colab_type": "code",
        "outputId": "74867c30-015f-4043-e50e-704d114da48f",
        "colab": {
          "base_uri": "https://localhost:8080/",
          "height": 88
        }
      },
      "source": [
        "y_pred=np.ones(len(y_test))\n",
        "macro_f1= f1_score(y_pred,y_test, average='macro')\n",
        "print(macro_f1)"
      ],
      "execution_count": 0,
      "outputs": [
        {
          "output_type": "stream",
          "text": [
            "0.25543190249072606\n"
          ],
          "name": "stdout"
        },
        {
          "output_type": "stream",
          "text": [
            "/usr/local/lib/python3.6/dist-packages/sklearn/metrics/classification.py:1145: UndefinedMetricWarning: F-score is ill-defined and being set to 0.0 in labels with no true samples.\n",
            "  'recall', 'true', average, warn_for)\n"
          ],
          "name": "stderr"
        }
      ]
    },
    {
      "cell_type": "code",
      "metadata": {
        "id": "7qDMci6NpnUK",
        "colab_type": "code",
        "colab": {}
      },
      "source": [
        "def subtask_c_metrics(model):\n",
        "    y_pred = model.predict(X_test.tweet)\n",
        "    macro_f1= f1_score(y_test, y_pred, average='macro')\n",
        "    print(macro_f1)"
      ],
      "execution_count": 0,
      "outputs": []
    },
    {
      "cell_type": "code",
      "metadata": {
        "id": "zNHjoDjINQjD",
        "colab_type": "code",
        "outputId": "bc31997d-3746-4c01-9733-987cb2a67705",
        "colab": {
          "base_uri": "https://localhost:8080/",
          "height": 34
        }
      },
      "source": [
        "# Machine Learning\n",
        "# Training Naive Bayes (NB) classifier + BOW model\n",
        "\n",
        "nb_clf = Pipeline([('vect', CountVectorizer(ngram_range=(1,2))),  ('clf', MultinomialNB())])\n",
        "nb_clf = nb_clf.fit(X_train.tweet,y_train)\n",
        "subtask_c_metrics(nb_clf)"
      ],
      "execution_count": 0,
      "outputs": [
        {
          "output_type": "stream",
          "text": [
            "0.4596072954594576\n"
          ],
          "name": "stdout"
        }
      ]
    },
    {
      "cell_type": "code",
      "metadata": {
        "id": "2oWYXd7LNQq6",
        "colab_type": "code",
        "outputId": "00ba3a0c-1a99-45de-d2d5-91214f35adac",
        "colab": {
          "base_uri": "https://localhost:8080/",
          "height": 34
        }
      },
      "source": [
        "# Training Linear SVM classifier + BOW model\n",
        "\n",
        "from sklearn.svm import LinearSVC\n",
        "\n",
        "svc_clf = Pipeline([('vect', CountVectorizer(ngram_range=(1,2))),  ('clf', LinearSVC())])\n",
        "svc_clf = svc_clf.fit(X_train.tweet,y_train)\n",
        "subtask_c_metrics(svc_clf)"
      ],
      "execution_count": 0,
      "outputs": [
        {
          "output_type": "stream",
          "text": [
            "0.49457820451885737\n"
          ],
          "name": "stdout"
        }
      ]
    },
    {
      "cell_type": "code",
      "metadata": {
        "id": "BjT1NoYzNQou",
        "colab_type": "code",
        "outputId": "016ded9e-4ad6-4e3e-f76d-a0afbbf261c4",
        "colab": {
          "base_uri": "https://localhost:8080/",
          "height": 34
        }
      },
      "source": [
        "# Training Logisitic Regression(LogReg) classifier + BOW model \n",
        "\n",
        "from sklearn.linear_model import LogisticRegression \n",
        "\n",
        "lg_clf = Pipeline([('vect', CountVectorizer(ngram_range=(1,3))),  ('clf', LogisticRegression(C=1e5, solver='lbfgs', multi_class='multinomial'))])\n",
        "lg_clf = lg_clf.fit(X_train.tweet,y_train)\n",
        "subtask_c_metrics(lg_clf)"
      ],
      "execution_count": 0,
      "outputs": [
        {
          "output_type": "stream",
          "text": [
            "0.4957881704654459\n"
          ],
          "name": "stdout"
        }
      ]
    },
    {
      "cell_type": "code",
      "metadata": {
        "id": "jb60EXnTNQgS",
        "colab_type": "code",
        "outputId": "7ceea4f3-e035-490b-9ac2-79721c88a705",
        "colab": {
          "base_uri": "https://localhost:8080/",
          "height": 34
        }
      },
      "source": [
        "# Training SVM + BOW + TF-IDF model\n",
        "\n",
        "svm_clf = Pipeline([('vect', CountVectorizer(ngram_range=(1,4))), ('tfidf', TfidfTransformer()), ('clf', LinearSVC())])\n",
        "svm_clf = svm_clf.fit(X_train.tweet,y_train)\n",
        "subtask_c_metrics(svm_clf)"
      ],
      "execution_count": 0,
      "outputs": [
        {
          "output_type": "stream",
          "text": [
            "0.49447311866100274\n"
          ],
          "name": "stdout"
        }
      ]
    },
    {
      "cell_type": "code",
      "metadata": {
        "id": "N5A43rJqNQea",
        "colab_type": "code",
        "outputId": "5ac07830-5540-43ce-89b7-c74029f4d95e",
        "colab": {
          "base_uri": "https://localhost:8080/",
          "height": 88
        }
      },
      "source": [
        "# Training NB + BOW + TF-IDF model\n",
        "\n",
        "nb_clf = Pipeline([('vect', CountVectorizer(ngram_range=(1,4))), ('tfidf', TfidfTransformer()), ('clf', MultinomialNB())])\n",
        "nb_clf = nb_clf.fit(X_train.tweet,y_train)\n",
        "subtask_c_metrics(nb_clf)"
      ],
      "execution_count": 0,
      "outputs": [
        {
          "output_type": "stream",
          "text": [
            "0.43603190577360323\n"
          ],
          "name": "stdout"
        },
        {
          "output_type": "stream",
          "text": [
            "/usr/local/lib/python3.6/dist-packages/sklearn/metrics/classification.py:1143: UndefinedMetricWarning: F-score is ill-defined and being set to 0.0 in labels with no predicted samples.\n",
            "  'precision', 'predicted', average, warn_for)\n"
          ],
          "name": "stderr"
        }
      ]
    },
    {
      "cell_type": "code",
      "metadata": {
        "id": "1nXMtijRNQcl",
        "colab_type": "code",
        "outputId": "1c32e235-abb3-4ff6-d748-64f337959418",
        "colab": {
          "base_uri": "https://localhost:8080/",
          "height": 68
        }
      },
      "source": [
        "# Training LogReg + BOW + TF-IDF model\n",
        "\n",
        "lg_clf = Pipeline([('vect', CountVectorizer(ngram_range=(1,3))), ('tfidf', TfidfTransformer()), ('clf', LogisticRegression(C=1e5, solver='lbfgs', multi_class='multinomial'))])\n",
        "lg_clf = lg_clf.fit(X_train.tweet,y_train)\n",
        "subtask_c_metrics(lg_clf)"
      ],
      "execution_count": 0,
      "outputs": [
        {
          "output_type": "stream",
          "text": [
            "0.5089303730608078\n"
          ],
          "name": "stdout"
        },
        {
          "output_type": "stream",
          "text": [
            "/usr/local/lib/python3.6/dist-packages/sklearn/linear_model/logistic.py:758: ConvergenceWarning: lbfgs failed to converge. Increase the number of iterations.\n",
            "  \"of iterations.\", ConvergenceWarning)\n"
          ],
          "name": "stderr"
        }
      ]
    },
    {
      "cell_type": "code",
      "metadata": {
        "id": "-Uu-MYQ1NQWG",
        "colab_type": "code",
        "outputId": "8ace388d-49d1-413c-d38a-d79a261e9281",
        "colab": {
          "base_uri": "https://localhost:8080/",
          "height": 68
        }
      },
      "source": [
        "# Training Ensemble model\n",
        "\n",
        "from sklearn.ensemble import VotingClassifier\n",
        "model1 = LogisticRegression(C=1e5, solver='lbfgs', multi_class='multinomial')\n",
        "model2 = MultinomialNB()\n",
        "model3 = LinearSVC()\n",
        "# create the ensemble model\n",
        "eclf1 = VotingClassifier(estimators=[('lr', model1), ('nb', model2), ('svm', model3)], voting='hard')\n",
        "ensemble = Pipeline([('vect', CountVectorizer(ngram_range=(1,4))), ('tfidf', TfidfTransformer()), ('clf', eclf1)])\n",
        "ensemble = ensemble.fit(X_train.tweet, y_train)\n",
        "subtask_c_metrics(ensemble)"
      ],
      "execution_count": 0,
      "outputs": [
        {
          "output_type": "stream",
          "text": [
            "/usr/local/lib/python3.6/dist-packages/sklearn/linear_model/logistic.py:758: ConvergenceWarning: lbfgs failed to converge. Increase the number of iterations.\n",
            "  \"of iterations.\", ConvergenceWarning)\n"
          ],
          "name": "stderr"
        },
        {
          "output_type": "stream",
          "text": [
            "0.49430761801279727\n"
          ],
          "name": "stdout"
        }
      ]
    },
    {
      "cell_type": "code",
      "metadata": {
        "id": "RYEbaLHVR6Y6",
        "colab_type": "code",
        "outputId": "0bf0b7bf-a2e0-4ec3-8102-b4c5a5f9054d",
        "colab": {
          "base_uri": "https://localhost:8080/",
          "height": 34
        }
      },
      "source": [
        "# Training XGBoost + BOW + TF-IDF model\n",
        "from xgboost import XGBClassifier\n",
        "\n",
        "xg_clf = Pipeline([('vect', CountVectorizer(ngram_range=(1,4))), ('tfidf', TfidfTransformer()), ('clf', XGBClassifier())])\n",
        "xg_clf = xg_clf.fit(X_train.tweet,y_train)\n",
        "subtask_c_metrics(xg_clf)"
      ],
      "execution_count": 0,
      "outputs": [
        {
          "output_type": "stream",
          "text": [
            "0.47570993914807297\n"
          ],
          "name": "stdout"
        }
      ]
    },
    {
      "cell_type": "code",
      "metadata": {
        "id": "WVWTe4uTSS_A",
        "colab_type": "code",
        "outputId": "19db1278-746d-4e32-a42b-d0a06fbcb613",
        "colab": {
          "base_uri": "https://localhost:8080/",
          "height": 88
        }
      },
      "source": [
        "from sklearn.ensemble import RandomForestClassifier\n",
        "\n",
        "rg_clf = Pipeline([('vect', CountVectorizer(ngram_range=(1,2))), ('tfidf', TfidfTransformer()), ('clf', RandomForestClassifier())])\n",
        "rg_clf = rg_clf.fit(X_train.tweet,y_train)\n",
        "subtask_c_metrics(rg_clf)"
      ],
      "execution_count": 0,
      "outputs": [
        {
          "output_type": "stream",
          "text": [
            "0.44010633691060397\n"
          ],
          "name": "stdout"
        }
      ]
    },
    {
      "cell_type": "code",
      "metadata": {
        "id": "1ieoUdJIntQo",
        "colab_type": "code",
        "outputId": "ebb4bbd9-8cce-4f8a-9dda-30ed22178dd6",
        "colab": {
          "base_uri": "https://localhost:8080/",
          "height": 34
        }
      },
      "source": [
        "from sklearn.ensemble import AdaBoostClassifier\n",
        "\n",
        "rg_clf = Pipeline([('vect', CountVectorizer(ngram_range=(1,2))), ('tfidf', TfidfTransformer()), ('clf', AdaBoostClassifier())])\n",
        "rg_clf = rg_clf.fit(X_train.tweet,y_train)\n",
        "subtask_c_metrics(rg_clf)"
      ],
      "execution_count": 0,
      "outputs": [
        {
          "output_type": "stream",
          "text": [
            "0.4680981696498438\n"
          ],
          "name": "stdout"
        }
      ]
    },
    {
      "cell_type": "code",
      "metadata": {
        "id": "e7nuDT3Qn1Ni",
        "colab_type": "code",
        "outputId": "d728a7e1-9c05-4fbe-bd72-5efcf3d32e7a",
        "colab": {
          "base_uri": "https://localhost:8080/",
          "height": 34
        }
      },
      "source": [
        "from sklearn.ensemble import GradientBoostingClassifier\n",
        "\n",
        "rg_clf = Pipeline([('vect', CountVectorizer(ngram_range=(1,2))), ('tfidf', TfidfTransformer()), ('clf', GradientBoostingClassifier())])\n",
        "rg_clf = rg_clf.fit(X_train.tweet,y_train)\n",
        "subtask_c_metrics(rg_clf)"
      ],
      "execution_count": 0,
      "outputs": [
        {
          "output_type": "stream",
          "text": [
            "0.5089956375670662\n"
          ],
          "name": "stdout"
        }
      ]
    },
    {
      "cell_type": "markdown",
      "metadata": {
        "id": "YeV7DQR_mjRC",
        "colab_type": "text"
      },
      "source": [
        "### Sampling Techniques"
      ]
    },
    {
      "cell_type": "code",
      "metadata": {
        "id": "TuoKWs9fqU1g",
        "colab_type": "code",
        "colab": {}
      },
      "source": [
        "from sklearn.model_selection import StratifiedKFold\n",
        "def lr_cv(pipeline,print_conf = False):\n",
        "    \n",
        "    #X_train,X_test,y_train,y_test = train_test_split(X,Y, test_size=0.2, random_state=0, stratify=Y)\n",
        "    lr_fit = pipeline.fit(X_train.tweet, y_train)\n",
        "    prediction = lr_fit.predict(X_test.tweet)\n",
        "    f1=f1_score(y_test, prediction, average='macro')\n",
        "    print(\"f1 score: {:.5f} \".format(f1))\n",
        "    if(print_conf):\n",
        "      print(confusion_matrix(y_test,prediction))"
      ],
      "execution_count": 0,
      "outputs": []
    },
    {
      "cell_type": "code",
      "metadata": {
        "id": "_O8X3xXrmPiW",
        "colab_type": "code",
        "colab": {}
      },
      "source": [
        "from sklearn.feature_extraction.text import TfidfVectorizer\n",
        "from imblearn.under_sampling import NearMiss, RandomUnderSampler\n",
        "from imblearn.pipeline import make_pipeline\n",
        "from imblearn.over_sampling import ADASYN, SMOTE, RandomOverSampler"
      ],
      "execution_count": 0,
      "outputs": []
    },
    {
      "cell_type": "markdown",
      "metadata": {
        "id": "Tz4s-l3Ao6to",
        "colab_type": "text"
      },
      "source": [
        "### Logistic Regression"
      ]
    },
    {
      "cell_type": "code",
      "metadata": {
        "id": "9Vz-RHhpyQ52",
        "colab_type": "code",
        "outputId": "c0813f18-76a8-47da-c2b2-2c5f55b1824a",
        "colab": {
          "base_uri": "https://localhost:8080/",
          "height": 343
        }
      },
      "source": [
        "tvec = TfidfVectorizer(stop_words=None, max_features=100000, ngram_range=(1, 2))\n",
        "model = LogisticRegression(solver='lbfgs')\n",
        "ROS_pipeline = make_pipeline(tvec, RandomOverSampler(random_state=777),model)\n",
        "SMOTE_pipeline = make_pipeline(tvec, SMOTE(random_state=777),model)\n",
        "RUS_pipeline = make_pipeline(tvec, RandomUnderSampler(random_state=777),model)\n",
        "NM1_pipeline = make_pipeline(tvec, NearMiss(ratio='not minority',random_state=777, version = 1),model)\n",
        "NM2_pipeline = make_pipeline(tvec, NearMiss(ratio='not minority',random_state=777, version = 2),model)\n",
        "NM3_pipeline = make_pipeline(tvec, NearMiss(ratio='not minority',random_state=777, version = 3, n_neighbors_ver3=4),model)\n",
        "\n",
        "lr_cv(ROS_pipeline)\n",
        "lr_cv(SMOTE_pipeline)\n",
        "lr_cv(RUS_pipeline)\n",
        "lr_cv(NM1_pipeline)\n",
        "lr_cv(NM2_pipeline)\n",
        "lr_cv(NM3_pipeline)"
      ],
      "execution_count": 0,
      "outputs": [
        {
          "output_type": "stream",
          "text": [
            "f1 score: 0.54492 \n"
          ],
          "name": "stdout"
        },
        {
          "output_type": "stream",
          "text": [
            "f1 score: 0.55583 \n"
          ],
          "name": "stdout"
        },
        {
          "output_type": "stream",
          "text": [
            "f1 score: 0.48659 \n"
          ],
          "name": "stdout"
        },
        {
          "output_type": "stream",
          "text": [
            "f1 score: 0.43587 \n"
          ],
          "name": "stdout"
        },
        {
          "output_type": "stream",
          "text": [
            "f1 score: 0.46275 \n"
          ],
          "name": "stdout"
        },
        {
          "output_type": "stream",
          "text": [
            "f1 score: 0.47978 \n"
          ],
          "name": "stdout"
        }
      ]
    },
    {
      "cell_type": "code",
      "metadata": {
        "id": "1q3vGKfN1nGq",
        "colab_type": "code",
        "outputId": "0742e0e7-e92a-4b1a-ed1b-7c5ea7f51e70",
        "colab": {
          "base_uri": "https://localhost:8080/",
          "height": 343
        }
      },
      "source": [
        "tvec = TfidfVectorizer(stop_words=None, max_features=100000, ngram_range=(1, 3))\n",
        "model = LogisticRegression(solver='lbfgs')\n",
        "ROS_pipeline = make_pipeline(tvec, RandomOverSampler(random_state=777),model)\n",
        "SMOTE_pipeline = make_pipeline(tvec, SMOTE(random_state=777),model)\n",
        "RUS_pipeline = make_pipeline(tvec, RandomUnderSampler(random_state=777),model)\n",
        "NM1_pipeline = make_pipeline(tvec, NearMiss(ratio='not minority',random_state=777, version = 1),model)\n",
        "NM2_pipeline = make_pipeline(tvec, NearMiss(ratio='not minority',random_state=777, version = 2),model)\n",
        "NM3_pipeline = make_pipeline(tvec, NearMiss(ratio='not minority',random_state=777, version = 3, n_neighbors_ver3=4),model)\n",
        "\n",
        "lr_cv(ROS_pipeline)\n",
        "lr_cv(SMOTE_pipeline)\n",
        "lr_cv(RUS_pipeline)\n",
        "lr_cv(NM1_pipeline)\n",
        "lr_cv(NM2_pipeline)\n",
        "lr_cv(NM3_pipeline)"
      ],
      "execution_count": 0,
      "outputs": [
        {
          "output_type": "stream",
          "text": [
            "f1 score: 0.54377 \n"
          ],
          "name": "stdout"
        },
        {
          "output_type": "stream",
          "text": [
            "f1 score: 0.54173 \n"
          ],
          "name": "stdout"
        },
        {
          "output_type": "stream",
          "text": [
            "f1 score: 0.47678 \n"
          ],
          "name": "stdout"
        },
        {
          "output_type": "stream",
          "text": [
            "f1 score: 0.39886 \n"
          ],
          "name": "stdout"
        },
        {
          "output_type": "stream",
          "text": [
            "f1 score: 0.48516 \n"
          ],
          "name": "stdout"
        },
        {
          "output_type": "stream",
          "text": [
            "f1 score: 0.42069 \n"
          ],
          "name": "stdout"
        }
      ]
    },
    {
      "cell_type": "code",
      "metadata": {
        "id": "iJSsoRcZ1nux",
        "colab_type": "code",
        "outputId": "ae825b49-e756-408f-d89b-665368b9841d",
        "colab": {
          "base_uri": "https://localhost:8080/",
          "height": 343
        }
      },
      "source": [
        "tvec = TfidfVectorizer(stop_words=None, max_features=100000, ngram_range=(1, 4))\n",
        "model = LogisticRegression(solver='lbfgs')\n",
        "ROS_pipeline = make_pipeline(tvec, RandomOverSampler(random_state=777),model)\n",
        "SMOTE_pipeline = make_pipeline(tvec, SMOTE(random_state=777),model)\n",
        "RUS_pipeline = make_pipeline(tvec, RandomUnderSampler(random_state=777),model)\n",
        "NM1_pipeline = make_pipeline(tvec, NearMiss(ratio='not minority',random_state=777, version = 1),model)\n",
        "NM2_pipeline = make_pipeline(tvec, NearMiss(ratio='not minority',random_state=777, version = 2),model)\n",
        "NM3_pipeline = make_pipeline(tvec, NearMiss(ratio='not minority',random_state=777, version = 3, n_neighbors_ver3=4),model)\n",
        "\n",
        "lr_cv(ROS_pipeline)\n",
        "lr_cv(SMOTE_pipeline)\n",
        "lr_cv(RUS_pipeline)\n",
        "lr_cv(NM1_pipeline)\n",
        "lr_cv(NM2_pipeline)\n",
        "lr_cv(NM3_pipeline)"
      ],
      "execution_count": 0,
      "outputs": [
        {
          "output_type": "stream",
          "text": [
            "f1 score: 0.50954 \n"
          ],
          "name": "stdout"
        },
        {
          "output_type": "stream",
          "text": [
            "f1 score: 0.51354 \n"
          ],
          "name": "stdout"
        },
        {
          "output_type": "stream",
          "text": [
            "f1 score: 0.43896 \n"
          ],
          "name": "stdout"
        },
        {
          "output_type": "stream",
          "text": [
            "f1 score: 0.36574 \n"
          ],
          "name": "stdout"
        },
        {
          "output_type": "stream",
          "text": [
            "f1 score: 0.43413 \n"
          ],
          "name": "stdout"
        },
        {
          "output_type": "stream",
          "text": [
            "f1 score: 0.41786 \n"
          ],
          "name": "stdout"
        }
      ]
    },
    {
      "cell_type": "markdown",
      "metadata": {
        "id": "OBcU1q4muxXq",
        "colab_type": "text"
      },
      "source": [
        "### SVM"
      ]
    },
    {
      "cell_type": "code",
      "metadata": {
        "id": "k0wDK9vyy3QL",
        "colab_type": "code",
        "outputId": "8e32d3ff-f4ad-4860-9268-ce39eea7c265",
        "colab": {
          "base_uri": "https://localhost:8080/",
          "height": 119
        }
      },
      "source": [
        "tvec = TfidfVectorizer(stop_words=None, max_features=100000, ngram_range=(1, 2))\n",
        "model = LinearSVC()\n",
        "ROS_pipeline = make_pipeline(tvec, RandomOverSampler(random_state=777),model)\n",
        "SMOTE_pipeline = make_pipeline(tvec, SMOTE(random_state=777),model)\n",
        "RUS_pipeline = make_pipeline(tvec, RandomUnderSampler(random_state=777),model)\n",
        "NM1_pipeline = make_pipeline(tvec, NearMiss(ratio='not minority',random_state=777, version = 1),model)\n",
        "NM2_pipeline = make_pipeline(tvec, NearMiss(ratio='not minority',random_state=777, version = 2),model)\n",
        "NM3_pipeline = make_pipeline(tvec, NearMiss(ratio='not minority',random_state=777, version = 3, n_neighbors_ver3=4),model)\n",
        "\n",
        "lr_cv(ROS_pipeline)\n",
        "lr_cv(SMOTE_pipeline)\n",
        "lr_cv(RUS_pipeline)\n",
        "lr_cv(NM1_pipeline)\n",
        "lr_cv(NM2_pipeline)\n",
        "lr_cv(NM3_pipeline)"
      ],
      "execution_count": 0,
      "outputs": [
        {
          "output_type": "stream",
          "text": [
            "f1 score: 0.52071 \n",
            "f1 score: 0.51508 \n",
            "f1 score: 0.47344 \n",
            "f1 score: 0.41580 \n",
            "f1 score: 0.46023 \n",
            "f1 score: 0.45689 \n"
          ],
          "name": "stdout"
        }
      ]
    },
    {
      "cell_type": "code",
      "metadata": {
        "id": "yu7KpMPU1xdH",
        "colab_type": "code",
        "outputId": "1cc8255d-2fb1-489a-e1f6-e74ffc417eed",
        "colab": {
          "base_uri": "https://localhost:8080/",
          "height": 119
        }
      },
      "source": [
        "tvec = TfidfVectorizer(stop_words=None, max_features=100000, ngram_range=(1, 3))\n",
        "model = LinearSVC()\n",
        "ROS_pipeline = make_pipeline(tvec, RandomOverSampler(random_state=777),model)\n",
        "SMOTE_pipeline = make_pipeline(tvec, SMOTE(random_state=777),model)\n",
        "RUS_pipeline = make_pipeline(tvec, RandomUnderSampler(random_state=777),model)\n",
        "NM1_pipeline = make_pipeline(tvec, NearMiss(ratio='not minority',random_state=777, version = 1),model)\n",
        "NM2_pipeline = make_pipeline(tvec, NearMiss(ratio='not minority',random_state=777, version = 2),model)\n",
        "NM3_pipeline = make_pipeline(tvec, NearMiss(ratio='not minority',random_state=777, version = 3, n_neighbors_ver3=4),model)\n",
        "\n",
        "lr_cv(ROS_pipeline)\n",
        "lr_cv(SMOTE_pipeline)\n",
        "lr_cv(RUS_pipeline)\n",
        "lr_cv(NM1_pipeline)\n",
        "lr_cv(NM2_pipeline)\n",
        "lr_cv(NM3_pipeline)"
      ],
      "execution_count": 0,
      "outputs": [
        {
          "output_type": "stream",
          "text": [
            "f1 score: 0.52774 \n",
            "f1 score: 0.52891 \n",
            "f1 score: 0.47275 \n",
            "f1 score: 0.38929 \n",
            "f1 score: 0.48998 \n",
            "f1 score: 0.42903 \n"
          ],
          "name": "stdout"
        }
      ]
    },
    {
      "cell_type": "code",
      "metadata": {
        "id": "FxESzBi51xmm",
        "colab_type": "code",
        "outputId": "01dfb7a6-bec5-4a74-8036-ae6a3ca6686b",
        "colab": {
          "base_uri": "https://localhost:8080/",
          "height": 119
        }
      },
      "source": [
        "tvec = TfidfVectorizer(stop_words=None, max_features=100000, ngram_range=(1, 4))\n",
        "model = LinearSVC()\n",
        "ROS_pipeline = make_pipeline(tvec, RandomOverSampler(random_state=777),model)\n",
        "SMOTE_pipeline = make_pipeline(tvec, SMOTE(random_state=777),model)\n",
        "RUS_pipeline = make_pipeline(tvec, RandomUnderSampler(random_state=777),model)\n",
        "NM1_pipeline = make_pipeline(tvec, NearMiss(ratio='not minority',random_state=777, version = 1),model)\n",
        "NM2_pipeline = make_pipeline(tvec, NearMiss(ratio='not minority',random_state=777, version = 2),model)\n",
        "NM3_pipeline = make_pipeline(tvec, NearMiss(ratio='not minority',random_state=777, version = 3, n_neighbors_ver3=4),model)\n",
        "\n",
        "lr_cv(ROS_pipeline)\n",
        "lr_cv(SMOTE_pipeline)\n",
        "lr_cv(RUS_pipeline)\n",
        "lr_cv(NM1_pipeline)\n",
        "lr_cv(NM2_pipeline)\n",
        "lr_cv(NM3_pipeline)"
      ],
      "execution_count": 0,
      "outputs": [
        {
          "output_type": "stream",
          "text": [
            "f1 score: 0.49524 \n",
            "f1 score: 0.49977 \n",
            "f1 score: 0.43896 \n",
            "f1 score: 0.35665 \n",
            "f1 score: 0.43162 \n",
            "f1 score: 0.41912 \n"
          ],
          "name": "stdout"
        }
      ]
    },
    {
      "cell_type": "markdown",
      "metadata": {
        "id": "TinyvV5SyImc",
        "colab_type": "text"
      },
      "source": [
        "### Bagging Classifier"
      ]
    },
    {
      "cell_type": "code",
      "metadata": {
        "id": "hHIwnsDSvGoT",
        "colab_type": "code",
        "outputId": "011c3914-b6f8-47b3-b297-53af8daa9637",
        "colab": {
          "base_uri": "https://localhost:8080/",
          "height": 119
        }
      },
      "source": [
        "tvec = TfidfVectorizer(stop_words=None, max_features=100000, ngram_range=(1, 2))\n",
        "from sklearn.ensemble import BaggingClassifier\n",
        "model = BaggingClassifier()\n",
        "ROS_pipeline = make_pipeline(tvec, RandomOverSampler(random_state=777),model)\n",
        "SMOTE_pipeline = make_pipeline(tvec, SMOTE(random_state=777),model)\n",
        "RUS_pipeline = make_pipeline(tvec, RandomUnderSampler(random_state=777),model)\n",
        "NM1_pipeline = make_pipeline(tvec, NearMiss(ratio='not minority',random_state=777, version = 1),model)\n",
        "NM2_pipeline = make_pipeline(tvec, NearMiss(ratio='not minority',random_state=777, version = 2),model)\n",
        "NM3_pipeline = make_pipeline(tvec, NearMiss(ratio='not minority',random_state=777, version = 3, n_neighbors_ver3=4),model)\n",
        "\n",
        "lr_cv(ROS_pipeline)\n",
        "lr_cv(SMOTE_pipeline)\n",
        "lr_cv(RUS_pipeline)\n",
        "lr_cv(NM1_pipeline)\n",
        "lr_cv(NM2_pipeline)\n",
        "lr_cv(NM3_pipeline)"
      ],
      "execution_count": 0,
      "outputs": [
        {
          "output_type": "stream",
          "text": [
            "f1 score: 0.46770 \n",
            "f1 score: 0.46746 \n",
            "f1 score: 0.44918 \n",
            "f1 score: 0.45982 \n",
            "f1 score: 0.42081 \n",
            "f1 score: 0.45390 \n"
          ],
          "name": "stdout"
        }
      ]
    },
    {
      "cell_type": "code",
      "metadata": {
        "id": "9icFfTeOznE8",
        "colab_type": "code",
        "outputId": "97e7b8f6-1759-4d42-c763-b4e6d0c6ad7c",
        "colab": {
          "base_uri": "https://localhost:8080/",
          "height": 119
        }
      },
      "source": [
        "tvec = TfidfVectorizer(stop_words=None, max_features=100000, ngram_range=(1, 3))\n",
        "from sklearn.ensemble import BaggingClassifier\n",
        "model = BaggingClassifier()\n",
        "ROS_pipeline = make_pipeline(tvec, RandomOverSampler(random_state=777),model)\n",
        "SMOTE_pipeline = make_pipeline(tvec, SMOTE(random_state=777),model)\n",
        "RUS_pipeline = make_pipeline(tvec, RandomUnderSampler(random_state=777),model)\n",
        "NM1_pipeline = make_pipeline(tvec, NearMiss(ratio='not minority',random_state=777, version = 1),model)\n",
        "NM2_pipeline = make_pipeline(tvec, NearMiss(ratio='not minority',random_state=777, version = 2),model)\n",
        "NM3_pipeline = make_pipeline(tvec, NearMiss(ratio='not minority',random_state=777, version = 3, n_neighbors_ver3=4),model)\n",
        "\n",
        "lr_cv(ROS_pipeline)\n",
        "lr_cv(SMOTE_pipeline)\n",
        "lr_cv(RUS_pipeline)\n",
        "lr_cv(NM1_pipeline)\n",
        "lr_cv(NM2_pipeline)\n",
        "lr_cv(NM3_pipeline)"
      ],
      "execution_count": 0,
      "outputs": [
        {
          "output_type": "stream",
          "text": [
            "f1 score: 0.46783 \n",
            "f1 score: 0.45258 \n",
            "f1 score: 0.46603 \n",
            "f1 score: 0.44666 \n",
            "f1 score: 0.31747 \n",
            "f1 score: 0.40687 \n"
          ],
          "name": "stdout"
        }
      ]
    },
    {
      "cell_type": "code",
      "metadata": {
        "id": "F0o2uo6AznP4",
        "colab_type": "code",
        "outputId": "7797b393-ff52-4551-fb50-a58e2c708949",
        "colab": {
          "base_uri": "https://localhost:8080/",
          "height": 119
        }
      },
      "source": [
        "tvec = TfidfVectorizer(stop_words=None, max_features=100000, ngram_range=(1, 4))\n",
        "from sklearn.ensemble import BaggingClassifier\n",
        "model = BaggingClassifier()\n",
        "ROS_pipeline = make_pipeline(tvec, RandomOverSampler(random_state=777),model)\n",
        "SMOTE_pipeline = make_pipeline(tvec, SMOTE(random_state=777),model)\n",
        "RUS_pipeline = make_pipeline(tvec, RandomUnderSampler(random_state=777),model)\n",
        "NM1_pipeline = make_pipeline(tvec, NearMiss(ratio='not minority',random_state=777, version = 1),model)\n",
        "NM2_pipeline = make_pipeline(tvec, NearMiss(ratio='not minority',random_state=777, version = 2),model)\n",
        "NM3_pipeline = make_pipeline(tvec, NearMiss(ratio='not minority',random_state=777, version = 3, n_neighbors_ver3=4),model)\n",
        "\n",
        "lr_cv(ROS_pipeline)\n",
        "lr_cv(SMOTE_pipeline)\n",
        "lr_cv(RUS_pipeline)\n",
        "lr_cv(NM1_pipeline)\n",
        "lr_cv(NM2_pipeline)\n",
        "lr_cv(NM3_pipeline)"
      ],
      "execution_count": 0,
      "outputs": [
        {
          "output_type": "stream",
          "text": [
            "f1 score: 0.45499 \n",
            "f1 score: 0.45395 \n",
            "f1 score: 0.42150 \n",
            "f1 score: 0.44072 \n",
            "f1 score: 0.32971 \n",
            "f1 score: 0.43277 \n"
          ],
          "name": "stdout"
        }
      ]
    },
    {
      "cell_type": "markdown",
      "metadata": {
        "id": "PdWKS5C8qvC1",
        "colab_type": "text"
      },
      "source": [
        "### XGBoost"
      ]
    },
    {
      "cell_type": "code",
      "metadata": {
        "id": "8zNio206qoNs",
        "colab_type": "code",
        "outputId": "a66175a6-5ae1-410f-f6a3-7ae68631baf5",
        "colab": {
          "base_uri": "https://localhost:8080/",
          "height": 170
        }
      },
      "source": [
        "tvec = TfidfVectorizer(stop_words=None, max_features=100000, ngram_range=(1, 2))\n",
        "model = XGBClassifier()\n",
        "ROS_pipeline = make_pipeline(tvec, RandomOverSampler(random_state=777),model)\n",
        "SMOTE_pipeline = make_pipeline(tvec, SMOTE(random_state=777),model)\n",
        "RUS_pipeline = make_pipeline(tvec, RandomUnderSampler(random_state=777),model)\n",
        "NM1_pipeline = make_pipeline(tvec, NearMiss(ratio='not minority',random_state=777, version = 1),model)\n",
        "NM2_pipeline = make_pipeline(tvec, NearMiss(ratio='not minority',random_state=777, version = 2),model)\n",
        "NM3_pipeline = make_pipeline(tvec, NearMiss(ratio='not minority',random_state=777, version = 3, n_neighbors_ver3=4),model)\n",
        "\n",
        "lr_cv(ROS_pipeline)\n",
        "lr_cv(SMOTE_pipeline,True)\n",
        "lr_cv(RUS_pipeline)\n",
        "lr_cv(NM1_pipeline)\n",
        "lr_cv(NM2_pipeline)\n",
        "lr_cv(NM3_pipeline)"
      ],
      "execution_count": 0,
      "outputs": [
        {
          "output_type": "stream",
          "text": [
            "f1 score: 0.52877 \n",
            "f1 score: 0.46107 \n",
            "[[176  35   4]\n",
            " [164 315   3]\n",
            " [ 53  23   3]]\n",
            "f1 score: 0.47935 \n",
            "f1 score: 0.48941 \n",
            "f1 score: 0.33321 \n",
            "f1 score: 0.46486 \n"
          ],
          "name": "stdout"
        }
      ]
    },
    {
      "cell_type": "code",
      "metadata": {
        "id": "b2u5bOls02KD",
        "colab_type": "code",
        "outputId": "031ef86f-7b96-4438-e1be-aff6ac758d10",
        "colab": {
          "base_uri": "https://localhost:8080/",
          "height": 119
        }
      },
      "source": [
        "tvec = TfidfVectorizer(stop_words=None, max_features=100000, ngram_range=(1, 3))\n",
        "model = XGBClassifier()\n",
        "ROS_pipeline = make_pipeline(tvec, RandomOverSampler(random_state=777),model)\n",
        "SMOTE_pipeline = make_pipeline(tvec, SMOTE(random_state=777),model)\n",
        "RUS_pipeline = make_pipeline(tvec, RandomUnderSampler(random_state=777),model)\n",
        "NM1_pipeline = make_pipeline(tvec, NearMiss(ratio='not minority',random_state=777, version = 1),model)\n",
        "NM2_pipeline = make_pipeline(tvec, NearMiss(ratio='not minority',random_state=777, version = 2),model)\n",
        "NM3_pipeline = make_pipeline(tvec, NearMiss(ratio='not minority',random_state=777, version = 3, n_neighbors_ver3=4),model)\n",
        "\n",
        "lr_cv(ROS_pipeline)\n",
        "lr_cv(SMOTE_pipeline)\n",
        "lr_cv(RUS_pipeline)\n",
        "lr_cv(NM1_pipeline)\n",
        "lr_cv(NM2_pipeline)\n",
        "lr_cv(NM3_pipeline)"
      ],
      "execution_count": 0,
      "outputs": [
        {
          "output_type": "stream",
          "text": [
            "f1 score: 0.54019 \n",
            "f1 score: 0.45629 \n",
            "f1 score: 0.47819 \n",
            "f1 score: 0.46204 \n",
            "f1 score: 0.30129 \n",
            "f1 score: 0.42724 \n"
          ],
          "name": "stdout"
        }
      ]
    },
    {
      "cell_type": "code",
      "metadata": {
        "id": "3S7_4F6K02Ro",
        "colab_type": "code",
        "outputId": "d4178b67-0798-4264-c7f5-06cef9ea41e4",
        "colab": {
          "base_uri": "https://localhost:8080/",
          "height": 119
        }
      },
      "source": [
        "tvec = TfidfVectorizer(stop_words=None, max_features=100000, ngram_range=(1, 4))\n",
        "model = XGBClassifier()\n",
        "ROS_pipeline = make_pipeline(tvec, RandomOverSampler(random_state=777),model)\n",
        "SMOTE_pipeline = make_pipeline(tvec, SMOTE(random_state=777),model)\n",
        "RUS_pipeline = make_pipeline(tvec, RandomUnderSampler(random_state=777),model)\n",
        "NM1_pipeline = make_pipeline(tvec, NearMiss(ratio='not minority',random_state=777, version = 1),model)\n",
        "NM2_pipeline = make_pipeline(tvec, NearMiss(ratio='not minority',random_state=777, version = 2),model)\n",
        "NM3_pipeline = make_pipeline(tvec, NearMiss(ratio='not minority',random_state=777, version = 3, n_neighbors_ver3=4),model)\n",
        "\n",
        "lr_cv(ROS_pipeline)\n",
        "lr_cv(SMOTE_pipeline)\n",
        "lr_cv(RUS_pipeline)\n",
        "lr_cv(NM1_pipeline)\n",
        "lr_cv(NM2_pipeline)\n",
        "lr_cv(NM3_pipeline)"
      ],
      "execution_count": 0,
      "outputs": [
        {
          "output_type": "stream",
          "text": [
            "f1 score: 0.47970 \n",
            "f1 score: 0.45687 \n",
            "f1 score: 0.43192 \n",
            "f1 score: 0.44285 \n",
            "f1 score: 0.24370 \n",
            "f1 score: 0.41442 \n"
          ],
          "name": "stdout"
        }
      ]
    },
    {
      "cell_type": "markdown",
      "metadata": {
        "id": "ifXQzzlHq0kM",
        "colab_type": "text"
      },
      "source": [
        "### GBM"
      ]
    },
    {
      "cell_type": "code",
      "metadata": {
        "id": "CR1quPnzqobY",
        "colab_type": "code",
        "outputId": "c0cd168d-7a4c-452a-97e2-c9c24608110f",
        "colab": {
          "base_uri": "https://localhost:8080/",
          "height": 119
        }
      },
      "source": [
        "tvec = TfidfVectorizer(stop_words=None, max_features=100000, ngram_range=(1, 2))\n",
        "model = GradientBoostingClassifier()\n",
        "ROS_pipeline = make_pipeline(tvec, RandomOverSampler(random_state=777),model)\n",
        "SMOTE_pipeline = make_pipeline(tvec, SMOTE(random_state=777),model)\n",
        "RUS_pipeline = make_pipeline(tvec, RandomUnderSampler(random_state=777),model)\n",
        "NM1_pipeline = make_pipeline(tvec, NearMiss(ratio='not minority',random_state=777, version = 1),model)\n",
        "NM2_pipeline = make_pipeline(tvec, NearMiss(ratio='not minority',random_state=777, version = 2),model)\n",
        "NM3_pipeline = make_pipeline(tvec, NearMiss(ratio='not minority',random_state=777, version = 3, n_neighbors_ver3=4),model)\n",
        "\n",
        "lr_cv(ROS_pipeline)\n",
        "lr_cv(SMOTE_pipeline)\n",
        "lr_cv(RUS_pipeline)\n",
        "lr_cv(NM1_pipeline)\n",
        "lr_cv(NM2_pipeline)\n",
        "lr_cv(NM3_pipeline)"
      ],
      "execution_count": 0,
      "outputs": [
        {
          "output_type": "stream",
          "text": [
            "f1 score: 0.55438 \n",
            "f1 score: 0.52733 \n",
            "f1 score: 0.47673 \n",
            "f1 score: 0.47678 \n",
            "f1 score: 0.41130 \n",
            "f1 score: 0.44598 \n"
          ],
          "name": "stdout"
        }
      ]
    },
    {
      "cell_type": "code",
      "metadata": {
        "id": "2Kizx2uL1G3T",
        "colab_type": "code",
        "outputId": "17c47858-125e-47d6-d62f-af14d695c5e7",
        "colab": {
          "base_uri": "https://localhost:8080/",
          "height": 119
        }
      },
      "source": [
        "tvec = TfidfVectorizer(stop_words=None, max_features=100000, ngram_range=(1, 3))\n",
        "model = GradientBoostingClassifier()\n",
        "ROS_pipeline = make_pipeline(tvec, RandomOverSampler(random_state=777),model)\n",
        "SMOTE_pipeline = make_pipeline(tvec, SMOTE(random_state=777),model)\n",
        "RUS_pipeline = make_pipeline(tvec, RandomUnderSampler(random_state=777),model)\n",
        "NM1_pipeline = make_pipeline(tvec, NearMiss(ratio='not minority',random_state=777, version = 1),model)\n",
        "NM2_pipeline = make_pipeline(tvec, NearMiss(ratio='not minority',random_state=777, version = 2),model)\n",
        "NM3_pipeline = make_pipeline(tvec, NearMiss(ratio='not minority',random_state=777, version = 3, n_neighbors_ver3=4),model)\n",
        "\n",
        "lr_cv(ROS_pipeline)\n",
        "lr_cv(SMOTE_pipeline)\n",
        "lr_cv(RUS_pipeline)\n",
        "lr_cv(NM1_pipeline)\n",
        "lr_cv(NM2_pipeline)\n",
        "lr_cv(NM3_pipeline)"
      ],
      "execution_count": 0,
      "outputs": [
        {
          "output_type": "stream",
          "text": [
            "f1 score: 0.55221 \n",
            "f1 score: 0.53462 \n",
            "f1 score: 0.46507 \n",
            "f1 score: 0.48101 \n",
            "f1 score: 0.34566 \n",
            "f1 score: 0.44091 \n"
          ],
          "name": "stdout"
        }
      ]
    },
    {
      "cell_type": "code",
      "metadata": {
        "id": "o9CfAt-p1G9z",
        "colab_type": "code",
        "outputId": "e77aae10-73da-4edb-8f8b-45b4f187325f",
        "colab": {
          "base_uri": "https://localhost:8080/",
          "height": 119
        }
      },
      "source": [
        "tvec = TfidfVectorizer(stop_words=None, max_features=100000, ngram_range=(1, 4))\n",
        "model = GradientBoostingClassifier()\n",
        "ROS_pipeline = make_pipeline(tvec, RandomOverSampler(random_state=777),model)\n",
        "SMOTE_pipeline = make_pipeline(tvec, SMOTE(random_state=777),model)\n",
        "RUS_pipeline = make_pipeline(tvec, RandomUnderSampler(random_state=777),model)\n",
        "NM1_pipeline = make_pipeline(tvec, NearMiss(ratio='not minority',random_state=777, version = 1),model)\n",
        "NM2_pipeline = make_pipeline(tvec, NearMiss(ratio='not minority',random_state=777, version = 2),model)\n",
        "NM3_pipeline = make_pipeline(tvec, NearMiss(ratio='not minority',random_state=777, version = 3, n_neighbors_ver3=4),model)\n",
        "\n",
        "lr_cv(ROS_pipeline)\n",
        "lr_cv(SMOTE_pipeline)\n",
        "lr_cv(RUS_pipeline)\n",
        "lr_cv(NM1_pipeline)\n",
        "lr_cv(NM2_pipeline)\n",
        "lr_cv(NM3_pipeline)"
      ],
      "execution_count": 0,
      "outputs": [
        {
          "output_type": "stream",
          "text": [
            "f1 score: 0.48491 \n",
            "f1 score: 0.49571 \n",
            "f1 score: 0.41812 \n",
            "f1 score: 0.40569 \n",
            "f1 score: 0.29484 \n",
            "f1 score: 0.40658 \n"
          ],
          "name": "stdout"
        }
      ]
    },
    {
      "cell_type": "markdown",
      "metadata": {
        "id": "Xau6aDZPq21I",
        "colab_type": "text"
      },
      "source": [
        "### AdaBoost"
      ]
    },
    {
      "cell_type": "code",
      "metadata": {
        "id": "q6GzcCa6q4be",
        "colab_type": "code",
        "outputId": "29b169b9-e6cc-4dc5-b057-190a88afcae7",
        "colab": {
          "base_uri": "https://localhost:8080/",
          "height": 119
        }
      },
      "source": [
        "tvec = TfidfVectorizer(stop_words=None, max_features=100000, ngram_range=(1, 2))\n",
        "model = AdaBoostClassifier()\n",
        "ROS_pipeline = make_pipeline(tvec, RandomOverSampler(random_state=777),model)\n",
        "SMOTE_pipeline = make_pipeline(tvec, SMOTE(random_state=777),model)\n",
        "RUS_pipeline = make_pipeline(tvec, RandomUnderSampler(random_state=777),model)\n",
        "NM1_pipeline = make_pipeline(tvec, NearMiss(ratio='not minority',random_state=777, version = 1),model)\n",
        "NM2_pipeline = make_pipeline(tvec, NearMiss(ratio='not minority',random_state=777, version = 2),model)\n",
        "NM3_pipeline = make_pipeline(tvec, NearMiss(ratio='not minority',random_state=777, version = 3, n_neighbors_ver3=4),model)\n",
        "\n",
        "lr_cv(ROS_pipeline)\n",
        "lr_cv(SMOTE_pipeline)\n",
        "lr_cv(RUS_pipeline)\n",
        "lr_cv(NM1_pipeline)\n",
        "lr_cv(NM2_pipeline)\n",
        "lr_cv(NM3_pipeline)"
      ],
      "execution_count": 0,
      "outputs": [
        {
          "output_type": "stream",
          "text": [
            "f1 score: 0.48228 \n",
            "f1 score: 0.46401 \n",
            "f1 score: 0.43174 \n",
            "f1 score: 0.40540 \n",
            "f1 score: 0.35179 \n",
            "f1 score: 0.41677 \n"
          ],
          "name": "stdout"
        }
      ]
    },
    {
      "cell_type": "code",
      "metadata": {
        "id": "TMeW43t01Vys",
        "colab_type": "code",
        "outputId": "cb1ba383-7872-42ab-e175-8bbd9b269269",
        "colab": {
          "base_uri": "https://localhost:8080/",
          "height": 119
        }
      },
      "source": [
        "tvec = TfidfVectorizer(stop_words=None, max_features=100000, ngram_range=(1, 3))\n",
        "model = AdaBoostClassifier()\n",
        "ROS_pipeline = make_pipeline(tvec, RandomOverSampler(random_state=777),model)\n",
        "SMOTE_pipeline = make_pipeline(tvec, SMOTE(random_state=777),model)\n",
        "RUS_pipeline = make_pipeline(tvec, RandomUnderSampler(random_state=777),model)\n",
        "NM1_pipeline = make_pipeline(tvec, NearMiss(ratio='not minority',random_state=777, version = 1),model)\n",
        "NM2_pipeline = make_pipeline(tvec, NearMiss(ratio='not minority',random_state=777, version = 2),model)\n",
        "NM3_pipeline = make_pipeline(tvec, NearMiss(ratio='not minority',random_state=777, version = 3, n_neighbors_ver3=4),model)\n",
        "\n",
        "lr_cv(ROS_pipeline)\n",
        "lr_cv(SMOTE_pipeline)\n",
        "lr_cv(RUS_pipeline)\n",
        "lr_cv(NM1_pipeline)\n",
        "lr_cv(NM2_pipeline)\n",
        "lr_cv(NM3_pipeline)"
      ],
      "execution_count": 0,
      "outputs": [
        {
          "output_type": "stream",
          "text": [
            "f1 score: 0.48888 \n",
            "f1 score: 0.49385 \n",
            "f1 score: 0.42684 \n",
            "f1 score: 0.44360 \n",
            "f1 score: 0.37683 \n",
            "f1 score: 0.41680 \n"
          ],
          "name": "stdout"
        }
      ]
    },
    {
      "cell_type": "code",
      "metadata": {
        "id": "OuVvm-U-1V5Q",
        "colab_type": "code",
        "outputId": "58c148a7-251b-4a71-89a1-e1a2dad2e40e",
        "colab": {
          "base_uri": "https://localhost:8080/",
          "height": 119
        }
      },
      "source": [
        "tvec = TfidfVectorizer(stop_words=None, max_features=100000, ngram_range=(1, 4))\n",
        "model = AdaBoostClassifier()\n",
        "ROS_pipeline = make_pipeline(tvec, RandomOverSampler(random_state=777),model)\n",
        "SMOTE_pipeline = make_pipeline(tvec, SMOTE(random_state=777),model)\n",
        "RUS_pipeline = make_pipeline(tvec, RandomUnderSampler(random_state=777),model)\n",
        "NM1_pipeline = make_pipeline(tvec, NearMiss(ratio='not minority',random_state=777, version = 1),model)\n",
        "NM2_pipeline = make_pipeline(tvec, NearMiss(ratio='not minority',random_state=777, version = 2),model)\n",
        "NM3_pipeline = make_pipeline(tvec, NearMiss(ratio='not minority',random_state=777, version = 3, n_neighbors_ver3=4),model)\n",
        "\n",
        "lr_cv(ROS_pipeline)\n",
        "lr_cv(SMOTE_pipeline)\n",
        "lr_cv(RUS_pipeline)\n",
        "lr_cv(NM1_pipeline)\n",
        "lr_cv(NM2_pipeline)\n",
        "lr_cv(NM3_pipeline)"
      ],
      "execution_count": 0,
      "outputs": [
        {
          "output_type": "stream",
          "text": [
            "f1 score: 0.44804 \n",
            "f1 score: 0.45963 \n",
            "f1 score: 0.39424 \n",
            "f1 score: 0.40201 \n",
            "f1 score: 0.29271 \n",
            "f1 score: 0.40453 \n"
          ],
          "name": "stdout"
        }
      ]
    },
    {
      "cell_type": "markdown",
      "metadata": {
        "id": "4RRd4d0j1T9I",
        "colab_type": "text"
      },
      "source": [
        "### Ensemble"
      ]
    },
    {
      "cell_type": "code",
      "metadata": {
        "id": "X7bvMwCatui4",
        "colab_type": "code",
        "outputId": "c51b35c3-5d52-4a93-d801-247a278375d2",
        "colab": {
          "base_uri": "https://localhost:8080/",
          "height": 241
        }
      },
      "source": [
        "tvec = TfidfVectorizer(stop_words=None, max_features=100000, ngram_range=(1,2))\n",
        "model1 = LogisticRegression(solver='lbfgs')\n",
        "model2 = GradientBoostingClassifier()\n",
        "model3 = XGBClassifier()\n",
        "# create the ensemble model\n",
        "eclf1 = VotingClassifier(estimators=[('LogReg', model1), ('adaboost', model2), ('xgboost', model3)], voting='soft')\n",
        "\n",
        "ROS_pipeline = make_pipeline(tvec, RandomOverSampler(random_state=777),eclf1)\n",
        "lr_cv(ROS_pipeline,True)\n",
        "\n",
        "SMOTE_pipeline = make_pipeline(tvec, SMOTE(random_state=777),eclf1)\n",
        "lr_cv(SMOTE_pipeline,True)\n"
      ],
      "execution_count": 0,
      "outputs": [
        {
          "output_type": "stream",
          "text": [
            "f1 score: 0.55503 \n",
            "[[141  41  33]\n",
            " [ 91 373  18]\n",
            " [ 28  31  20]]\n"
          ],
          "name": "stdout"
        },
        {
          "output_type": "stream",
          "text": [
            "f1 score: 0.52389 \n",
            "[[155  51   9]\n",
            " [120 356   6]\n",
            " [ 37  31  11]]\n"
          ],
          "name": "stdout"
        }
      ]
    },
    {
      "cell_type": "code",
      "metadata": {
        "id": "e-kddPkcJpbc",
        "colab_type": "code",
        "outputId": "f6c7ea1a-08c5-4d3f-a219-256af86a2fa6",
        "colab": {
          "base_uri": "https://localhost:8080/",
          "height": 241
        }
      },
      "source": [
        "tvec = TfidfVectorizer(stop_words=None, max_features=100000, ngram_range=(1,2))\n",
        "model1 = LogisticRegression(solver='lbfgs')\n",
        "model2 = GradientBoostingClassifier()\n",
        "model3 = XGBClassifier()\n",
        "# create the ensemble model\n",
        "eclf1 = VotingClassifier(estimators=[('LogReg', model1), ('adaboost', model2), ('xgboost', model3)], voting='hard')\n",
        "\n",
        "ROS_pipeline = make_pipeline(tvec, RandomOverSampler(random_state=777),eclf1)\n",
        "lr_cv(ROS_pipeline,True)\n",
        "\n",
        "SMOTE_pipeline = make_pipeline(tvec, SMOTE(random_state=777),eclf1)\n",
        "lr_cv(SMOTE_pipeline,True)\n"
      ],
      "execution_count": 0,
      "outputs": [
        {
          "output_type": "stream",
          "text": [
            "f1 score: 0.54503 \n",
            "[[143  41  31]\n",
            " [103 343  36]\n",
            " [ 29  26  24]]\n"
          ],
          "name": "stdout"
        },
        {
          "output_type": "stream",
          "text": [
            "f1 score: 0.53550 \n",
            "[[166  42   7]\n",
            " [125 353   4]\n",
            " [ 38  30  11]]\n"
          ],
          "name": "stdout"
        }
      ]
    },
    {
      "cell_type": "code",
      "metadata": {
        "id": "8UdV1nb3Jpj_",
        "colab_type": "code",
        "outputId": "081bf070-ecc4-4249-c63d-fc96412a7685",
        "colab": {
          "base_uri": "https://localhost:8080/",
          "height": 241
        }
      },
      "source": [
        "tvec = TfidfVectorizer(stop_words=None, max_features=100000, ngram_range=(1,2))\n",
        "model1 = LogisticRegression(solver='lbfgs')\n",
        "model2 = AdaBoostClassifier()\n",
        "model3 = XGBClassifier()\n",
        "# create the ensemble model\n",
        "eclf1 = VotingClassifier(estimators=[('LogReg', model1), ('adaboost', model2), ('xgboost', model3)], voting='soft')\n",
        "\n",
        "ROS_pipeline = make_pipeline(tvec, RandomOverSampler(random_state=777),eclf1)\n",
        "lr_cv(ROS_pipeline,True)\n",
        "\n",
        "SMOTE_pipeline = make_pipeline(tvec, SMOTE(random_state=777),eclf1)\n",
        "lr_cv(SMOTE_pipeline,True)\n"
      ],
      "execution_count": 0,
      "outputs": [
        {
          "output_type": "stream",
          "text": [
            "f1 score: 0.56126 \n",
            "[[141  44  30]\n",
            " [ 95 373  14]\n",
            " [ 27  31  21]]\n"
          ],
          "name": "stdout"
        },
        {
          "output_type": "stream",
          "text": [
            "f1 score: 0.50848 \n",
            "[[159  47   9]\n",
            " [124 354   4]\n",
            " [ 41  30   8]]\n"
          ],
          "name": "stdout"
        }
      ]
    },
    {
      "cell_type": "code",
      "metadata": {
        "id": "8JYukUyoJpts",
        "colab_type": "code",
        "outputId": "b65f8705-05fa-47be-9b04-e353d04005a1",
        "colab": {
          "base_uri": "https://localhost:8080/",
          "height": 241
        }
      },
      "source": [
        "tvec = TfidfVectorizer(stop_words=None, max_features=100000, ngram_range=(1,2))\n",
        "model1 = LogisticRegression(solver='lbfgs')\n",
        "model2 = AdaBoostClassifier()\n",
        "model3 = XGBClassifier()\n",
        "# create the ensemble model\n",
        "eclf1 = VotingClassifier(estimators=[('LogReg', model1), ('adaboost', model2), ('xgboost', model3)], voting='hard')\n",
        "\n",
        "ROS_pipeline = make_pipeline(tvec, RandomOverSampler(random_state=777),eclf1)\n",
        "lr_cv(ROS_pipeline,True)\n",
        "\n",
        "SMOTE_pipeline = make_pipeline(tvec, SMOTE(random_state=777),eclf1)\n",
        "lr_cv(SMOTE_pipeline,True)\n"
      ],
      "execution_count": 0,
      "outputs": [
        {
          "output_type": "stream",
          "text": [
            "f1 score: 0.52483 \n",
            "[[139  41  35]\n",
            " [103 336  43]\n",
            " [ 32  25  22]]\n"
          ],
          "name": "stdout"
        },
        {
          "output_type": "stream",
          "text": [
            "f1 score: 0.50136 \n",
            "[[160  40  15]\n",
            " [128 346   8]\n",
            " [ 42  29   8]]\n"
          ],
          "name": "stdout"
        }
      ]
    }
  ]
}